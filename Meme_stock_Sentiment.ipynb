{
  "nbformat": 4,
  "nbformat_minor": 0,
  "metadata": {
    "colab": {
      "name": "Meme-stock_Sentiment.ipynb",
      "provenance": [],
      "collapsed_sections": [
        "lWR7Cad3VQBA",
        "LjneBCfnkXFI",
        "grION0q0mFcb",
        "Aalt85F9ujQ-"
      ],
      "include_colab_link": true
    },
    "kernelspec": {
      "name": "python3",
      "display_name": "Python 3"
    }
  },
  "cells": [
    {
      "cell_type": "markdown",
      "metadata": {
        "id": "view-in-github",
        "colab_type": "text"
      },
      "source": [
        "<a href=\"https://colab.research.google.com/github/joannarashid/early_memestock_detect/blob/main/Meme_stock_Sentiment.ipynb\" target=\"_parent\"><img src=\"https://colab.research.google.com/assets/colab-badge.svg\" alt=\"Open In Colab\"/></a>"
      ]
    },
    {
      "cell_type": "markdown",
      "metadata": {
        "id": "sDyLERqgyopA"
      },
      "source": [
        "# Meme-stock Predictive Model Using Sentiment Analysis\n",
        "\n",
        "Contributors: Yousif Alnuaimi, Oscar Alonso, Ricardo Gomez, Joanna Rashid"
      ]
    },
    {
      "cell_type": "markdown",
      "metadata": {
        "id": "aJ9zgB37DQ_X"
      },
      "source": [
        "\n",
        "\n",
        "---\n",
        "**Abstract**\n",
        "\n",
        "Social media investment communities are having an appreciable effect on stock prices.  In this project, text analysis of Twitter, Reddit, and other social media post data is used to determine the stocks which are most frequently mentioned.  A polarity score assigned to each post using sentiment analysis is used to create a regression model to predict stock price.  \n",
        "\n",
        "**Approach to the project**\n",
        "\n",
        "Post data will be scrapped or downloaded from several social media groups or platforms with active investment communities (Twitter, Reddit, Discord, etc.).  Various natural language processing (NLP) packages will be tested to create a polarity time-series graph.  These packages may include NLTK, TextBlob, Syuzhet, Polyglot, CoreNLP, Gensim, and skLearn.  The package that produces a polarity curve most closely aligned to the daily stock price will be selected to generate post polarity scores.  To improve polarity score accuracy, a custom dictionary with investor-specific terms will be created.  A regression model (regressing polarity scores on stock price) will be used to predict the meme-stock’s price.  The model will be trained on previous meme stocks using 70-80% of post data.  The remaining data will be reserved to test the model.  Previous meme stocks used in this project will include but not be limited to GameStop, AMC, BlackBerry, TillRay, and Hertz.  We will consider other models such as SVM if linear regression does not prove accurate.\n",
        "  \n",
        "\n",
        "Current Project to do list as of 2/25/21: https://docs.google.com/document/d/1G0eaBwC6y2nl5YlFWXhW8jGyBD2FpUFEPzDbwOE5vFE/edit?usp=sharing\n",
        "\n",
        "\n",
        "\n"
      ]
    },
    {
      "cell_type": "code",
      "metadata": {
        "id": "RCR9UAsfVcR2",
        "colab": {
          "base_uri": "https://localhost:8080/"
        },
        "outputId": "f37b6c4b-5e0d-4c72-fd8e-0755c5bf24d3"
      },
      "source": [
        "import pandas as pd\n",
        "import matplotlib\n",
        "import matplotlib.pyplot as plt\n",
        "import seaborn as sns\n",
        "import numpy as np\n",
        "import datetime\n",
        "\n",
        "#NLP\n",
        "import nltk\n",
        "from textblob import TextBlob\n",
        "import textblob.classifiers\n",
        "from nltk.tokenize import sent_tokenize\n",
        "import nltk\n",
        "nltk.download('punkt')\n",
        "nltk.download('stopwords')\n",
        "\n",
        "from textblob.classifiers import NaiveBayesClassifier"
      ],
      "execution_count": null,
      "outputs": [
        {
          "output_type": "stream",
          "text": [
            "[nltk_data] Downloading package punkt to /root/nltk_data...\n",
            "[nltk_data]   Package punkt is already up-to-date!\n",
            "[nltk_data] Downloading package stopwords to /root/nltk_data...\n",
            "[nltk_data]   Package stopwords is already up-to-date!\n"
          ],
          "name": "stdout"
        }
      ]
    },
    {
      "cell_type": "markdown",
      "metadata": {
        "id": "tt8KuUS9zKy0"
      },
      "source": [
        "# WSB Preliminary Working Data\n",
        "\n",
        "This is the test data on which the modeling was done.  Oscar and Joanna used this data to make and test predictive models.  In parallel Ricardo and Yousif procured and cleaned the larger data set seen in the next section."
      ]
    },
    {
      "cell_type": "code",
      "metadata": {
        "id": "R50DHIOwg2dC"
      },
      "source": [
        "#data is hosted on github for ease of use of this notebook by multiple users\n",
        "url = 'https://raw.githubusercontent.com/joannarashid/early_memestock_detect/main/reddit.csv'\n",
        "df = pd.read_csv(url, sep = ',')"
      ],
      "execution_count": null,
      "outputs": []
    },
    {
      "cell_type": "code",
      "metadata": {
        "colab": {
          "base_uri": "https://localhost:8080/"
        },
        "id": "iyZ6BXEg1rE9",
        "outputId": "72bb3908-4a2c-4e4f-87f2-e68fffd14368"
      },
      "source": [
        "df.info()"
      ],
      "execution_count": null,
      "outputs": [
        {
          "output_type": "stream",
          "text": [
            "<class 'pandas.core.frame.DataFrame'>\n",
            "RangeIndex: 2925 entries, 0 to 2924\n",
            "Data columns (total 7 columns):\n",
            " #   Column        Non-Null Count  Dtype \n",
            "---  ------        --------------  ----- \n",
            " 0   title         2925 non-null   object\n",
            " 1   score         2925 non-null   int64 \n",
            " 2   subreddit     2925 non-null   object\n",
            " 3   url           2925 non-null   object\n",
            " 4   num_comments  2925 non-null   int64 \n",
            " 5   body          2076 non-null   object\n",
            " 6   date          2925 non-null   object\n",
            "dtypes: int64(2), object(5)\n",
            "memory usage: 160.1+ KB\n"
          ],
          "name": "stdout"
        }
      ]
    },
    {
      "cell_type": "code",
      "metadata": {
        "colab": {
          "base_uri": "https://localhost:8080/",
          "height": 289
        },
        "id": "wIN5AdTO4s7_",
        "outputId": "c0420978-09e5-4f8f-fdb2-864cd3be3806"
      },
      "source": [
        "df.head()"
      ],
      "execution_count": null,
      "outputs": [
        {
          "output_type": "execute_result",
          "data": {
            "text/html": [
              "<div>\n",
              "<style scoped>\n",
              "    .dataframe tbody tr th:only-of-type {\n",
              "        vertical-align: middle;\n",
              "    }\n",
              "\n",
              "    .dataframe tbody tr th {\n",
              "        vertical-align: top;\n",
              "    }\n",
              "\n",
              "    .dataframe thead th {\n",
              "        text-align: right;\n",
              "    }\n",
              "</style>\n",
              "<table border=\"1\" class=\"dataframe\">\n",
              "  <thead>\n",
              "    <tr style=\"text-align: right;\">\n",
              "      <th></th>\n",
              "      <th>title</th>\n",
              "      <th>score</th>\n",
              "      <th>subreddit</th>\n",
              "      <th>url</th>\n",
              "      <th>num_comments</th>\n",
              "      <th>body</th>\n",
              "      <th>date</th>\n",
              "    </tr>\n",
              "  </thead>\n",
              "  <tbody>\n",
              "    <tr>\n",
              "      <th>0</th>\n",
              "      <td>UPVOTE so everyone sees we got SUPPORT</td>\n",
              "      <td>265029</td>\n",
              "      <td>wallstreetbets</td>\n",
              "      <td>https://i.redd.it/sgoqy8nyt2e61.png</td>\n",
              "      <td>11825</td>\n",
              "      <td>NaN</td>\n",
              "      <td>2021-01-29 00:40:34</td>\n",
              "    </tr>\n",
              "    <tr>\n",
              "      <th>1</th>\n",
              "      <td>GME YOLO update — Jan 28 2021</td>\n",
              "      <td>230844</td>\n",
              "      <td>wallstreetbets</td>\n",
              "      <td>https://i.redd.it/opzucppb15e61.png</td>\n",
              "      <td>23532</td>\n",
              "      <td>NaN</td>\n",
              "      <td>2021-01-29 08:06:23</td>\n",
              "    </tr>\n",
              "    <tr>\n",
              "      <th>2</th>\n",
              "      <td>CLASS ACTION AGAINST ROBINHOOD. Allowing peopl...</td>\n",
              "      <td>204920</td>\n",
              "      <td>wallstreetbets</td>\n",
              "      <td>https://www.reddit.com/r/wallstreetbets/commen...</td>\n",
              "      <td>18318</td>\n",
              "      <td>LEAVE ROBINHOOD. They dont deserve to make mon...</td>\n",
              "      <td>2021-01-29 00:49:11</td>\n",
              "    </tr>\n",
              "    <tr>\n",
              "      <th>3</th>\n",
              "      <td>GME YOLO update — Jan 27 2021 ----------------...</td>\n",
              "      <td>185949</td>\n",
              "      <td>wallstreetbets</td>\n",
              "      <td>https://i.redd.it/a309gkm5yxd61.png</td>\n",
              "      <td>15495</td>\n",
              "      <td>NaN</td>\n",
              "      <td>2021-01-28 08:15:35</td>\n",
              "    </tr>\n",
              "    <tr>\n",
              "      <th>4</th>\n",
              "      <td>Can we all take a moment and appreciate the Mo...</td>\n",
              "      <td>184517</td>\n",
              "      <td>wallstreetbets</td>\n",
              "      <td>https://www.reddit.com/r/wallstreetbets/commen...</td>\n",
              "      <td>7105</td>\n",
              "      <td>NaN</td>\n",
              "      <td>2021-01-28 11:57:32</td>\n",
              "    </tr>\n",
              "  </tbody>\n",
              "</table>\n",
              "</div>"
            ],
            "text/plain": [
              "                                               title  ...                 date\n",
              "0             UPVOTE so everyone sees we got SUPPORT  ...  2021-01-29 00:40:34\n",
              "1                      GME YOLO update — Jan 28 2021  ...  2021-01-29 08:06:23\n",
              "2  CLASS ACTION AGAINST ROBINHOOD. Allowing peopl...  ...  2021-01-29 00:49:11\n",
              "3  GME YOLO update — Jan 27 2021 ----------------...  ...  2021-01-28 08:15:35\n",
              "4  Can we all take a moment and appreciate the Mo...  ...  2021-01-28 11:57:32\n",
              "\n",
              "[5 rows x 7 columns]"
            ]
          },
          "metadata": {
            "tags": []
          },
          "execution_count": 6
        }
      ]
    },
    {
      "cell_type": "code",
      "metadata": {
        "id": "icWYv0N4fmRE",
        "colab": {
          "base_uri": "https://localhost:8080/",
          "height": 589
        },
        "outputId": "8d55db69-20ad-4812-958f-1460d357bc71"
      },
      "source": [
        "# Data Cleaning \n",
        "df['body'] = df['body'].astype(str) # converts the post body to strings\n",
        "df['body'].str.lower() # converts the post body to lower case\n",
        "df['title'] = df['title'].astype(str) # converts the post titles to strings\n",
        "df['title'].str.lower() # converts the post titles to lower case\n",
        "\n",
        "df['post'] = df['title'] + ' ' + df['body'] # combines the text in the title with the text body\n",
        "\n",
        "df['timestamp'] = pd.to_datetime(df['date']) # converts timestamp into date/time format\n",
        "\n",
        "df.drop(['date'], axis=1, inplace=True) #drop uneeded date column\n",
        "df.drop(['subreddit'], axis=1, inplace=True) #drop uneeded column\n",
        "df.drop(['url'], axis=1, inplace=True) #drop uneeded column\n",
        "\n",
        "#Creates new colunmn from timestamp that contains only date - no time (useful for later joins)\n",
        "df['date'] = df['timestamp'].dt.date\n",
        "\n",
        "df.dropna() #drops all nulls and nans"
      ],
      "execution_count": null,
      "outputs": [
        {
          "output_type": "execute_result",
          "data": {
            "text/html": [
              "<div>\n",
              "<style scoped>\n",
              "    .dataframe tbody tr th:only-of-type {\n",
              "        vertical-align: middle;\n",
              "    }\n",
              "\n",
              "    .dataframe tbody tr th {\n",
              "        vertical-align: top;\n",
              "    }\n",
              "\n",
              "    .dataframe thead th {\n",
              "        text-align: right;\n",
              "    }\n",
              "</style>\n",
              "<table border=\"1\" class=\"dataframe\">\n",
              "  <thead>\n",
              "    <tr style=\"text-align: right;\">\n",
              "      <th></th>\n",
              "      <th>title</th>\n",
              "      <th>score</th>\n",
              "      <th>num_comments</th>\n",
              "      <th>body</th>\n",
              "      <th>post</th>\n",
              "      <th>timestamp</th>\n",
              "      <th>date</th>\n",
              "    </tr>\n",
              "  </thead>\n",
              "  <tbody>\n",
              "    <tr>\n",
              "      <th>0</th>\n",
              "      <td>UPVOTE so everyone sees we got SUPPORT</td>\n",
              "      <td>265029</td>\n",
              "      <td>11825</td>\n",
              "      <td>nan</td>\n",
              "      <td>UPVOTE so everyone sees we got SUPPORT nan</td>\n",
              "      <td>2021-01-29 00:40:34</td>\n",
              "      <td>2021-01-29</td>\n",
              "    </tr>\n",
              "    <tr>\n",
              "      <th>1</th>\n",
              "      <td>GME YOLO update — Jan 28 2021</td>\n",
              "      <td>230844</td>\n",
              "      <td>23532</td>\n",
              "      <td>nan</td>\n",
              "      <td>GME YOLO update — Jan 28 2021 nan</td>\n",
              "      <td>2021-01-29 08:06:23</td>\n",
              "      <td>2021-01-29</td>\n",
              "    </tr>\n",
              "    <tr>\n",
              "      <th>2</th>\n",
              "      <td>CLASS ACTION AGAINST ROBINHOOD. Allowing peopl...</td>\n",
              "      <td>204920</td>\n",
              "      <td>18318</td>\n",
              "      <td>LEAVE ROBINHOOD. They dont deserve to make mon...</td>\n",
              "      <td>CLASS ACTION AGAINST ROBINHOOD. Allowing peopl...</td>\n",
              "      <td>2021-01-29 00:49:11</td>\n",
              "      <td>2021-01-29</td>\n",
              "    </tr>\n",
              "    <tr>\n",
              "      <th>3</th>\n",
              "      <td>GME YOLO update — Jan 27 2021 ----------------...</td>\n",
              "      <td>185949</td>\n",
              "      <td>15495</td>\n",
              "      <td>nan</td>\n",
              "      <td>GME YOLO update — Jan 27 2021 ----------------...</td>\n",
              "      <td>2021-01-28 08:15:35</td>\n",
              "      <td>2021-01-28</td>\n",
              "    </tr>\n",
              "    <tr>\n",
              "      <th>4</th>\n",
              "      <td>Can we all take a moment and appreciate the Mo...</td>\n",
              "      <td>184517</td>\n",
              "      <td>7105</td>\n",
              "      <td>nan</td>\n",
              "      <td>Can we all take a moment and appreciate the Mo...</td>\n",
              "      <td>2021-01-28 11:57:32</td>\n",
              "      <td>2021-01-28</td>\n",
              "    </tr>\n",
              "    <tr>\n",
              "      <th>...</th>\n",
              "      <td>...</td>\n",
              "      <td>...</td>\n",
              "      <td>...</td>\n",
              "      <td>...</td>\n",
              "      <td>...</td>\n",
              "      <td>...</td>\n",
              "      <td>...</td>\n",
              "    </tr>\n",
              "    <tr>\n",
              "      <th>2920</th>\n",
              "      <td>DID WE MISS THE BOTTOM?! How are people this i...</td>\n",
              "      <td>348</td>\n",
              "      <td>283</td>\n",
              "      <td>My mind is blown that so many people are convi...</td>\n",
              "      <td>DID WE MISS THE BOTTOM?! How are people this i...</td>\n",
              "      <td>2020-04-15 17:03:23</td>\n",
              "      <td>2020-04-15</td>\n",
              "    </tr>\n",
              "    <tr>\n",
              "      <th>2921</th>\n",
              "      <td>Favorite Solar Stock(s)?</td>\n",
              "      <td>348</td>\n",
              "      <td>176</td>\n",
              "      <td>Hey there, I was wondering what everyone's pre...</td>\n",
              "      <td>Favorite Solar Stock(s)? Hey there, I was wond...</td>\n",
              "      <td>2020-11-02 10:46:49</td>\n",
              "      <td>2020-11-02</td>\n",
              "    </tr>\n",
              "    <tr>\n",
              "      <th>2922</th>\n",
              "      <td>\"NIO forms battery asset company\"</td>\n",
              "      <td>352</td>\n",
              "      <td>102</td>\n",
              "      <td>Nio has now launched \"baas\" they places over 1...</td>\n",
              "      <td>\"NIO forms battery asset company\" Nio has now ...</td>\n",
              "      <td>2020-08-20 23:02:48</td>\n",
              "      <td>2020-08-20</td>\n",
              "    </tr>\n",
              "    <tr>\n",
              "      <th>2923</th>\n",
              "      <td>Amazon is building a $1.5 billion hub for its ...</td>\n",
              "      <td>349</td>\n",
              "      <td>145</td>\n",
              "      <td>Need another sign that Amazon is dead serious ...</td>\n",
              "      <td>Amazon is building a $1.5 billion hub for its ...</td>\n",
              "      <td>2017-02-02 03:35:04</td>\n",
              "      <td>2017-02-02</td>\n",
              "    </tr>\n",
              "    <tr>\n",
              "      <th>2924</th>\n",
              "      <td>Weed legalized in Canada!</td>\n",
              "      <td>356</td>\n",
              "      <td>138</td>\n",
              "      <td>What are you guys thinking about this move, I ...</td>\n",
              "      <td>Weed legalized in Canada! What are you guys th...</td>\n",
              "      <td>2018-06-21 04:38:32</td>\n",
              "      <td>2018-06-21</td>\n",
              "    </tr>\n",
              "  </tbody>\n",
              "</table>\n",
              "<p>2925 rows × 7 columns</p>\n",
              "</div>"
            ],
            "text/plain": [
              "                                                  title  ...        date\n",
              "0                UPVOTE so everyone sees we got SUPPORT  ...  2021-01-29\n",
              "1                         GME YOLO update — Jan 28 2021  ...  2021-01-29\n",
              "2     CLASS ACTION AGAINST ROBINHOOD. Allowing peopl...  ...  2021-01-29\n",
              "3     GME YOLO update — Jan 27 2021 ----------------...  ...  2021-01-28\n",
              "4     Can we all take a moment and appreciate the Mo...  ...  2021-01-28\n",
              "...                                                 ...  ...         ...\n",
              "2920  DID WE MISS THE BOTTOM?! How are people this i...  ...  2020-04-15\n",
              "2921                           Favorite Solar Stock(s)?  ...  2020-11-02\n",
              "2922                  \"NIO forms battery asset company\"  ...  2020-08-20\n",
              "2923  Amazon is building a $1.5 billion hub for its ...  ...  2017-02-02\n",
              "2924                          Weed legalized in Canada!  ...  2018-06-21\n",
              "\n",
              "[2925 rows x 7 columns]"
            ]
          },
          "metadata": {
            "tags": []
          },
          "execution_count": 7
        }
      ]
    },
    {
      "cell_type": "code",
      "metadata": {
        "id": "yhVnBuICpCy9"
      },
      "source": [
        "# new df from orginal df filtering for mentions of GameStop\n",
        "GME = [\"GME\", \"$GME\", \"Gamestop\", \"gamestop\"]\n",
        "df_GME = df[df['post'].str.contains('GME')]"
      ],
      "execution_count": null,
      "outputs": []
    },
    {
      "cell_type": "code",
      "metadata": {
        "colab": {
          "base_uri": "https://localhost:8080/"
        },
        "id": "1tsrjyF74b7k",
        "outputId": "5b511af1-7b89-47d2-b44f-be8af67fe26e"
      },
      "source": [
        "df_GME.info()"
      ],
      "execution_count": null,
      "outputs": [
        {
          "output_type": "stream",
          "text": [
            "<class 'pandas.core.frame.DataFrame'>\n",
            "Int64Index: 160 entries, 1 to 2858\n",
            "Data columns (total 7 columns):\n",
            " #   Column        Non-Null Count  Dtype         \n",
            "---  ------        --------------  -----         \n",
            " 0   title         160 non-null    object        \n",
            " 1   score         160 non-null    int64         \n",
            " 2   num_comments  160 non-null    int64         \n",
            " 3   body          160 non-null    object        \n",
            " 4   post          160 non-null    object        \n",
            " 5   timestamp     160 non-null    datetime64[ns]\n",
            " 6   date          160 non-null    object        \n",
            "dtypes: datetime64[ns](1), int64(2), object(4)\n",
            "memory usage: 10.0+ KB\n"
          ],
          "name": "stdout"
        }
      ]
    },
    {
      "cell_type": "code",
      "metadata": {
        "id": "U4LXLcjKVz4x"
      },
      "source": [
        ""
      ],
      "execution_count": null,
      "outputs": []
    },
    {
      "cell_type": "markdown",
      "metadata": {
        "id": "lWR7Cad3VQBA"
      },
      "source": [
        "## Most frequent words in WSB posts\n",
        "\n",
        "used to scout common custom terms"
      ]
    },
    {
      "cell_type": "code",
      "metadata": {
        "id": "6NNCvS0fbKgM"
      },
      "source": [
        "#new data frame with only the post text\n",
        "df_words = df['post']"
      ],
      "execution_count": null,
      "outputs": []
    },
    {
      "cell_type": "code",
      "metadata": {
        "id": "ZCqA1OJKm9Z9"
      },
      "source": [
        "#Cleaning data into a temporary variable\n",
        "temp = df.post.str.lower().str.replace(r'\\|', ' ').str.cat(sep=' ')"
      ],
      "execution_count": null,
      "outputs": []
    },
    {
      "cell_type": "code",
      "metadata": {
        "id": "8jYA6lrjkuxY"
      },
      "source": [
        "# define punctuation\n",
        "punctuations = '''!()-[]{};:'\"\\,<>./?@#$%^&*_~'''\n",
        "\n",
        "# remove punctuation from the  temporary string with all the post text\n",
        "txt = \"\"\n",
        "for char in temp:\n",
        "   if char not in punctuations:\n",
        "       txt = txt + char\n"
      ],
      "execution_count": null,
      "outputs": []
    },
    {
      "cell_type": "code",
      "metadata": {
        "id": "ieVLGwn6VYdk"
      },
      "source": [
        "#tokenizing the works\n",
        "all_words = nltk.tokenize.word_tokenize(txt)\n",
        "\n",
        "#creating a frequency table\n",
        "word_dist = nltk.FreqDist(all_words)\n",
        "\n",
        "#eliminating stopwords\n",
        "stopwords = nltk.corpus.stopwords.words('english')\n",
        "words = nltk.FreqDist(w for w in all_words if w not in stopwords) "
      ],
      "execution_count": null,
      "outputs": []
    },
    {
      "cell_type": "code",
      "metadata": {
        "id": "LaGtFuhXp1DS"
      },
      "source": [
        "#creating new df with words and their relative frequency\n",
        "df_common_words = pd.DataFrame(words.most_common(100),\n",
        "                    columns=['Word', 'Frequency']).set_index('Word')"
      ],
      "execution_count": null,
      "outputs": []
    },
    {
      "cell_type": "code",
      "metadata": {
        "colab": {
          "base_uri": "https://localhost:8080/",
          "height": 448
        },
        "id": "iI837dYppisz",
        "outputId": "80d12100-0122-441f-bf6d-6fcce255f8cf"
      },
      "source": [
        "#plotting most common word frequency\n",
        "df_common_words.plot.bar(figsize=(12,6))"
      ],
      "execution_count": null,
      "outputs": [
        {
          "output_type": "execute_result",
          "data": {
            "text/plain": [
              "<matplotlib.axes._subplots.AxesSubplot at 0x7f101f531210>"
            ]
          },
          "metadata": {
            "tags": []
          },
          "execution_count": 21
        },
        {
          "output_type": "display_data",
          "data": {
            "image/png": "[encoded data removed]",
            "text/plain": [
              "<Figure size 864x432 with 1 Axes>"
            ]
          },
          "metadata": {
            "tags": [],
            "needs_background": "light"
          }
        }
      ]
    },
    {
      "cell_type": "code",
      "metadata": {
        "id": "7-Kl94adod-c"
      },
      "source": [
        "#exporting most common words to explore in excel\n",
        "df_common_words.to_csv(\"WSB_most_common_words\")"
      ],
      "execution_count": null,
      "outputs": []
    },
    {
      "cell_type": "markdown",
      "metadata": {
        "id": "llAbEuVp7vn8"
      },
      "source": [
        "### To Do: compare words against dictionary containing {ticker:name, name, name} to find companies mosty posted about."
      ]
    },
    {
      "cell_type": "markdown",
      "metadata": {
        "id": "LjneBCfnkXFI"
      },
      "source": [
        "# More WSB Data (Added 4/13/21)\n",
        "## New dataframes: **wsb_df** & **wsb_extra_df**\n",
        "\n",
        "New dataframes use datafiles from below.\n",
        "\n",
        "\n",
        "1.   **wsb_df** contains: 'title', 'body', & 'timestamp'\n",
        "2.   **wsb_extra_df** adds: lower case versions of title/body, word count for title/body, hashtags mentioned in title/body, & tickers mentioned in title/body \n",
        "\n",
        "Note:\n",
        "- ticker mentioned has an issue where the function also extracts dollar amounts like $34289.32 etc.  \n",
        "\n",
        "Permalinks to datafiles below:\n",
        "- submissions_reddit-1.csv: https://raw.githubusercontent.com/gricardo831/Final-Project-Data/main/submissions_reddit_0.csv\n",
        "- submissions_reddit-2.csv: https://raw.githubusercontent.com/gricardo831/Final-Project-Data/main/submissions_reddit_1.csv\n",
        "- comments_2021-1-1_2021-11-29_new.csv: https://raw.githubusercontent.com/gricardo831/Final-Project-Data/main/comments_2021-1-1_2021-11-29_new.csv\n",
        "- reddit_wsb.csv: https://raw.githubusercontent.com/gricardo831/Final-Project-Data/main/reddit_wsb.csv\n",
        "- reddit.csv: https://raw.githubusercontent.com/gricardo831/Final-Project-Data/main/reddit.csv\n"
      ]
    },
    {
      "cell_type": "code",
      "metadata": {
        "colab": {
          "base_uri": "https://localhost:8080/",
          "height": 204
        },
        "id": "VkuYvSknlocm",
        "outputId": "5f5fbeb6-4b8c-4d7c-b749-8b020e4769ec"
      },
      "source": [
        "# Data 2: \"submissions_reddit\" data\n",
        "\n",
        "# Github permalinks for Cloud use\n",
        "submissions_reddit_1_url = 'https://raw.githubusercontent.com/gricardo831/Final-Project-Data/main/submissions_reddit_0.csv'\n",
        "submissions_reddit_2_url = 'https://raw.githubusercontent.com/gricardo831/Final-Project-Data/main/submissions_reddit_1.csv'\n",
        "\n",
        "# Creates dataframes for both, will have to combine into 1\n",
        "df0a = pd.read_csv(submissions_reddit_1_url, sep=',')\n",
        "df0b = pd.read_csv(submissions_reddit_2_url, sep=',', header=None)\n",
        "\n",
        "# df0b has no column names, need to assign for easy merge\n",
        "df0b.columns = ['id', 'author', 'created', 'retrieved', 'edited', 'pinned', 'archived', 'locked', 'removed',\n",
        "                'deleted', 'is_self', 'is_video', 'is_original_content',\n",
        "                'title', 'link_flair_text', 'upvote_ratio', 'score', 'gilded',\n",
        "                'total_awards_received', 'num_comments', 'num_crossposts',\n",
        "                'selftext', 'thumbnail', 'shortlink'] \n",
        "\n",
        "# Combines df0a and df0b into one dataframe data2\n",
        "submissions_frames = [df0a, df0b]\n",
        "data2 = pd.concat(submissions_frames)\n",
        "\n",
        "# Data cleaning, converting data2 to a cleaned d2\n",
        "data2.replace('[deleted]', np.nan, inplace =True)\n",
        "d2 = data2[['title', 'selftext', 'created']]\n",
        "d2.columns = ['title', 'body', 'timestamp'] # Renames columns\n",
        "\n",
        "# Final df for Data 2. Ready for merge.\n",
        "d2.head()"
      ],
      "execution_count": null,
      "outputs": [
        {
          "output_type": "execute_result",
          "data": {
            "text/html": [
              "<div>\n",
              "<style scoped>\n",
              "    .dataframe tbody tr th:only-of-type {\n",
              "        vertical-align: middle;\n",
              "    }\n",
              "\n",
              "    .dataframe tbody tr th {\n",
              "        vertical-align: top;\n",
              "    }\n",
              "\n",
              "    .dataframe thead th {\n",
              "        text-align: right;\n",
              "    }\n",
              "</style>\n",
              "<table border=\"1\" class=\"dataframe\">\n",
              "  <thead>\n",
              "    <tr style=\"text-align: right;\">\n",
              "      <th></th>\n",
              "      <th>title</th>\n",
              "      <th>body</th>\n",
              "      <th>timestamp</th>\n",
              "    </tr>\n",
              "  </thead>\n",
              "  <tbody>\n",
              "    <tr>\n",
              "      <th>0</th>\n",
              "      <td>3k - 170k since March (Also, buy LIT!!)</td>\n",
              "      <td>NaN</td>\n",
              "      <td>2021-01-01 00:02:06</td>\n",
              "    </tr>\n",
              "    <tr>\n",
              "      <th>1</th>\n",
              "      <td>Got out of PLTR calls after learning about IV ...</td>\n",
              "      <td>NaN</td>\n",
              "      <td>2021-01-01 00:03:20</td>\n",
              "    </tr>\n",
              "    <tr>\n",
              "      <th>2</th>\n",
              "      <td>Hell of a headline</td>\n",
              "      <td>NaN</td>\n",
              "      <td>2021-01-01 00:04:11</td>\n",
              "    </tr>\n",
              "    <tr>\n",
              "      <th>3</th>\n",
              "      <td>Top popular stocks on WSB too! Also, why they ...</td>\n",
              "      <td>NaN</td>\n",
              "      <td>2021-01-01 00:11:51</td>\n",
              "    </tr>\n",
              "    <tr>\n",
              "      <th>4</th>\n",
              "      <td>WSBVoteBot Log for Jan 01 2021</td>\n",
              "      <td>Every time a new submission is posted to walls...</td>\n",
              "      <td>2021-01-01 00:15:38</td>\n",
              "    </tr>\n",
              "  </tbody>\n",
              "</table>\n",
              "</div>"
            ],
            "text/plain": [
              "                                               title  ...            timestamp\n",
              "0            3k - 170k since March (Also, buy LIT!!)  ...  2021-01-01 00:02:06\n",
              "1  Got out of PLTR calls after learning about IV ...  ...  2021-01-01 00:03:20\n",
              "2                                 Hell of a headline  ...  2021-01-01 00:04:11\n",
              "3  Top popular stocks on WSB too! Also, why they ...  ...  2021-01-01 00:11:51\n",
              "4                     WSBVoteBot Log for Jan 01 2021  ...  2021-01-01 00:15:38\n",
              "\n",
              "[5 rows x 3 columns]"
            ]
          },
          "metadata": {
            "tags": []
          },
          "execution_count": 2
        }
      ]
    },
    {
      "cell_type": "code",
      "metadata": {
        "colab": {
          "base_uri": "https://localhost:8080/",
          "height": 309
        },
        "id": "TmjTgLi3oOZ4",
        "outputId": "876351b6-2de9-4a71-a6d1-88f6b697af18"
      },
      "source": [
        "# Data 3: \"comments_2021-1-1_2021-11-29_new\" data\n",
        "\n",
        "# Github permalink for Cloud use\n",
        "comments_url = 'https://raw.githubusercontent.com/gricardo831/Final-Project-Data/main/comments_2021-1-1_2021-11-29_new.csv'\n",
        "\n",
        "# Creates dataframe\n",
        "data3 = pd.read_csv(comments_url, sep=',')\n",
        "\n",
        "# Function for converting 10 digit time format into timestamp \n",
        "def time_conversion(time):\n",
        "    return datetime.datetime.fromtimestamp(\n",
        "        int(time)\n",
        "    ).strftime('%Y-%m-%d %H:%M:%S')\n",
        "\n",
        "# Apply time_conversion function to column 'Time', creating 'timestamp' column\n",
        "data3['timestamp'] = data3['Time'].apply(lambda x: time_conversion(x))\n",
        "\n",
        "# Creates data3_con which selects needed columns and renames them for consistency across dfs\n",
        "data3_con = data3[['Body', 'timestamp']]\n",
        "data3_con.columns = ['body', 'timestamp']\n",
        "\n",
        "# Creates 'title' column with NaN values since original data contains comments only not full posts\n",
        "data3_con['title'] = np.nan\n",
        "d3 = data3_con[['title', 'body', 'timestamp']]\n",
        "\n",
        "# Final df for Data 3. Ready for merge.\n",
        "d3.head()"
      ],
      "execution_count": null,
      "outputs": [
        {
          "output_type": "stream",
          "text": [
            "/usr/local/lib/python3.7/dist-packages/ipykernel_launcher.py:23: SettingWithCopyWarning: \n",
            "A value is trying to be set on a copy of a slice from a DataFrame.\n",
            "Try using .loc[row_indexer,col_indexer] = value instead\n",
            "\n",
            "See the caveats in the documentation: https://pandas.pydata.org/pandas-docs/stable/user_guide/indexing.html#returning-a-view-versus-a-copy\n"
          ],
          "name": "stderr"
        },
        {
          "output_type": "execute_result",
          "data": {
            "text/html": [
              "<div>\n",
              "<style scoped>\n",
              "    .dataframe tbody tr th:only-of-type {\n",
              "        vertical-align: middle;\n",
              "    }\n",
              "\n",
              "    .dataframe tbody tr th {\n",
              "        vertical-align: top;\n",
              "    }\n",
              "\n",
              "    .dataframe thead th {\n",
              "        text-align: right;\n",
              "    }\n",
              "</style>\n",
              "<table border=\"1\" class=\"dataframe\">\n",
              "  <thead>\n",
              "    <tr style=\"text-align: right;\">\n",
              "      <th></th>\n",
              "      <th>title</th>\n",
              "      <th>body</th>\n",
              "      <th>timestamp</th>\n",
              "    </tr>\n",
              "  </thead>\n",
              "  <tbody>\n",
              "    <tr>\n",
              "      <th>0</th>\n",
              "      <td>NaN</td>\n",
              "      <td>gay</td>\n",
              "      <td>2021-01-01 11:00:34</td>\n",
              "    </tr>\n",
              "    <tr>\n",
              "      <th>1</th>\n",
              "      <td>NaN</td>\n",
              "      <td>Daily discussion? About whattt</td>\n",
              "      <td>2021-01-01 11:01:05</td>\n",
              "    </tr>\n",
              "    <tr>\n",
              "      <th>2</th>\n",
              "      <td>NaN</td>\n",
              "      <td>PLTR 100 2022</td>\n",
              "      <td>2021-01-01 11:01:06</td>\n",
              "    </tr>\n",
              "    <tr>\n",
              "      <th>3</th>\n",
              "      <td>NaN</td>\n",
              "      <td>Twenty twenty won.</td>\n",
              "      <td>2021-01-01 11:01:53</td>\n",
              "    </tr>\n",
              "    <tr>\n",
              "      <th>4</th>\n",
              "      <td>NaN</td>\n",
              "      <td>So Mark, how's your sex life?</td>\n",
              "      <td>2021-01-01 11:02:10</td>\n",
              "    </tr>\n",
              "  </tbody>\n",
              "</table>\n",
              "</div>"
            ],
            "text/plain": [
              "   title                            body            timestamp\n",
              "0    NaN                             gay  2021-01-01 11:00:34\n",
              "1    NaN  Daily discussion? About whattt  2021-01-01 11:01:05\n",
              "2    NaN                   PLTR 100 2022  2021-01-01 11:01:06\n",
              "3    NaN              Twenty twenty won.  2021-01-01 11:01:53\n",
              "4    NaN   So Mark, how's your sex life?  2021-01-01 11:02:10"
            ]
          },
          "metadata": {
            "tags": []
          },
          "execution_count": 3
        }
      ]
    },
    {
      "cell_type": "code",
      "metadata": {
        "colab": {
          "base_uri": "https://localhost:8080/",
          "height": 204
        },
        "id": "K-LUHQY-rat_",
        "outputId": "45815e46-d854-416e-e2ae-7d11bdaf37f6"
      },
      "source": [
        "# Data 4: \"reddit_wsb\" data\n",
        "\n",
        "# Github permalink for Cloud use\n",
        "reddit_wsb_url = 'https://raw.githubusercontent.com/gricardo831/Final-Project-Data/main/reddit_wsb.csv'\n",
        "\n",
        "# Creates dataframe\n",
        "data4 = pd.read_csv(reddit_wsb_url, sep=',')\n",
        "\n",
        "# Selecting need columns to create d4\n",
        "d4 = data4[['title', 'body', 'timestamp']]\n",
        "\n",
        "# Final df for Data 4. Ready for merge.\n",
        "d4.head()"
      ],
      "execution_count": null,
      "outputs": [
        {
          "output_type": "execute_result",
          "data": {
            "text/html": [
              "<div>\n",
              "<style scoped>\n",
              "    .dataframe tbody tr th:only-of-type {\n",
              "        vertical-align: middle;\n",
              "    }\n",
              "\n",
              "    .dataframe tbody tr th {\n",
              "        vertical-align: top;\n",
              "    }\n",
              "\n",
              "    .dataframe thead th {\n",
              "        text-align: right;\n",
              "    }\n",
              "</style>\n",
              "<table border=\"1\" class=\"dataframe\">\n",
              "  <thead>\n",
              "    <tr style=\"text-align: right;\">\n",
              "      <th></th>\n",
              "      <th>title</th>\n",
              "      <th>body</th>\n",
              "      <th>timestamp</th>\n",
              "    </tr>\n",
              "  </thead>\n",
              "  <tbody>\n",
              "    <tr>\n",
              "      <th>0</th>\n",
              "      <td>It's not about the money, it's about sending a...</td>\n",
              "      <td>NaN</td>\n",
              "      <td>2021-01-28 21:37:41</td>\n",
              "    </tr>\n",
              "    <tr>\n",
              "      <th>1</th>\n",
              "      <td>Math Professor Scott Steiner says the numbers ...</td>\n",
              "      <td>NaN</td>\n",
              "      <td>2021-01-28 21:32:10</td>\n",
              "    </tr>\n",
              "    <tr>\n",
              "      <th>2</th>\n",
              "      <td>Exit the system</td>\n",
              "      <td>The CEO of NASDAQ pushed to halt trading “to g...</td>\n",
              "      <td>2021-01-28 21:30:35</td>\n",
              "    </tr>\n",
              "    <tr>\n",
              "      <th>3</th>\n",
              "      <td>NEW SEC FILING FOR GME! CAN SOMEONE LESS RETAR...</td>\n",
              "      <td>NaN</td>\n",
              "      <td>2021-01-28 21:28:57</td>\n",
              "    </tr>\n",
              "    <tr>\n",
              "      <th>4</th>\n",
              "      <td>Not to distract from GME, just thought our AMC...</td>\n",
              "      <td>NaN</td>\n",
              "      <td>2021-01-28 21:26:56</td>\n",
              "    </tr>\n",
              "  </tbody>\n",
              "</table>\n",
              "</div>"
            ],
            "text/plain": [
              "                                               title  ...            timestamp\n",
              "0  It's not about the money, it's about sending a...  ...  2021-01-28 21:37:41\n",
              "1  Math Professor Scott Steiner says the numbers ...  ...  2021-01-28 21:32:10\n",
              "2                                    Exit the system  ...  2021-01-28 21:30:35\n",
              "3  NEW SEC FILING FOR GME! CAN SOMEONE LESS RETAR...  ...  2021-01-28 21:28:57\n",
              "4  Not to distract from GME, just thought our AMC...  ...  2021-01-28 21:26:56\n",
              "\n",
              "[5 rows x 3 columns]"
            ]
          },
          "metadata": {
            "tags": []
          },
          "execution_count": 4
        }
      ]
    },
    {
      "cell_type": "code",
      "metadata": {
        "colab": {
          "base_uri": "https://localhost:8080/",
          "height": 204
        },
        "id": "x2qfHWuQs87z",
        "outputId": "d50d28a2-a700-498b-b682-0e05921cf418"
      },
      "source": [
        "# Data 5: \"reddit\" data\n",
        "\n",
        "# Github permalink for Cloud use\n",
        "reddit_url = 'https://raw.githubusercontent.com/gricardo831/Final-Project-Data/main/reddit.csv'\n",
        "\n",
        "# Creates dataframe\n",
        "data5 = pd.read_csv(reddit_url, sep=',')\n",
        "\n",
        "# Narrows down dataframe to columns of interest\n",
        "data5_wsb = data5[['title', 'subreddit', 'body', 'date']]\n",
        "\n",
        "# Gets only rows with data from the 'wallstreetbets' subreddit\n",
        "d5_wsb = data5_wsb[data5_wsb['subreddit'] == 'wallstreetbets'] # Extracts all rows with data from r/wallstreetbets\n",
        "\n",
        "# Removes 'subreddit' column from selection for d5\n",
        "d5 = d5_wsb[['title', 'body', 'date']]\n",
        "\n",
        "# Renames columns in d5, replacing 'date' with 'timestamp'\n",
        "d5.columns = ['title', 'body', 'timestamp']\n",
        "\n",
        "# Final df for Data 5 Ready for merge.\n",
        "d5.head()"
      ],
      "execution_count": null,
      "outputs": [
        {
          "output_type": "execute_result",
          "data": {
            "text/html": [
              "<div>\n",
              "<style scoped>\n",
              "    .dataframe tbody tr th:only-of-type {\n",
              "        vertical-align: middle;\n",
              "    }\n",
              "\n",
              "    .dataframe tbody tr th {\n",
              "        vertical-align: top;\n",
              "    }\n",
              "\n",
              "    .dataframe thead th {\n",
              "        text-align: right;\n",
              "    }\n",
              "</style>\n",
              "<table border=\"1\" class=\"dataframe\">\n",
              "  <thead>\n",
              "    <tr style=\"text-align: right;\">\n",
              "      <th></th>\n",
              "      <th>title</th>\n",
              "      <th>body</th>\n",
              "      <th>timestamp</th>\n",
              "    </tr>\n",
              "  </thead>\n",
              "  <tbody>\n",
              "    <tr>\n",
              "      <th>0</th>\n",
              "      <td>UPVOTE so everyone sees we got SUPPORT</td>\n",
              "      <td>NaN</td>\n",
              "      <td>2021-01-29 00:40:34</td>\n",
              "    </tr>\n",
              "    <tr>\n",
              "      <th>1</th>\n",
              "      <td>GME YOLO update — Jan 28 2021</td>\n",
              "      <td>NaN</td>\n",
              "      <td>2021-01-29 08:06:23</td>\n",
              "    </tr>\n",
              "    <tr>\n",
              "      <th>2</th>\n",
              "      <td>CLASS ACTION AGAINST ROBINHOOD. Allowing peopl...</td>\n",
              "      <td>LEAVE ROBINHOOD. They dont deserve to make mon...</td>\n",
              "      <td>2021-01-29 00:49:11</td>\n",
              "    </tr>\n",
              "    <tr>\n",
              "      <th>3</th>\n",
              "      <td>GME YOLO update — Jan 27 2021 ----------------...</td>\n",
              "      <td>NaN</td>\n",
              "      <td>2021-01-28 08:15:35</td>\n",
              "    </tr>\n",
              "    <tr>\n",
              "      <th>4</th>\n",
              "      <td>Can we all take a moment and appreciate the Mo...</td>\n",
              "      <td>NaN</td>\n",
              "      <td>2021-01-28 11:57:32</td>\n",
              "    </tr>\n",
              "  </tbody>\n",
              "</table>\n",
              "</div>"
            ],
            "text/plain": [
              "                                               title  ...            timestamp\n",
              "0             UPVOTE so everyone sees we got SUPPORT  ...  2021-01-29 00:40:34\n",
              "1                      GME YOLO update — Jan 28 2021  ...  2021-01-29 08:06:23\n",
              "2  CLASS ACTION AGAINST ROBINHOOD. Allowing peopl...  ...  2021-01-29 00:49:11\n",
              "3  GME YOLO update — Jan 27 2021 ----------------...  ...  2021-01-28 08:15:35\n",
              "4  Can we all take a moment and appreciate the Mo...  ...  2021-01-28 11:57:32\n",
              "\n",
              "[5 rows x 3 columns]"
            ]
          },
          "metadata": {
            "tags": []
          },
          "execution_count": 5
        }
      ]
    },
    {
      "cell_type": "code",
      "metadata": {
        "colab": {
          "base_uri": "https://localhost:8080/",
          "height": 419
        },
        "id": "MpCLaKoR1ELC",
        "outputId": "a1f3cc64-623b-47c4-9e1e-969c7efc6687"
      },
      "source": [
        "# Merging all dataframes into 1 (wsb_df).\n",
        "wsb_df = d2.append([d3, d4, d5], ignore_index= True, sort= False)\n",
        "# wsb_df\n",
        "\n",
        "# Cleaning wsb_df\n",
        "\n",
        "# Filling NaN values in 'title' and 'body' with \"[empty]\" values \n",
        "wsb_df['title'] = wsb_df['title'].fillna(\"[empty]\")\n",
        "wsb_df['body'] = wsb_df['body'].fillna(\"[empty]\")\n",
        "\n",
        "# Replacing \"[removed]\" values with \"[empty]\" values\n",
        "wsb_df['title']=wsb_df['title'].replace({\"[removed]\":\"[empty]\"})\n",
        "wsb_df['body'] = wsb_df['body'].replace({\"[removed]\":\"[empty]\"}) \n",
        "\n",
        "# Function for converting timestamp from string to numeric\n",
        "from datetime import datetime\n",
        "\n",
        "def stamp_conversion(time_string):\n",
        "    datetimeObj = datetime.strptime(time_string, '%Y-%m-%d %H:%M:%S')\n",
        "    return datetimeObj\n",
        "\n",
        "# Applying function to 'timestamp' column\n",
        "wsb_df['timestamp'] = wsb_df['timestamp'].apply(lambda x: stamp_conversion(x))\n",
        "\n",
        "# Final cleaned dataframe for all data\n",
        "wsb_df"
      ],
      "execution_count": null,
      "outputs": [
        {
          "output_type": "execute_result",
          "data": {
            "text/html": [
              "<div>\n",
              "<style scoped>\n",
              "    .dataframe tbody tr th:only-of-type {\n",
              "        vertical-align: middle;\n",
              "    }\n",
              "\n",
              "    .dataframe tbody tr th {\n",
              "        vertical-align: top;\n",
              "    }\n",
              "\n",
              "    .dataframe thead th {\n",
              "        text-align: right;\n",
              "    }\n",
              "</style>\n",
              "<table border=\"1\" class=\"dataframe\">\n",
              "  <thead>\n",
              "    <tr style=\"text-align: right;\">\n",
              "      <th></th>\n",
              "      <th>title</th>\n",
              "      <th>body</th>\n",
              "      <th>timestamp</th>\n",
              "    </tr>\n",
              "  </thead>\n",
              "  <tbody>\n",
              "    <tr>\n",
              "      <th>0</th>\n",
              "      <td>3k - 170k since March (Also, buy LIT!!)</td>\n",
              "      <td>[empty]</td>\n",
              "      <td>2021-01-01 00:02:06</td>\n",
              "    </tr>\n",
              "    <tr>\n",
              "      <th>1</th>\n",
              "      <td>Got out of PLTR calls after learning about IV ...</td>\n",
              "      <td>[empty]</td>\n",
              "      <td>2021-01-01 00:03:20</td>\n",
              "    </tr>\n",
              "    <tr>\n",
              "      <th>2</th>\n",
              "      <td>Hell of a headline</td>\n",
              "      <td>[empty]</td>\n",
              "      <td>2021-01-01 00:04:11</td>\n",
              "    </tr>\n",
              "    <tr>\n",
              "      <th>3</th>\n",
              "      <td>Top popular stocks on WSB too! Also, why they ...</td>\n",
              "      <td>[empty]</td>\n",
              "      <td>2021-01-01 00:11:51</td>\n",
              "    </tr>\n",
              "    <tr>\n",
              "      <th>4</th>\n",
              "      <td>WSBVoteBot Log for Jan 01 2021</td>\n",
              "      <td>Every time a new submission is posted to walls...</td>\n",
              "      <td>2021-01-01 00:15:38</td>\n",
              "    </tr>\n",
              "    <tr>\n",
              "      <th>...</th>\n",
              "      <td>...</td>\n",
              "      <td>...</td>\n",
              "      <td>...</td>\n",
              "    </tr>\n",
              "    <tr>\n",
              "      <th>1071090</th>\n",
              "      <td>Its not Robinhood’s fault this time</td>\n",
              "      <td>[empty]</td>\n",
              "      <td>2020-09-22 16:23:24</td>\n",
              "    </tr>\n",
              "    <tr>\n",
              "      <th>1071091</th>\n",
              "      <td>Robinhood be like...</td>\n",
              "      <td>[empty]</td>\n",
              "      <td>2019-01-07 19:43:41</td>\n",
              "    </tr>\n",
              "    <tr>\n",
              "      <th>1071092</th>\n",
              "      <td>Paper hands can turn into diamond (credit to /...</td>\n",
              "      <td>[empty]</td>\n",
              "      <td>2021-01-28 20:24:39</td>\n",
              "    </tr>\n",
              "    <tr>\n",
              "      <th>1071093</th>\n",
              "      <td>Boeing 737 runs over and kills a bear while la...</td>\n",
              "      <td>Boeing 737 ($BA) runs over and kills a ~~brown...</td>\n",
              "      <td>2020-11-16 22:14:17</td>\n",
              "    </tr>\n",
              "    <tr>\n",
              "      <th>1071094</th>\n",
              "      <td>Took a break from jacking off to check pre-mar...</td>\n",
              "      <td>[empty]</td>\n",
              "      <td>2020-11-30 20:32:01</td>\n",
              "    </tr>\n",
              "  </tbody>\n",
              "</table>\n",
              "<p>1071095 rows × 3 columns</p>\n",
              "</div>"
            ],
            "text/plain": [
              "                                                     title  ...           timestamp\n",
              "0                  3k - 170k since March (Also, buy LIT!!)  ... 2021-01-01 00:02:06\n",
              "1        Got out of PLTR calls after learning about IV ...  ... 2021-01-01 00:03:20\n",
              "2                                       Hell of a headline  ... 2021-01-01 00:04:11\n",
              "3        Top popular stocks on WSB too! Also, why they ...  ... 2021-01-01 00:11:51\n",
              "4                           WSBVoteBot Log for Jan 01 2021  ... 2021-01-01 00:15:38\n",
              "...                                                    ...  ...                 ...\n",
              "1071090                Its not Robinhood’s fault this time  ... 2020-09-22 16:23:24\n",
              "1071091                               Robinhood be like...  ... 2019-01-07 19:43:41\n",
              "1071092  Paper hands can turn into diamond (credit to /...  ... 2021-01-28 20:24:39\n",
              "1071093  Boeing 737 runs over and kills a bear while la...  ... 2020-11-16 22:14:17\n",
              "1071094  Took a break from jacking off to check pre-mar...  ... 2020-11-30 20:32:01\n",
              "\n",
              "[1071095 rows x 3 columns]"
            ]
          },
          "metadata": {
            "tags": []
          },
          "execution_count": 6
        }
      ]
    },
    {
      "cell_type": "code",
      "metadata": {
        "id": "xfThgEmA476d"
      },
      "source": [
        "# Adding columns for different functions: lowercase title & body, word count title and body, hashtags & tickers\n",
        "\n",
        "# Function for number of words in a string. Counts breaks in strings with spaces.\n",
        "def word_count(string_words):\n",
        "    word_list = string_words.split()\n",
        "    number_of_words = len(word_list)\n",
        "    return number_of_words\n",
        "\n",
        "# Function for putting text in lower case.\n",
        "def lower_words(string_words):\n",
        "    lower_str = string_words.lower()\n",
        "    return lower_str\n",
        "\n",
        "# Function to extract hashtags from text in 'title' and 'body'\n",
        "def extract_hashtags(title_text, body_text):\n",
        "    hashtag_list = []                           # Initializing hashtag_list variable\n",
        "    for word in title_text.split():             # Splitting the text into words\n",
        "        if word[0] == '#':                      # Checking the first charcter of every word\n",
        "            hashtag_list.append(word[1:])       # Adding the word to the hashtag_list\n",
        "    for word in body_text.split():\n",
        "        if word[0] == '#':\n",
        "            hashtag_list.append(word[1:])\n",
        "    for hashtag in hashtag_list:                # Returning the hashtag_list\n",
        "        return hashtag\n",
        "\n",
        "# Function to extract tickers from text in 'title' and 'body'\n",
        "def extract_tickers(title_text, body_text):\n",
        "    ticker_list = []\n",
        "    dirty_list =[]\n",
        "    for word in title_text.split():\n",
        "        if word[0] == '$':\n",
        "            dirty_list.append(word[1:])\n",
        "            for item in dirty_list:\n",
        "                if item.isnumeric() == False:\n",
        "                    ticker_list.append(item)\n",
        "    for word in body_text.split():\n",
        "        if word[0] == '$':\n",
        "            dirty_list.append(word[1:])\n",
        "            for item in dirty_list:\n",
        "                if item.isnumeric() == False:\n",
        "                    ticker_list.append(item)\n",
        "    for ticker in ticker_list:\n",
        "        return ticker"
      ],
      "execution_count": null,
      "outputs": []
    },
    {
      "cell_type": "code",
      "metadata": {
        "colab": {
          "base_uri": "https://localhost:8080/",
          "height": 949
        },
        "id": "ktYgoipCQXwG",
        "outputId": "7e289c7e-902c-46e1-9a26-beb265ff735f"
      },
      "source": [
        "# New df for added columns\n",
        "wsb_extra_df = wsb_df\n",
        "\n",
        "# Applies lower_words function to 'title' and 'body' columns\n",
        "wsb_extra_df['title_lower'] = wsb_extra_df['title'].apply(lambda x: lower_words(x))\n",
        "wsb_extra_df['body_lower'] = wsb_extra_df['body'].apply(lambda x: lower_words(x))\n",
        "\n",
        "# Applies word_count function to 'title' and 'body' columns\n",
        "wsb_extra_df['title_word_count'] = wsb_extra_df['title'].apply(lambda x: word_count(x))\n",
        "wsb_extra_df['body_word_count'] = wsb_extra_df['body'].apply(lambda x: word_count(x))\n",
        "\n",
        "# Applies extract_tickers function to 'title' and 'body' columns\n",
        "wsb_extra_df['tickers'] = wsb_extra_df.apply(lambda x: extract_tickers(x.title, x.body), axis =1)\n",
        "# Applies extract_hashtags function to 'title' and 'body' columns\n",
        "wsb_extra_df['hashtags'] = wsb_extra_df.apply(lambda x: extract_hashtags(x.title, x.body), axis=1)\n",
        "\n",
        "wsb_extra_df"
      ],
      "execution_count": null,
      "outputs": [
        {
          "output_type": "execute_result",
          "data": {
            "text/html": [
              "<div>\n",
              "<style scoped>\n",
              "    .dataframe tbody tr th:only-of-type {\n",
              "        vertical-align: middle;\n",
              "    }\n",
              "\n",
              "    .dataframe tbody tr th {\n",
              "        vertical-align: top;\n",
              "    }\n",
              "\n",
              "    .dataframe thead th {\n",
              "        text-align: right;\n",
              "    }\n",
              "</style>\n",
              "<table border=\"1\" class=\"dataframe\">\n",
              "  <thead>\n",
              "    <tr style=\"text-align: right;\">\n",
              "      <th></th>\n",
              "      <th>title</th>\n",
              "      <th>body</th>\n",
              "      <th>timestamp</th>\n",
              "      <th>title_lower</th>\n",
              "      <th>body_lower</th>\n",
              "      <th>title_word_count</th>\n",
              "      <th>body_word_count</th>\n",
              "      <th>tickers</th>\n",
              "      <th>hashtags</th>\n",
              "    </tr>\n",
              "  </thead>\n",
              "  <tbody>\n",
              "    <tr>\n",
              "      <th>0</th>\n",
              "      <td>3k - 170k since March (Also, buy LIT!!)</td>\n",
              "      <td>[empty]</td>\n",
              "      <td>2021-01-01 00:02:06</td>\n",
              "      <td>3k - 170k since march (also, buy lit!!)</td>\n",
              "      <td>[empty]</td>\n",
              "      <td>8</td>\n",
              "      <td>1</td>\n",
              "      <td>None</td>\n",
              "      <td>None</td>\n",
              "    </tr>\n",
              "    <tr>\n",
              "      <th>1</th>\n",
              "      <td>Got out of PLTR calls after learning about IV ...</td>\n",
              "      <td>[empty]</td>\n",
              "      <td>2021-01-01 00:03:20</td>\n",
              "      <td>got out of pltr calls after learning about iv ...</td>\n",
              "      <td>[empty]</td>\n",
              "      <td>36</td>\n",
              "      <td>1</td>\n",
              "      <td>None</td>\n",
              "      <td>None</td>\n",
              "    </tr>\n",
              "    <tr>\n",
              "      <th>2</th>\n",
              "      <td>Hell of a headline</td>\n",
              "      <td>[empty]</td>\n",
              "      <td>2021-01-01 00:04:11</td>\n",
              "      <td>hell of a headline</td>\n",
              "      <td>[empty]</td>\n",
              "      <td>4</td>\n",
              "      <td>1</td>\n",
              "      <td>None</td>\n",
              "      <td>None</td>\n",
              "    </tr>\n",
              "    <tr>\n",
              "      <th>3</th>\n",
              "      <td>Top popular stocks on WSB too! Also, why they ...</td>\n",
              "      <td>[empty]</td>\n",
              "      <td>2021-01-01 00:11:51</td>\n",
              "      <td>top popular stocks on wsb too! also, why they ...</td>\n",
              "      <td>[empty]</td>\n",
              "      <td>17</td>\n",
              "      <td>1</td>\n",
              "      <td>None</td>\n",
              "      <td>None</td>\n",
              "    </tr>\n",
              "    <tr>\n",
              "      <th>4</th>\n",
              "      <td>WSBVoteBot Log for Jan 01 2021</td>\n",
              "      <td>Every time a new submission is posted to walls...</td>\n",
              "      <td>2021-01-01 00:15:38</td>\n",
              "      <td>wsbvotebot log for jan 01 2021</td>\n",
              "      <td>every time a new submission is posted to walls...</td>\n",
              "      <td>6</td>\n",
              "      <td>66</td>\n",
              "      <td>None</td>\n",
              "      <td>None</td>\n",
              "    </tr>\n",
              "    <tr>\n",
              "      <th>...</th>\n",
              "      <td>...</td>\n",
              "      <td>...</td>\n",
              "      <td>...</td>\n",
              "      <td>...</td>\n",
              "      <td>...</td>\n",
              "      <td>...</td>\n",
              "      <td>...</td>\n",
              "      <td>...</td>\n",
              "      <td>...</td>\n",
              "    </tr>\n",
              "    <tr>\n",
              "      <th>1071090</th>\n",
              "      <td>Its not Robinhood’s fault this time</td>\n",
              "      <td>[empty]</td>\n",
              "      <td>2020-09-22 16:23:24</td>\n",
              "      <td>its not robinhood’s fault this time</td>\n",
              "      <td>[empty]</td>\n",
              "      <td>6</td>\n",
              "      <td>1</td>\n",
              "      <td>None</td>\n",
              "      <td>None</td>\n",
              "    </tr>\n",
              "    <tr>\n",
              "      <th>1071091</th>\n",
              "      <td>Robinhood be like...</td>\n",
              "      <td>[empty]</td>\n",
              "      <td>2019-01-07 19:43:41</td>\n",
              "      <td>robinhood be like...</td>\n",
              "      <td>[empty]</td>\n",
              "      <td>3</td>\n",
              "      <td>1</td>\n",
              "      <td>None</td>\n",
              "      <td>None</td>\n",
              "    </tr>\n",
              "    <tr>\n",
              "      <th>1071092</th>\n",
              "      <td>Paper hands can turn into diamond (credit to /...</td>\n",
              "      <td>[empty]</td>\n",
              "      <td>2021-01-28 20:24:39</td>\n",
              "      <td>paper hands can turn into diamond (credit to /...</td>\n",
              "      <td>[empty]</td>\n",
              "      <td>9</td>\n",
              "      <td>1</td>\n",
              "      <td>None</td>\n",
              "      <td>None</td>\n",
              "    </tr>\n",
              "    <tr>\n",
              "      <th>1071093</th>\n",
              "      <td>Boeing 737 runs over and kills a bear while la...</td>\n",
              "      <td>Boeing 737 ($BA) runs over and kills a ~~brown...</td>\n",
              "      <td>2020-11-16 22:14:17</td>\n",
              "      <td>boeing 737 runs over and kills a bear while la...</td>\n",
              "      <td>boeing 737 ($ba) runs over and kills a ~~brown...</td>\n",
              "      <td>21</td>\n",
              "      <td>137</td>\n",
              "      <td>None</td>\n",
              "      <td>None</td>\n",
              "    </tr>\n",
              "    <tr>\n",
              "      <th>1071094</th>\n",
              "      <td>Took a break from jacking off to check pre-mar...</td>\n",
              "      <td>[empty]</td>\n",
              "      <td>2020-11-30 20:32:01</td>\n",
              "      <td>took a break from jacking off to check pre-mar...</td>\n",
              "      <td>[empty]</td>\n",
              "      <td>25</td>\n",
              "      <td>1</td>\n",
              "      <td>336K</td>\n",
              "      <td>None</td>\n",
              "    </tr>\n",
              "  </tbody>\n",
              "</table>\n",
              "<p>1071095 rows × 9 columns</p>\n",
              "</div>"
            ],
            "text/plain": [
              "                                                     title  ... hashtags\n",
              "0                  3k - 170k since March (Also, buy LIT!!)  ...     None\n",
              "1        Got out of PLTR calls after learning about IV ...  ...     None\n",
              "2                                       Hell of a headline  ...     None\n",
              "3        Top popular stocks on WSB too! Also, why they ...  ...     None\n",
              "4                           WSBVoteBot Log for Jan 01 2021  ...     None\n",
              "...                                                    ...  ...      ...\n",
              "1071090                Its not Robinhood’s fault this time  ...     None\n",
              "1071091                               Robinhood be like...  ...     None\n",
              "1071092  Paper hands can turn into diamond (credit to /...  ...     None\n",
              "1071093  Boeing 737 runs over and kills a bear while la...  ...     None\n",
              "1071094  Took a break from jacking off to check pre-mar...  ...     None\n",
              "\n",
              "[1071095 rows x 9 columns]"
            ]
          },
          "metadata": {
            "tags": []
          },
          "execution_count": 8
        }
      ]
    },
    {
      "cell_type": "code",
      "metadata": {
        "colab": {
          "base_uri": "https://localhost:8080/"
        },
        "id": "eiCbxXjwYieO",
        "outputId": "a12fb294-eddc-4350-8cf2-ae0dbf0bc1e0"
      },
      "source": [
        "print(wsb_extra_df['timestamp'].max())"
      ],
      "execution_count": null,
      "outputs": [
        {
          "output_type": "stream",
          "text": [
            "2021-03-12 07:12:33\n"
          ],
          "name": "stdout"
        }
      ]
    },
    {
      "cell_type": "code",
      "metadata": {
        "id": "8b1Kq_ggsmEq"
      },
      "source": [
        "wsb_extra_df = wsb_extra_df.set_index('timestamp')"
      ],
      "execution_count": null,
      "outputs": []
    },
    {
      "cell_type": "code",
      "metadata": {
        "colab": {
          "base_uri": "https://localhost:8080/",
          "height": 841
        },
        "id": "vB4W4i0ls8tI",
        "outputId": "9b77dc68-281e-4928-f88f-3220a4348840"
      },
      "source": [
        "wsb_extra_df.tail(100)"
      ],
      "execution_count": null,
      "outputs": [
        {
          "output_type": "execute_result",
          "data": {
            "text/html": [
              "<div>\n",
              "<style scoped>\n",
              "    .dataframe tbody tr th:only-of-type {\n",
              "        vertical-align: middle;\n",
              "    }\n",
              "\n",
              "    .dataframe tbody tr th {\n",
              "        vertical-align: top;\n",
              "    }\n",
              "\n",
              "    .dataframe thead th {\n",
              "        text-align: right;\n",
              "    }\n",
              "</style>\n",
              "<table border=\"1\" class=\"dataframe\">\n",
              "  <thead>\n",
              "    <tr style=\"text-align: right;\">\n",
              "      <th></th>\n",
              "      <th>title</th>\n",
              "      <th>body</th>\n",
              "      <th>title_lower</th>\n",
              "      <th>body_lower</th>\n",
              "      <th>title_word_count</th>\n",
              "      <th>body_word_count</th>\n",
              "      <th>tickers</th>\n",
              "      <th>hashtags</th>\n",
              "    </tr>\n",
              "    <tr>\n",
              "      <th>timestamp</th>\n",
              "      <th></th>\n",
              "      <th></th>\n",
              "      <th></th>\n",
              "      <th></th>\n",
              "      <th></th>\n",
              "      <th></th>\n",
              "      <th></th>\n",
              "      <th></th>\n",
              "    </tr>\n",
              "  </thead>\n",
              "  <tbody>\n",
              "    <tr>\n",
              "      <th>2020-12-23 06:49:47</th>\n",
              "      <td>Welcome to story time</td>\n",
              "      <td>[empty]</td>\n",
              "      <td>welcome to story time</td>\n",
              "      <td>[empty]</td>\n",
              "      <td>4</td>\n",
              "      <td>1</td>\n",
              "      <td>None</td>\n",
              "      <td>None</td>\n",
              "    </tr>\n",
              "    <tr>\n",
              "      <th>2018-07-26 07:09:23</th>\n",
              "      <td>This deserves a repost</td>\n",
              "      <td>[empty]</td>\n",
              "      <td>this deserves a repost</td>\n",
              "      <td>[empty]</td>\n",
              "      <td>4</td>\n",
              "      <td>1</td>\n",
              "      <td>None</td>\n",
              "      <td>None</td>\n",
              "    </tr>\n",
              "    <tr>\n",
              "      <th>2020-12-04 19:42:36</th>\n",
              "      <td>I heard I can trade this in for internet points.</td>\n",
              "      <td>[empty]</td>\n",
              "      <td>i heard i can trade this in for internet points.</td>\n",
              "      <td>[empty]</td>\n",
              "      <td>10</td>\n",
              "      <td>1</td>\n",
              "      <td>None</td>\n",
              "      <td>None</td>\n",
              "    </tr>\n",
              "    <tr>\n",
              "      <th>2021-01-11 07:07:13</th>\n",
              "      <td>What half of the DDs posts sound like to me</td>\n",
              "      <td>[empty]</td>\n",
              "      <td>what half of the dds posts sound like to me</td>\n",
              "      <td>[empty]</td>\n",
              "      <td>10</td>\n",
              "      <td>1</td>\n",
              "      <td>None</td>\n",
              "      <td>None</td>\n",
              "    </tr>\n",
              "    <tr>\n",
              "      <th>2020-01-23 05:45:59</th>\n",
              "      <td>Tipanic</td>\n",
              "      <td>[empty]</td>\n",
              "      <td>tipanic</td>\n",
              "      <td>[empty]</td>\n",
              "      <td>1</td>\n",
              "      <td>1</td>\n",
              "      <td>None</td>\n",
              "      <td>None</td>\n",
              "    </tr>\n",
              "    <tr>\n",
              "      <th>...</th>\n",
              "      <td>...</td>\n",
              "      <td>...</td>\n",
              "      <td>...</td>\n",
              "      <td>...</td>\n",
              "      <td>...</td>\n",
              "      <td>...</td>\n",
              "      <td>...</td>\n",
              "      <td>...</td>\n",
              "    </tr>\n",
              "    <tr>\n",
              "      <th>2020-09-22 16:23:24</th>\n",
              "      <td>Its not Robinhood’s fault this time</td>\n",
              "      <td>[empty]</td>\n",
              "      <td>its not robinhood’s fault this time</td>\n",
              "      <td>[empty]</td>\n",
              "      <td>6</td>\n",
              "      <td>1</td>\n",
              "      <td>None</td>\n",
              "      <td>None</td>\n",
              "    </tr>\n",
              "    <tr>\n",
              "      <th>2019-01-07 19:43:41</th>\n",
              "      <td>Robinhood be like...</td>\n",
              "      <td>[empty]</td>\n",
              "      <td>robinhood be like...</td>\n",
              "      <td>[empty]</td>\n",
              "      <td>3</td>\n",
              "      <td>1</td>\n",
              "      <td>None</td>\n",
              "      <td>None</td>\n",
              "    </tr>\n",
              "    <tr>\n",
              "      <th>2021-01-28 20:24:39</th>\n",
              "      <td>Paper hands can turn into diamond (credit to /...</td>\n",
              "      <td>[empty]</td>\n",
              "      <td>paper hands can turn into diamond (credit to /...</td>\n",
              "      <td>[empty]</td>\n",
              "      <td>9</td>\n",
              "      <td>1</td>\n",
              "      <td>None</td>\n",
              "      <td>None</td>\n",
              "    </tr>\n",
              "    <tr>\n",
              "      <th>2020-11-16 22:14:17</th>\n",
              "      <td>Boeing 737 runs over and kills a bear while la...</td>\n",
              "      <td>Boeing 737 ($BA) runs over and kills a ~~brown...</td>\n",
              "      <td>boeing 737 runs over and kills a bear while la...</td>\n",
              "      <td>boeing 737 ($ba) runs over and kills a ~~brown...</td>\n",
              "      <td>21</td>\n",
              "      <td>137</td>\n",
              "      <td>None</td>\n",
              "      <td>None</td>\n",
              "    </tr>\n",
              "    <tr>\n",
              "      <th>2020-11-30 20:32:01</th>\n",
              "      <td>Took a break from jacking off to check pre-mar...</td>\n",
              "      <td>[empty]</td>\n",
              "      <td>took a break from jacking off to check pre-mar...</td>\n",
              "      <td>[empty]</td>\n",
              "      <td>25</td>\n",
              "      <td>1</td>\n",
              "      <td>336K</td>\n",
              "      <td>None</td>\n",
              "    </tr>\n",
              "  </tbody>\n",
              "</table>\n",
              "<p>100 rows × 8 columns</p>\n",
              "</div>"
            ],
            "text/plain": [
              "                                                                 title  ... hashtags\n",
              "timestamp                                                               ...         \n",
              "2020-12-23 06:49:47                              Welcome to story time  ...     None\n",
              "2018-07-26 07:09:23                             This deserves a repost  ...     None\n",
              "2020-12-04 19:42:36   I heard I can trade this in for internet points.  ...     None\n",
              "2021-01-11 07:07:13        What half of the DDs posts sound like to me  ...     None\n",
              "2020-01-23 05:45:59                                            Tipanic  ...     None\n",
              "...                                                                ...  ...      ...\n",
              "2020-09-22 16:23:24                Its not Robinhood’s fault this time  ...     None\n",
              "2019-01-07 19:43:41                               Robinhood be like...  ...     None\n",
              "2021-01-28 20:24:39  Paper hands can turn into diamond (credit to /...  ...     None\n",
              "2020-11-16 22:14:17  Boeing 737 runs over and kills a bear while la...  ...     None\n",
              "2020-11-30 20:32:01  Took a break from jacking off to check pre-mar...  ...     None\n",
              "\n",
              "[100 rows x 8 columns]"
            ]
          },
          "metadata": {
            "tags": []
          },
          "execution_count": 11
        }
      ]
    },
    {
      "cell_type": "code",
      "metadata": {
        "colab": {
          "base_uri": "https://localhost:8080/",
          "height": 456
        },
        "id": "4uX7gtjpuVrK",
        "outputId": "8caef99b-9ac9-438e-f25e-dfdae2ad9d53"
      },
      "source": [
        "wsb_extra_df.sort_index(ascending=False)\n",
        "wsb_extra_df.tail()"
      ],
      "execution_count": null,
      "outputs": [
        {
          "output_type": "execute_result",
          "data": {
            "text/html": [
              "<div>\n",
              "<style scoped>\n",
              "    .dataframe tbody tr th:only-of-type {\n",
              "        vertical-align: middle;\n",
              "    }\n",
              "\n",
              "    .dataframe tbody tr th {\n",
              "        vertical-align: top;\n",
              "    }\n",
              "\n",
              "    .dataframe thead th {\n",
              "        text-align: right;\n",
              "    }\n",
              "</style>\n",
              "<table border=\"1\" class=\"dataframe\">\n",
              "  <thead>\n",
              "    <tr style=\"text-align: right;\">\n",
              "      <th></th>\n",
              "      <th>title</th>\n",
              "      <th>body</th>\n",
              "      <th>title_lower</th>\n",
              "      <th>body_lower</th>\n",
              "      <th>title_word_count</th>\n",
              "      <th>body_word_count</th>\n",
              "      <th>tickers</th>\n",
              "      <th>hashtags</th>\n",
              "    </tr>\n",
              "    <tr>\n",
              "      <th>timestamp</th>\n",
              "      <th></th>\n",
              "      <th></th>\n",
              "      <th></th>\n",
              "      <th></th>\n",
              "      <th></th>\n",
              "      <th></th>\n",
              "      <th></th>\n",
              "      <th></th>\n",
              "    </tr>\n",
              "  </thead>\n",
              "  <tbody>\n",
              "    <tr>\n",
              "      <th>2020-09-22 16:23:24</th>\n",
              "      <td>Its not Robinhood’s fault this time</td>\n",
              "      <td>[empty]</td>\n",
              "      <td>its not robinhood’s fault this time</td>\n",
              "      <td>[empty]</td>\n",
              "      <td>6</td>\n",
              "      <td>1</td>\n",
              "      <td>None</td>\n",
              "      <td>None</td>\n",
              "    </tr>\n",
              "    <tr>\n",
              "      <th>2019-01-07 19:43:41</th>\n",
              "      <td>Robinhood be like...</td>\n",
              "      <td>[empty]</td>\n",
              "      <td>robinhood be like...</td>\n",
              "      <td>[empty]</td>\n",
              "      <td>3</td>\n",
              "      <td>1</td>\n",
              "      <td>None</td>\n",
              "      <td>None</td>\n",
              "    </tr>\n",
              "    <tr>\n",
              "      <th>2021-01-28 20:24:39</th>\n",
              "      <td>Paper hands can turn into diamond (credit to /...</td>\n",
              "      <td>[empty]</td>\n",
              "      <td>paper hands can turn into diamond (credit to /...</td>\n",
              "      <td>[empty]</td>\n",
              "      <td>9</td>\n",
              "      <td>1</td>\n",
              "      <td>None</td>\n",
              "      <td>None</td>\n",
              "    </tr>\n",
              "    <tr>\n",
              "      <th>2020-11-16 22:14:17</th>\n",
              "      <td>Boeing 737 runs over and kills a bear while la...</td>\n",
              "      <td>Boeing 737 ($BA) runs over and kills a ~~brown...</td>\n",
              "      <td>boeing 737 runs over and kills a bear while la...</td>\n",
              "      <td>boeing 737 ($ba) runs over and kills a ~~brown...</td>\n",
              "      <td>21</td>\n",
              "      <td>137</td>\n",
              "      <td>None</td>\n",
              "      <td>None</td>\n",
              "    </tr>\n",
              "    <tr>\n",
              "      <th>2020-11-30 20:32:01</th>\n",
              "      <td>Took a break from jacking off to check pre-mar...</td>\n",
              "      <td>[empty]</td>\n",
              "      <td>took a break from jacking off to check pre-mar...</td>\n",
              "      <td>[empty]</td>\n",
              "      <td>25</td>\n",
              "      <td>1</td>\n",
              "      <td>336K</td>\n",
              "      <td>None</td>\n",
              "    </tr>\n",
              "  </tbody>\n",
              "</table>\n",
              "</div>"
            ],
            "text/plain": [
              "                                                                 title  ... hashtags\n",
              "timestamp                                                               ...         \n",
              "2020-09-22 16:23:24                Its not Robinhood’s fault this time  ...     None\n",
              "2019-01-07 19:43:41                               Robinhood be like...  ...     None\n",
              "2021-01-28 20:24:39  Paper hands can turn into diamond (credit to /...  ...     None\n",
              "2020-11-16 22:14:17  Boeing 737 runs over and kills a bear while la...  ...     None\n",
              "2020-11-30 20:32:01  Took a break from jacking off to check pre-mar...  ...     None\n",
              "\n",
              "[5 rows x 8 columns]"
            ]
          },
          "metadata": {
            "tags": []
          },
          "execution_count": 13
        }
      ]
    },
    {
      "cell_type": "code",
      "metadata": {
        "colab": {
          "base_uri": "https://localhost:8080/"
        },
        "id": "5eEDlb0YvrA4",
        "outputId": "e146593e-cfa8-4b34-f949-d3230229fb6c"
      },
      "source": [
        "wsb_extra_df.shape"
      ],
      "execution_count": null,
      "outputs": [
        {
          "output_type": "execute_result",
          "data": {
            "text/plain": [
              "(1071095, 8)"
            ]
          },
          "metadata": {
            "tags": []
          },
          "execution_count": 18
        }
      ]
    },
    {
      "cell_type": "code",
      "metadata": {
        "id": "WuksbOtcutSV"
      },
      "source": [
        "wsb_extra_df.to_csv(r'wsb_extra.csv')"
      ],
      "execution_count": null,
      "outputs": []
    },
    {
      "cell_type": "markdown",
      "metadata": {
        "id": "kfnMFu-gylVo"
      },
      "source": [
        "# TextBlob Polarity and Subjectivity with TextBlob"
      ]
    },
    {
      "cell_type": "code",
      "metadata": {
        "id": "hexPFGcAKPtl"
      },
      "source": [
        "#gets the subjectivity score\n",
        "def get_sub(text):\n",
        "  return TextBlob(text).sentiment.subjectivity\n",
        "\n",
        "#gets the polarity scrore\n",
        "def get_pol(text):\n",
        "  return TextBlob(text).sentiment.polarity"
      ],
      "execution_count": null,
      "outputs": []
    },
    {
      "cell_type": "code",
      "metadata": {
        "id": "lSoj4GXtdi0P",
        "colab": {
          "base_uri": "https://localhost:8080/"
        },
        "outputId": "5712514b-591e-4f99-c947-6282f652cbac"
      },
      "source": [
        "# new column for subjectivity score of each post\n",
        "df_GME['subjectivity'] = df_GME['post'].apply(get_sub)"
      ],
      "execution_count": null,
      "outputs": [
        {
          "output_type": "stream",
          "text": [
            "/usr/local/lib/python3.7/dist-packages/ipykernel_launcher.py:2: SettingWithCopyWarning: \n",
            "A value is trying to be set on a copy of a slice from a DataFrame.\n",
            "Try using .loc[row_indexer,col_indexer] = value instead\n",
            "\n",
            "See the caveats in the documentation: https://pandas.pydata.org/pandas-docs/stable/user_guide/indexing.html#returning-a-view-versus-a-copy\n",
            "  \n"
          ],
          "name": "stderr"
        }
      ]
    },
    {
      "cell_type": "code",
      "metadata": {
        "id": "uoltQd1kfL9q",
        "colab": {
          "base_uri": "https://localhost:8080/"
        },
        "outputId": "9b207685-4b19-4e10-c612-1ed728045a9c"
      },
      "source": [
        "# new column for polarity score of each post\n",
        "df_GME['TB_polarity'] = df_GME['post'].apply(get_pol)"
      ],
      "execution_count": null,
      "outputs": [
        {
          "output_type": "stream",
          "text": [
            "/usr/local/lib/python3.7/dist-packages/ipykernel_launcher.py:2: SettingWithCopyWarning: \n",
            "A value is trying to be set on a copy of a slice from a DataFrame.\n",
            "Try using .loc[row_indexer,col_indexer] = value instead\n",
            "\n",
            "See the caveats in the documentation: https://pandas.pydata.org/pandas-docs/stable/user_guide/indexing.html#returning-a-view-versus-a-copy\n",
            "  \n"
          ],
          "name": "stderr"
        }
      ]
    },
    {
      "cell_type": "code",
      "metadata": {
        "colab": {
          "base_uri": "https://localhost:8080/",
          "height": 459
        },
        "id": "1UJQRwQlu8od",
        "outputId": "ebe64172-9510-4bcd-e4d9-8d216f5e7c3d"
      },
      "source": [
        "df_GME.head()"
      ],
      "execution_count": null,
      "outputs": [
        {
          "output_type": "execute_result",
          "data": {
            "text/html": [
              "<div>\n",
              "<style scoped>\n",
              "    .dataframe tbody tr th:only-of-type {\n",
              "        vertical-align: middle;\n",
              "    }\n",
              "\n",
              "    .dataframe tbody tr th {\n",
              "        vertical-align: top;\n",
              "    }\n",
              "\n",
              "    .dataframe thead th {\n",
              "        text-align: right;\n",
              "    }\n",
              "</style>\n",
              "<table border=\"1\" class=\"dataframe\">\n",
              "  <thead>\n",
              "    <tr style=\"text-align: right;\">\n",
              "      <th></th>\n",
              "      <th>title</th>\n",
              "      <th>score</th>\n",
              "      <th>num_comments</th>\n",
              "      <th>body</th>\n",
              "      <th>post</th>\n",
              "      <th>timestamp</th>\n",
              "      <th>date</th>\n",
              "      <th>subjectivity</th>\n",
              "      <th>TB_polarity</th>\n",
              "    </tr>\n",
              "  </thead>\n",
              "  <tbody>\n",
              "    <tr>\n",
              "      <th>1</th>\n",
              "      <td>GME YOLO update — Jan 28 2021</td>\n",
              "      <td>230844</td>\n",
              "      <td>23532</td>\n",
              "      <td>nan</td>\n",
              "      <td>GME YOLO update — Jan 28 2021 nan</td>\n",
              "      <td>2021-01-29 08:06:23</td>\n",
              "      <td>2021-01-29</td>\n",
              "      <td>0.000000</td>\n",
              "      <td>0.000000</td>\n",
              "    </tr>\n",
              "    <tr>\n",
              "      <th>2</th>\n",
              "      <td>CLASS ACTION AGAINST ROBINHOOD. Allowing peopl...</td>\n",
              "      <td>204920</td>\n",
              "      <td>18318</td>\n",
              "      <td>LEAVE ROBINHOOD. They dont deserve to make mon...</td>\n",
              "      <td>CLASS ACTION AGAINST ROBINHOOD. Allowing peopl...</td>\n",
              "      <td>2021-01-29 00:49:11</td>\n",
              "      <td>2021-01-29</td>\n",
              "      <td>0.432372</td>\n",
              "      <td>0.072596</td>\n",
              "    </tr>\n",
              "    <tr>\n",
              "      <th>3</th>\n",
              "      <td>GME YOLO update — Jan 27 2021 ----------------...</td>\n",
              "      <td>185949</td>\n",
              "      <td>15495</td>\n",
              "      <td>nan</td>\n",
              "      <td>GME YOLO update — Jan 27 2021 ----------------...</td>\n",
              "      <td>2021-01-28 08:15:35</td>\n",
              "      <td>2021-01-28</td>\n",
              "      <td>0.000000</td>\n",
              "      <td>0.000000</td>\n",
              "    </tr>\n",
              "    <tr>\n",
              "      <th>10</th>\n",
              "      <td>AMERICANS CAN'T BUY GME, BB?!?! HELP IS ON THE...</td>\n",
              "      <td>157980</td>\n",
              "      <td>23210</td>\n",
              "      <td>Edit* Not just Canadians!! The whole world is ...</td>\n",
              "      <td>AMERICANS CAN'T BUY GME, BB?!?! HELP IS ON THE...</td>\n",
              "      <td>2021-01-29 01:32:00</td>\n",
              "      <td>2021-01-29</td>\n",
              "      <td>0.300000</td>\n",
              "      <td>0.104167</td>\n",
              "    </tr>\n",
              "    <tr>\n",
              "      <th>15</th>\n",
              "      <td>An Open Letter to Melvin Capital, CNBC, Boomer...</td>\n",
              "      <td>138569</td>\n",
              "      <td>7802</td>\n",
              "      <td>**Mods do not delete, this is important to me...</td>\n",
              "      <td>An Open Letter to Melvin Capital, CNBC, Boomer...</td>\n",
              "      <td>2021-01-28 16:06:14</td>\n",
              "      <td>2021-01-28</td>\n",
              "      <td>0.526964</td>\n",
              "      <td>0.055682</td>\n",
              "    </tr>\n",
              "  </tbody>\n",
              "</table>\n",
              "</div>"
            ],
            "text/plain": [
              "                                                title  ...  TB_polarity\n",
              "1                       GME YOLO update — Jan 28 2021  ...     0.000000\n",
              "2   CLASS ACTION AGAINST ROBINHOOD. Allowing peopl...  ...     0.072596\n",
              "3   GME YOLO update — Jan 27 2021 ----------------...  ...     0.000000\n",
              "10  AMERICANS CAN'T BUY GME, BB?!?! HELP IS ON THE...  ...     0.104167\n",
              "15  An Open Letter to Melvin Capital, CNBC, Boomer...  ...     0.055682\n",
              "\n",
              "[5 rows x 9 columns]"
            ]
          },
          "metadata": {
            "tags": []
          },
          "execution_count": 33
        }
      ]
    },
    {
      "cell_type": "code",
      "metadata": {
        "colab": {
          "base_uri": "https://localhost:8080/",
          "height": 289
        },
        "id": "ERml1NXwIqjP",
        "outputId": "e00b2e3a-9522-4bdd-e5c9-bc6880816c51"
      },
      "source": [
        "df_GME.head()"
      ],
      "execution_count": null,
      "outputs": [
        {
          "output_type": "execute_result",
          "data": {
            "text/html": [
              "<div>\n",
              "<style scoped>\n",
              "    .dataframe tbody tr th:only-of-type {\n",
              "        vertical-align: middle;\n",
              "    }\n",
              "\n",
              "    .dataframe tbody tr th {\n",
              "        vertical-align: top;\n",
              "    }\n",
              "\n",
              "    .dataframe thead th {\n",
              "        text-align: right;\n",
              "    }\n",
              "</style>\n",
              "<table border=\"1\" class=\"dataframe\">\n",
              "  <thead>\n",
              "    <tr style=\"text-align: right;\">\n",
              "      <th></th>\n",
              "      <th>title</th>\n",
              "      <th>score</th>\n",
              "      <th>num_comments</th>\n",
              "      <th>body</th>\n",
              "      <th>post</th>\n",
              "      <th>timestamp</th>\n",
              "      <th>date</th>\n",
              "      <th>subjectivity</th>\n",
              "      <th>TB_polarity</th>\n",
              "    </tr>\n",
              "  </thead>\n",
              "  <tbody>\n",
              "    <tr>\n",
              "      <th>1</th>\n",
              "      <td>GME YOLO update — Jan 28 2021</td>\n",
              "      <td>230844</td>\n",
              "      <td>23532</td>\n",
              "      <td>nan</td>\n",
              "      <td>GME YOLO update — Jan 28 2021 nan</td>\n",
              "      <td>2021-01-29 08:06:23</td>\n",
              "      <td>2021-01-29</td>\n",
              "      <td>0.000000</td>\n",
              "      <td>0.000000</td>\n",
              "    </tr>\n",
              "    <tr>\n",
              "      <th>2</th>\n",
              "      <td>CLASS ACTION AGAINST ROBINHOOD. Allowing peopl...</td>\n",
              "      <td>204920</td>\n",
              "      <td>18318</td>\n",
              "      <td>LEAVE ROBINHOOD. They dont deserve to make mon...</td>\n",
              "      <td>CLASS ACTION AGAINST ROBINHOOD. Allowing peopl...</td>\n",
              "      <td>2021-01-29 00:49:11</td>\n",
              "      <td>2021-01-29</td>\n",
              "      <td>0.432372</td>\n",
              "      <td>0.072596</td>\n",
              "    </tr>\n",
              "    <tr>\n",
              "      <th>3</th>\n",
              "      <td>GME YOLO update — Jan 27 2021 ----------------...</td>\n",
              "      <td>185949</td>\n",
              "      <td>15495</td>\n",
              "      <td>nan</td>\n",
              "      <td>GME YOLO update — Jan 27 2021 ----------------...</td>\n",
              "      <td>2021-01-28 08:15:35</td>\n",
              "      <td>2021-01-28</td>\n",
              "      <td>0.000000</td>\n",
              "      <td>0.000000</td>\n",
              "    </tr>\n",
              "    <tr>\n",
              "      <th>10</th>\n",
              "      <td>AMERICANS CAN'T BUY GME, BB?!?! HELP IS ON THE...</td>\n",
              "      <td>157980</td>\n",
              "      <td>23210</td>\n",
              "      <td>Edit* Not just Canadians!! The whole world is ...</td>\n",
              "      <td>AMERICANS CAN'T BUY GME, BB?!?! HELP IS ON THE...</td>\n",
              "      <td>2021-01-29 01:32:00</td>\n",
              "      <td>2021-01-29</td>\n",
              "      <td>0.300000</td>\n",
              "      <td>0.104167</td>\n",
              "    </tr>\n",
              "    <tr>\n",
              "      <th>15</th>\n",
              "      <td>An Open Letter to Melvin Capital, CNBC, Boomer...</td>\n",
              "      <td>138569</td>\n",
              "      <td>7802</td>\n",
              "      <td>**Mods do not delete, this is important to me...</td>\n",
              "      <td>An Open Letter to Melvin Capital, CNBC, Boomer...</td>\n",
              "      <td>2021-01-28 16:06:14</td>\n",
              "      <td>2021-01-28</td>\n",
              "      <td>0.526964</td>\n",
              "      <td>0.055682</td>\n",
              "    </tr>\n",
              "  </tbody>\n",
              "</table>\n",
              "</div>"
            ],
            "text/plain": [
              "                                                title  ...  TB_polarity\n",
              "1                       GME YOLO update — Jan 28 2021  ...     0.000000\n",
              "2   CLASS ACTION AGAINST ROBINHOOD. Allowing peopl...  ...     0.072596\n",
              "3   GME YOLO update — Jan 27 2021 ----------------...  ...     0.000000\n",
              "10  AMERICANS CAN'T BUY GME, BB?!?! HELP IS ON THE...  ...     0.104167\n",
              "15  An Open Letter to Melvin Capital, CNBC, Boomer...  ...     0.055682\n",
              "\n",
              "[5 rows x 9 columns]"
            ]
          },
          "metadata": {
            "tags": []
          },
          "execution_count": 15
        }
      ]
    },
    {
      "cell_type": "code",
      "metadata": {
        "id": "qfrg5Gjf3mII"
      },
      "source": [
        "#exporting for modeling in R\n",
        "df_GME.to_csv(r'df_GME.csv', index = False)"
      ],
      "execution_count": null,
      "outputs": []
    },
    {
      "cell_type": "markdown",
      "metadata": {
        "id": "8wzZuhcnNKRg"
      },
      "source": [
        "# TextBlob NaiveBayesClassifier Polarity with Custom Term Classifier\n",
        "\n",
        "Textblob documentation on classifiers https://textblob.readthedocs.io/en/dev/classifiers.html"
      ]
    },
    {
      "cell_type": "markdown",
      "metadata": {
        "id": "grION0q0mFcb"
      },
      "source": [
        "### Creating sample of tokenized sentences (DO NOT RUN)\n",
        "\n",
        "This is exported to excel and manually classified because of their highly specific language."
      ]
    },
    {
      "cell_type": "code",
      "metadata": {
        "id": "lhyUSopZUKFC"
      },
      "source": [
        "df_GME_sample = df_GME[(df_GME['timestamp'] < '2021-01-27')]\n"
      ],
      "execution_count": null,
      "outputs": []
    },
    {
      "cell_type": "code",
      "metadata": {
        "id": "HNueZAm2i0UT"
      },
      "source": [
        "# selecting the thighest scoring 200 posts \n",
        "df_GME_sample = df_GME_sample.sort_values(['score'], ascending=False).head(200)"
      ],
      "execution_count": null,
      "outputs": []
    },
    {
      "cell_type": "code",
      "metadata": {
        "id": "fK0stmy1Dxvb"
      },
      "source": [
        "#parsing senetences in each post and storing into one string\n",
        "GME_sample = df_GME_sample['post'].str.cat(sep=', ')"
      ],
      "execution_count": null,
      "outputs": []
    },
    {
      "cell_type": "code",
      "metadata": {
        "colab": {
          "base_uri": "https://localhost:8080/"
        },
        "id": "5xIx70o4EW-S",
        "outputId": "d87d538d-ea00-41c0-ae1f-3967c1b12987"
      },
      "source": [
        "#tokenizing string in to sentences\n",
        "sent_tokenize(GME_sample)"
      ],
      "execution_count": null,
      "outputs": [
        {
          "output_type": "execute_result",
          "data": {
            "text/plain": [
              "['GME YOLO update — Jan 22 2021 nan, GME YOLO update — Jan 25 2021 nan, Can I get a flair for buying GME at the literal top ($155.29)?',\n",
              " 'nan, GME YOLO update — Jan 13 2021 nan, $500 Donation For Every $50 Increase in GME Price.',\n",
              " '$1000 Donation To St Jude So Far 💎🙌🚀 nan, Wallstreetsbets getting infiltrated by CCP?',\n",
              " 'Everyone has just read a well done DD of u/notccpbot.',\n",
              " 'I want to alarm you retards and the mods this is how propaganda infiltration works.',\n",
              " 'The first one comes out of the blue and everyone likes the post without considering the guys hidden agenda.',\n",
              " 'Watch the coming weeks another user claming \"chinese citizenship\" giving his perspective because we liked it.',\n",
              " 'This is CCP (Chinese Communist Party) shit to have more influence over investors (users here underestimate how much influence this subreddit has).',\n",
              " '/u/iFinesseThePlug mentioned:\\n\\n* 4 month old account\\n* 1 post in something called [r/GenZedong](https://www.reddit.com/r/GenZedong/)\\n* Never commented before today\\n* Makes an NIO thread and comments 150+ times\\n\\nlink: [https://www.reddit.com/r/wallstreetbets/comments/kucf6r/chinese\\\\_autist\\\\_here\\\\_gonna\\\\_share\\\\_you\\\\_western/](https://www.reddit.com/r/wallstreetbets/comments/kucf6r/chinese_autist_here_gonna_share_you_western/)\\n\\nALSO: im getting downvote botted.',\n",
              " \"Edit 3: Im not racist, I just don't see the autism or retard in him also GME WILL FLY\\n\\n**EDIT4: THE CCP SHILL HAS BEEN BANNED.\",\n",
              " '** r/wallstreetbets **IS OURS!',\n",
              " 'No one will fuck with the money printer.',\n",
              " '**\\n\\n&#x200B;, GME YOLO update — Jan 19 2021 nan, GME EndGame part 3: A new opponent enters the ring Wow - what a week.',\n",
              " 'This is an extension of my DD series on GME.',\n",
              " 'If you haven’t read them and have time, they will provide some background on my previous predictions, some of which have already come true.',\n",
              " '# Previous Important Posts\\n\\n* [EndGame Part 1](https://www.reddit.com/r/wallstreetbets/comments/kwb827/gme_endgame_dtc_infinity/) (DTC Infinity) covered the short positions, the float, and potential snowball impacts of increasing prices, and argued that part of the reason that shorts haven’t closed was that it was pretty much impossible for shorts to close\\n* [EndGame Part 2](https://www.reddit.com/r/wallstreetbets/comments/l0czgs/gme_endgame_part_2_cohen_market_cap_potential/) covered Cohen, fair market cap analysis, and potential investors, in which I talked about the amazing mid-to-long term potential for GME.',\n",
              " '* After the Citron tweet, I shared this [fan fiction on what looked like blatant market manipulation by shorts](https://www.reddit.com/r/wallstreetbets/comments/l1tg88/gme_how_shorts_manipulated_you_and_how_you_can_be/) on the day of the tweet, and offered some education on strengthening your position.',\n",
              " 'This one got buried and is worth reading.',\n",
              " '# What’s happened thus far\\n\\n## Why did GME go up on Friday?',\n",
              " 'The story here is more complex than paid media articles would like you to believe.',\n",
              " 'GME has been driven up by 3 different forces:\\n\\n* Organic buying\\n   * There is a mixture of growing positive sentiment in the investor world (not just WSB) about GME’s future\\n   * There’s been a lot of good due diligence shared not just on WSB but even outside (for example, see gmedd.com)\\n   * The Citron Backfire\\n      * Shorts were on the ropes and kept looking for hail mary’s.',\n",
              " 'They went to Citron and [coordinated a dump](https://www.reddit.com/r/wallstreetbets/comments/l1tg88/gme_how_shorts_manipulated_you_and_how_you_can_be/) to try to bring the price down.',\n",
              " '* However, this backfired.',\n",
              " 'Citron is so disliked in the industry that new wealth poured into GME in the face of Andrew Left’s pleas.',\n",
              " 'Even when Benzinga brought Andrew Left on air, **minutes after he left** [they bought shares live on their show](https://youtu.be/mFiFWBrE5DE?t=5104)**.',\n",
              " '**\\n      * The next day, our very on u/Uberkikz11 [was on Benzinga](https://youtu.be/GLzTU87MJMM?t=837) and more shares were bought.',\n",
              " '* Larger investors piling in\\n      * In my [EndGame Part 2](https://www.reddit.com/r/wallstreetbets/comments/l0czgs/gme_endgame_part_2_cohen_market_cap_potential/), I hypothesized that we’d soon see larger investors pile in.',\n",
              " 'Then, on WSB, we saw posts from a [venture capitalist](https://www.reddit.com/r/wallstreetbets/comments/l0yzb5/a_venture_capital_perspective_on_gme/) as well as a [hedge fund investor](https://www.reddit.com/r/wallstreetbets/comments/l2zk5e/a_hedge_fund_managers_perspective_on_gme/)\\n* Gamma squeeze\\n   * Once the organic buying started, we rolled into a gamma squeeze.',\n",
              " 'Many people written about the gamma squeeze so I won’t repeat, see [this post](https://www.reddit.com/r/wallstreetbets/comments/l2t9bf/gme_i_think_this_is_a_gamma_squeeze_where_dealers/) for an example.',\n",
              " '* Ultra low liquidity - In EndGame part 1, I talked about how the actual actively traded shares are much lower than the reported float, and **share availability has been reducing** driven by lots of diamond hands, not just among smaller guys like us but the larger folks too.',\n",
              " '* I believe there were some short covers on Friday, but Ortex was still estimating 71M shares short at the eod.',\n",
              " 'However, not many people have talked about why it **went down**\\n\\n## Why did GME come down?',\n",
              " 'Here’s where things got interesting for me, and something I think happened again today (Monday) when GME climbed up over 100% but then had a rapid reversal, closing 20% above yesterday but closing below open.',\n",
              " 'So Friday looked like a slam dunk - gamma squeeze, no shorts available to short, puts were getting exceedingly expensive as a short tactic.',\n",
              " 'What happened?',\n",
              " 'This is my fan fiction, based on what I saw.',\n",
              " '**I believe** [**market-makers**](https://www.nyse.com/markets/nyse/membership) **took a non-neutral stance and began actively shorting the stock after the second halt.',\n",
              " '**\\n\\nMarket-makers are responsible for maintaining liquidity and functioning in the stock market, but they also have abilities that others don’t - for example they are legally allowed to naked short for “liquidity purposes”.',\n",
              " 'They also have the ability to halt trading.',\n",
              " 'There were two halts in the day on Friday: First, when GME was up 69% (heh heh), and then a few minutes later when it kept climbing after the first halt was relaxed.',\n",
              " 'Note that at the time of the first halt, the **bid-ask spread was $10 on the underlying** a huge signal that there just were not enough shares to buy.',\n",
              " 'However, after the second halt, something strange happened.',\n",
              " 'Whereas a few minutes prior, there were no sellers willing to sell their shares below $75, **within 15 minutes** after the halt there were sellers at 70, 65, 60, and 56.',\n",
              " 'Where did these sellers come from?',\n",
              " '&#x200B;\\n\\n[Incredible momentum reversal on Friday 1\\\\/22 to push the price not too far above the 60c strike price.',\n",
              " '](https://preview.redd.it/tt5zodp6pkd61.png?width=704&format=png&auto=webp&s=fa22980543213227bf5b3d17166129ac6cb65a65)\\n\\nMy speculation?',\n",
              " 'This was a coordinated **naked short ladder attack**.',\n",
              " 'In this type of attack, short seller A sells to short seller B, who then turns around to short seller A at a lower price, etc.',\n",
              " 'and with a **very small amount of capital** you can wreck the momentum of a stock and make people think that others are running for the exits.',\n",
              " 'Notice how the stock dropped from a high of $75 on Friday to below 60 - the highest expiring SP for the 1/22 options, and stayed tight in range for the rest of the day.',\n",
              " 'Now, for compliance reasons, MM are required to be neutral by EOD, so 20 minutes before close, MMs had to buy back all their short positions, which led to the strong close above 60.',\n",
              " 'All this led me to believe that the **real fair market price for GME was above $65.',\n",
              " '** Without the market makers interference, GME would have closed higher.',\n",
              " '## A repeat on Monday\\n\\nThe short ladder attack repeated on Monday.',\n",
              " 'GME opened strong above $90, and quickly climbed to **a high above $155** before it was halted, immediately after the halt, a **short ladder attack again** drove the price down\\n\\n&#x200B;\\n\\n[Dejavu - Incredible Momentum Reversal after trading halts.',\n",
              " '](https://preview.redd.it/qm81rd0dpkd61.png?width=637&format=png&auto=webp&s=4b4563e7dd2e626fb09dca69668c24631932e707)\\n\\nBoth days, there **were rapid and significant reversals in momentum.',\n",
              " '**\\n\\nNow, I kept wondering - why would MM’s take the side of the shorts?',\n",
              " 'What’s in it for them?',\n",
              " 'One theory was that they were not adequately hedged, with the low liquidity of the stock meaning that the price was moving up too fast for them to acquire the shares they needed to.',\n",
              " 'But then the news hit today:\\n\\n# A new opponent enters the ring:\\n\\n&#x200B;\\n\\nhttps://preview.redd.it/8htb0scgpkd61.png?width=926&format=png&auto=webp&s=228a8a84e592ea4642a61c5e07e07ae344ac8f2c\\n\\nThat’s right, the **same Citadel** [**listed by the NYSE as one of their designated market makers**](https://www.nyse.com/markets/nyse/membership) is now invested in Melvin’s hedge fund and has a financial interest in the direction of GME’s share price.',\n",
              " '**Hey media - you want a manipulation story?',\n",
              " 'You’re missing the big one.',\n",
              " '**\\n\\n# Now what?',\n",
              " 'Shorts have pulled new dirty tactics each time they’ve been pushed to the edge.',\n",
              " 'Paid media attacks, Citron’s fluff tweet + coordinated shorting, and now they’ve got the **actual people who get all the order flow on their side.',\n",
              " '**\\n\\nOn the other hand, GME is still up over 20% and now trading at $88.00 after hours, which is well above the previous day’s high.',\n",
              " '&#x200B;\\n\\nhttps://preview.redd.it/rr5qet4ipkd61.png?width=724&format=png&auto=webp&s=96d28bf446a714906712503726f5903a681d5368\\n\\nWhat this tells me is that GME’s **true price is still being suppressed**.',\n",
              " 'They are using every tactic possible, even changing the [bid-ask spread rules](https://thefly.com/permalinks/entry.php/id3233043/GME;IRBT-NYSE-changes-bidask-differentials-on-options-for-GameStop-iRobot) on options to specifically target retail’s buying of options.',\n",
              " 'We’re now playing the game against the folks who write the rules of the game.',\n",
              " 'Some shorts may have covered today - with prices below $60 at one point they had some great opportunities to.',\n",
              " 'However, there is **no way all of the shorts who need to exit covered today.',\n",
              " '**\\n\\nThe short position still lost 20% from yesterday.',\n",
              " 'They’ve got more fingers in the dam, but it’s definitely cracking.',\n",
              " 'Also, **every call option purchased prior to 1/25 is ITM and profitable,** while **every put option purchased prior to 1/25 is OTM.',\n",
              " '**\\n\\nAnd, for some reason, the SEC still doesn’t want to enforce the threshold securities list for GME, where it’s now **been on for more than 30 days in a highly covered “short squeeze”.',\n",
              " '**\\n\\n&#x200B;\\n\\nhttps://preview.redd.it/rbrf6khjpkd61.png?width=936&format=png&auto=webp&s=7e4f432ff02dbf475a03cc68c54a5a0f5f0de429\\n\\n# Margin impacts:\\n\\nNote that at this point, most brokers have increased margin on GME.',\n",
              " 'This means that people that are long or short on margin will need to put up capital to hold their positions.',\n",
              " 'This also means **puts will get more expensive** as people who sell puts will have to maintain 100% of the notional in their accounts to secure the put, so MMs will have fewer retail sellers of puts to absorb the demand.',\n",
              " 'That means it’s not a bad idea to sell puts to acquire shares if you’re aiming for the long-term and not the squeeze, but keep in mind you’ll need the exact same capital as if you’d bought the shares, so it’s up to you on this.',\n",
              " 'For shorts, a margin increase while the price is moving against you (even with retracements) is no good.',\n",
              " '# My speculation\\n\\n* Cohen and the GME board have been strangely silent this entire run.',\n",
              " 'It’s possible they can’t say anything at all during the pre-earnings quiet period, but I’m sure they can see what’s happening.',\n",
              " '* MMs will continue to play dirty, but at the same time they will need to continue to need to buy GME shares to delta hedge 1/29 and later ITM options as we get closer to expiry.',\n",
              " '# Things to be careful about\\n\\nAs you can see, this is no easy win.',\n",
              " \"I've been in GME for a few months but I've seen almost every trick in the book.\",\n",
              " 'In addition to the [suggestions I wrote about in this post](https://www.reddit.com/r/wallstreetbets/comments/l1tg88/gme_how_shorts_manipulated_you_and_how_you_can_be/), here’s some things to be careful about.',\n",
              " '* **Be careful about swapping ITM calls for OTM calls:** it can be tempting to trade-up your options for higher return, but be mindful of the delta impact.',\n",
              " 'You may actually be driving the sale of shares by MMs when you don’t mean to.',\n",
              " 'For example, if you sell a .5 delta call for 2 .2 delta calls, that’s net reduction of 10 shares that MMs have to hold long as leverage.',\n",
              " '* **Be careful about being short any calls this week:** Not only do you limit your upside (which is dumb in the prospect of a squeeze), you could end up in a nightmare scenario.',\n",
              " 'A call that ends OTM on Friday could end up ITM after hours if you didn’t sell it, and you may get assigned while the underlying continues to go up.',\n",
              " '* **There are a few other dirty tactics shorts can play.',\n",
              " '** I’m not specifically going to share them here because I don’t want to give the ideas circulation, but\\n   * **Choose your own limit sells based on personal sell points.',\n",
              " '** Don’t copy others and don’t try to be memey.',\n",
              " 'Make your own decisions.',\n",
              " '* **Stop sharing your positions publicly.',\n",
              " '** I know this is anti-wsb, and I think sharing them is great for this community, but in the case of GME it’s an **attack vector** for you.',\n",
              " '* **Be careful of holding weeklies until expiration.',\n",
              " '** Remember the multiple trading halts?',\n",
              " 'What if trading gets halted on Friday at 2pm and doesn’t resume for the rest of the day?',\n",
              " '**All your 1/29 calls would expire worthless.',\n",
              " 'Depending on your broker and your cash positions, maybe even your ITM ones.',\n",
              " '** Roll (or sell, if you’re taking profits) your weeklies well before expiration.',\n",
              " '* **Be careful about buying on margin.',\n",
              " '** Brokers are rapidly increasing margins.',\n",
              " 'If you bought on margin with 2:1 leverage, and the stock went up 100%, you’d be in margin call even without a margin change.',\n",
              " 'If the broker moves margin against you, you’ll get to margin call faster.',\n",
              " '* **Don’t bet more than you can afford to lose.',\n",
              " '** I’ve been in GME long enough to know that just when you think going up is a sure thing (remember last Monday with the short sale restriction?',\n",
              " '), you can be surprised by a new trick.',\n",
              " 'If you bet it all on weeklies all at once, you may not be able to recover from being wrong on the timing.',\n",
              " 'Consider longer expiry or spreading your purchases out.',\n",
              " 'I’ve held through multiple 30-40% drawdowns in the underlying; and **held through a 50% drawdown today**, so you need to be ready for the volatility.',\n",
              " '* **Watch out for stop loss hunts.',\n",
              " '** It’s common practice for shorts to hunt for stop losses for cheap shares.',\n",
              " 'If you’ve set a stop loss, be really sure about it.',\n",
              " 'This is not financial advice; do your own DD.',\n",
              " 'I’m holding over $1M in shares and calls.',\n",
              " '# 1/26 Update\\n\\nHi everyone.',\n",
              " 'Sorry for not posting or replying to comments.',\n",
              " 'I was auto-banned from WSB when this post was auto-deleted by the auto-mod.',\n",
              " 'Thanks to u/zjz to reversing the auto-deletion of the post though as it looked like it was helpful to the community.',\n",
              " 'Hope you all made a ton of money today!',\n",
              " '**Quick Notes:**\\n\\n* At an after-hours price of **$209 a share**, **every call option, for every expiry, for every strike price is in-the-money.',\n",
              " 'This is the third time this has happened for GME recently.',\n",
              " '** Amazing.',\n",
              " 'What this means now is that market makers will need to buy a lot of shares to hedge for the calls expiring this week.',\n",
              " 'Heed my above warnings.',\n",
              " '* At this price, shorts **will start to get liquidated.',\n",
              " '** Combining the 400% weekly gain with the margin requirements increasing across the board, brokers will force close short positions.',\n",
              " 'Starting maybe with the small guys, but it will cause a ripple effect.',\n",
              " '**Things could move fast.',\n",
              " '** Some funds may get additional bailouts this week to hold out.',\n",
              " '* **You need to decide your own exit.',\n",
              " \"** Only you know how much $ you're playing with, how much you're willing to lose, how important the $ is to you, etc.\",\n",
              " \"**Minimize you're regret, don't maximize your profits.\",\n",
              " \"** If you are thinking about taking profits this week, spread out your sells so you don't kick yourself over timing things poorly.\",\n",
              " \"Personally, I think we are in **unprecedented territory** and that there's no way all of the shorts have exited already, so we're not done.\",\n",
              " 'I could be wrong.',\n",
              " 'See EndGame part 1.',\n",
              " '* **Close spreads.',\n",
              " '** With every call ITM, you are at the risk of early-assignment.',\n",
              " \"If you don't watch closely, you could be hit with sky-high hard-to-borrow fees and get killed on what you thought was a profitable trade.\",\n",
              " '* **Watch for ripple effects.',\n",
              " 'This is already happening.',\n",
              " '** When funds get liquidated, they have to buy back all their other shorts (see AMC, BBBY) and sell their longs (look at BABA after-hours).',\n",
              " 'Want to play GME without playing GME?',\n",
              " 'Maybe throw a little $ at BBBY.',\n",
              " 'You do you.',\n",
              " '* In EndGame Part 2, I talked about potential investors, and how the higher price is gonna attract the bigger $.',\n",
              " 'Today we saw Chamath, Winklevoss, and others.',\n",
              " 'And then Elon tweeted and simultaneously stimulated the buying frenzy and scared the crap out of shorts.',\n",
              " \"I'm just gonna copy what I said about this potentiality\\n   * ***Elon****: (Least likely, completely improbable, but cataclysmic event).\",\n",
              " 'Elon hates shorts.',\n",
              " 'Elon, with TSLA, went through the pain that GME is going through.',\n",
              " 'TSLA almost went bankrupt because shorts were pushing the price down so it was difficult to raise the cash they needed to survive.',\n",
              " 'Sound familiar?',\n",
              " '* ***Elon’s wealth swings more in a day than GME is worth in entirety.',\n",
              " '*** *Elon could* ***buy all the fucking float of GME with what he makes in 8 hours****.',\n",
              " 'One call from fellow entrepreneur and* [*aspiring twitter-meme-god*](https://twitter.com/ryancohen) *would absolutely wreck the game.',\n",
              " '*\\n\\n1.',\n",
              " '***If you are short gamestop****, you are one meme purchase by the richest man in the world away from a fucking cataclysmic event.',\n",
              " '\"Hey son, I heard you like games.',\n",
              " 'So I bought you gamestop.',\n",
              " 'All of it.\"',\n",
              " '🚀*\\n\\n&#x200B;\\n\\n&#x200B;, Watching everyone post millions in Gain Porn as I continue to hold my 15 GME shares.',\n",
              " 'nan, IM NOT SELLING THIS UNTIL AT LEAST $1000+ GME 🚀🚀🚀🚀🚀🚀 BUCKLE THE FUCK UP nan, First 20 bagger!',\n",
              " 'GME to 100 EOW nan, My SURGEON Is On WSB, And Basically Just Called Me A Retard So, I come in today for a consultation about getting a tumor in my leg removed.',\n",
              " \"We're talking about the risks, etc., and it gets quiet as he's tying whatever doctor stuff up.\",\n",
              " 'Naturally, I am thinking about the market.',\n",
              " 'I say, \"... you got any stocks?\"',\n",
              " 'He laughs, looks me in the eye and says, \"Virgin Galactic.\"',\n",
              " 'At this point I laugh out loud because **why is the guy in charge of my livelihood in $SPCE.',\n",
              " '**  \\n\\nI go, \"space?',\n",
              " 'LOL\"  \\n\\nHe (again, SURGEON) says **\"You ever hear of Wall Street Bets?',\n",
              " '\"**  \\n\\nI am immediately bewildered and slightly arroused.',\n",
              " 'I say of course, he asks me if I was here in MARCH, and then starts talking about the \"guy who was in GME before it was cool.\"',\n",
              " 'He then asks me if I have any money in the market.',\n",
              " 'I tell him I have 88 grand in TSLA right now, he *bursts* out laughing and says...  \\n\\n##**\"Yeah, you\\'re definitely a member\"**  \\n\\nTLDR; A man with a PhD called me a retard, professionally, because of WSB  \\n\\nBest doctor visit ever  \\n\\nEDIT: I can\\'t believe this made front page.',\n",
              " \"I'm gonna show him this before the surgery lol\\n\\nEDIT2:\\n\\n[TSLA positions](https://i.imgur.com/uAHdr9y.jpg), Some retard walked into my clinic today needing a tumor removed from his leg Me, professional surgeon at my clinic for just another routine day of patient assessments.\",\n",
              " 'Guy comes in saying he has a tumor on his leg that needs removed, easy enough.',\n",
              " 'While I’m literally looking at the tumor on this guys leg he blurts out “got any stonks?” like it’s the only thing he’s talked about in years.',\n",
              " 'Complains he has TSLA 500 calls expiring early next year, I tell him I’m balls deep in $SPCE and that I was the guy who was on GME before it was cool.',\n",
              " 'I suggest he gets treated for his undiagnosed autism.',\n",
              " 'Retard rage quits the assessment and walks out of clinic due to my comment.',\n",
              " 'I didn’t get to tell him he has testicular cancer which is causing a tumor in his leg; He likely won’t live to see those calls expire., GME Comrades!',\n",
              " 'Prepare to receive your mission!',\n",
              " 'nan, You guys need to stop wasting money on useless Reddit awards and buy GME shares Like seriously, those top shitposts, memes getting 5+awards are pissing me off.',\n",
              " 'We are at war right now!!',\n",
              " 'Fuck those Wall Street jackass who’s been calling us dimwits, we are about to teach them a lesson and make a name of ourselves.',\n",
              " 'But you guys are here wasting money on stupid Reddit awards.',\n",
              " 'I’ve been skipping my 20$ Wendy’s chicken dinner combo for three months now and buying GME every time it dips below 20$.',\n",
              " 'All of you should be doing the same, everyone jack to the fucking tits!',\n",
              " 'Position: GME 🚀🚀🚀🚀\\n\\nEdit: ARE YOU GUYS FUCKING FOR REAL!!!???',\n",
              " 'Edit2: I guess we just inverse everything around here...\\n\\nEdit3: WHAT THE ACTUAL LIVING FUCK.',\n",
              " 'Fuck it.',\n",
              " 'Tell Cuck Sherman we will hostile take over GME using Reddit awards with lord Cohen.',\n",
              " 'Let’s squeeze those motherfuckers back to their mom’s basement.',\n",
              " '🚀🚀🚀, An open letter to CNBC Before you spend another day hosting your shill hedge fund buddies to come on the air and demonize r/wallstreetbets I hope you read this.',\n",
              " 'Your contempt for the retail investor (your audience) is palpable and if you don’t get it together, you’ll lose an entire new generation of investors.',\n",
              " 'I keep thinking about these funds that are short GME like your boys at Melvin Capital / your coverage of this subreddit and I’m getting madder and madder.',\n",
              " 'These funds can manipulate the market via your network and if they screw up big because they don’t even know the basics of portfolio risk 101 and using position sizing, they just get a bailout from their billionaire friends at Citadel.',\n",
              " 'Then they have the nerve to turn us into public enemy #1 just because we believe in an underdog company getting a second chance.',\n",
              " 'We don’t have billionaires to bail us out when we mess up our portfolio risk and a position goes against us.',\n",
              " 'We can’t go on TV and make attempts to manipulate millions to take our side of the trade.',\n",
              " 'If we mess up as bad as they did, we’re wiped out, have to start from scratch and are back to giving handjobs behind the dumpster at Wendy’s.',\n",
              " 'Seriously.',\n",
              " 'Motherfuck these people.',\n",
              " 'I sincerely hope they suffer.',\n",
              " '__We want to see the loss porn.__, GME YOLO update — Jan 14 2021 nan, GME Thoughts, YOLOs, Gains, Stonk Updates, 🚀🚀🚀: they all go here.',\n",
              " 'Jan 25 edition.',\n",
              " 'Thanks all for the quick rise to max comments of 100k !!',\n",
              " \"At the request of Reddit admins, we'll lock this thread to help with server performance stuff (I'm not the technical guy).\",\n",
              " \"To keep discussing the ways we can now financially shame our wives' boyfriends, continue the shitposting here:\\n\\nhttps://www.reddit.com/r/wallstreetbets/comments/l4syrd/gme_megathread_part_2/?utm_medium=android_app&utm_source=share, The GME Journey Doesn't End Here nan, PSA: Always understate your gains to friends and family Hello fellow astronauts,\\n\\nOn the eve of this great day, I think it's important to say that it's always best to understate/undersell your winnings to friends and family.\",\n",
              " 'I, for instance, will only tell when asked, and then give a figure around 50/60% of the real figure.',\n",
              " '**There are a multitude of reasons for doing this:**\\n\\n1.',\n",
              " 'People do not understand the hard work and risk you have taken for these gains, and so will expect them for free\\n\\n2.',\n",
              " 'Manipulative people will come out of the woodwork\\n\\n3.',\n",
              " 'You may have taxes yet to pay (I know it sucks)\\n\\n4.',\n",
              " 'You may lose all of this money yet (I am taking an investing break after this insane ride) \\n\\n5.',\n",
              " \"The money is not a running tap, and is lump sums, so don't build a lifestyle around it \\n\\n6.\",\n",
              " \"Money is so much easier to spend than to make, please be sensible\\n\\nThat's all I have to say.\",\n",
              " 'Have a quiet cigar or champagne when you do cash out (above $1000 of course), or come up with some other excuse as to where the money came from.',\n",
              " 'GME and BB to alpha centauri 🚀🚀🚀 Godspeed bois\\n\\nEdit: please also consider giving a portion of you funds to a charitable cause to make the world better in many ways, Founder of Reddit tells Chamath Palihapitiya to buy $GME 🚀🚀🚀 nan, Ode to GME.',\n",
              " 'Holding my 14.56 shares.',\n",
              " 'nan, THX TO WSB AND GME I CAN FINALLY GIVE BACK TO MY 70 YEARS OLD DAD, I WILL BE HELPING TO PAY FOR HIS NEW ROOF, HE WAS SO SCARED OF NOT BEING ABLE TO PAY.',\n",
              " 'I LOVE YOU WSB.',\n",
              " 'REALLY!',\n",
              " \"WE ARE GOING TO THE MOON 🚀🚀🚀🚀 nan, GMREEEEEEEEEEEE Containment Thread - GME shitposts go here Don't be doxxing citron or anyone else.\",\n",
              " \"That's bad ju-ju and the Tendieman won't come to visit you if you do.\",\n",
              " '[Soon may the Tendieman come](https://www.reddit.com/r/wallstreetbets/comments/l0dfrp/the_tendieman_lyrics_and_video_by_uquigonshin/), GME YOLO update — Oct 8 2020 nan, GME Megathread Part 2 Keep all $GME discussion and memes in here.',\n",
              " 'No market manipulation., The GME Thread Part 1 for January 26, 2021 Good luck today.',\n",
              " \"[Here's some WSB stats.](http://wsb.gold/public/dashboard/e65fcfcb-70a4-4d86-b7fb-888057c67881).\",\n",
              " 'If you missed the memo the other day: commenting on the Daily Thread (not this) and submitting are now restricted to 30+ day members only.',\n",
              " \"There's a chance it'll mistake you for a noob if you don't talk much.\",\n",
              " 'Sorry.',\n",
              " \"As a reminder to all the new people here, we don't talk about tickers below 1 billion market cap.\",\n",
              " \"Do us a favor and read the rules if you haven't.\",\n",
              " \"They're on the sidebar., (GME DD) One DD to rule them.\",\n",
              " 'One DD to find them.',\n",
              " 'One DD to to bring them all and in the darkness bind them.',\n",
              " '# Ok retards listen up.',\n",
              " 'Been seeing lots of cucks writing small DD pieces of bullish or bearish shit.',\n",
              " 'You cucks need to read this cos this is the whole fucking thing.',\n",
              " 'this is also basically my magnum fucking opus so upvote retards.',\n",
              " 'Dont give me awards, legit go buy a powerup membership for a year.',\n",
              " 'Cant tell you to buy shares because we gonna get closed down by SEC somehow.',\n",
              " 'im also not some fininacial advisor or whatever just read this and make your own conclusions degenerates.',\n",
              " 'Im not fucking liable lmao but i am balls deep 125 shares @ 19 average now, its literally all I have on this earth.',\n",
              " 'TLDR: GME DD sumarized, Margin wont affect longs the same way as shorts right now.',\n",
              " 'Dont buy shares on margin though and get ready to supply collateral regardless.',\n",
              " 'Short interest is up and some smart retards are on our side.',\n",
              " 'Read the post to raise your IQ from 8 to 9 though.',\n",
              " '**🐻 🌈s  mega fuk and even posting high level bear shit to scare us.',\n",
              " '**\\n\\nCompulsory 7 rockets so you autists dont start having a seizure or something:\\n\\n🚀🚀🚀🚀🚀🚀🚀\\n\\nBasically been seeing posts about \"blah blah margin this, short interest this, WS to clever blah\".',\n",
              " 'Going to split this post into distinct sections but im no english degree cuck so dont expect any bear bloomberg  level shit or something\\n\\n# 1.',\n",
              " 'GME is a fucking steal regardless of squeeze.',\n",
              " 'Buy now or be left on a dying planet while we head to alpha fucking centauri.',\n",
              " 'So basically everyone here knows about Ryan cohen and his horsemen of the apocalypse coming to steal melvins lunch money.',\n",
              " 'This man bought apple stock in 2017.',\n",
              " 'Hes fucking rich.',\n",
              " 'Hes also an eccommerce wizard, taking CHEWY from a measly 100k co-founded company to a $4 Billion company in 2017 at which point he sold it to petsmart or something.',\n",
              " 'Its now valued at $40 Billion, granted anything eccommerce now gets money thrown at it like a stripper in a high flying strip club or some shit idk im a virgin so dont listen to me, so it may well be a bubble.',\n",
              " 'Regardless the thing grows its revenue like bacteria doing binary fission on agar jelly 🚀🚀🚀🚀.',\n",
              " 'THEY SELL FUCKING PET FOOD.',\n",
              " 'the market for that is like what?',\n",
              " '$1?.',\n",
              " 'Gaming is going to the moon and is basically recession proof because of how cheap game is compared to other things for how much you get out of it.',\n",
              " 'Any bears saying that Gamestop cant compete with digital or with amazon.',\n",
              " 'Ryan cohen already slapped amazons head in with a no name brand.',\n",
              " 'Hell fucking do it again.',\n",
              " 'About digital everyone here already knows, microsoft deal, Ryan cohen also mentioned the possibility of having \"Digital game exchanging\" or something, image below.',\n",
              " '[Online trade ins.',\n",
              " 'It says online.🚀🚀🚀🚀🚀🚀🚀](https://preview.redd.it/2ba9j5d2zvb61.png?width=414&format=png&auto=webp&s=7b6f3f26c3588fdb8cc779aee8a3b1ce42859f33)\\n\\nHe also mentions streaming, digital content etc and aside from all the digital stuff wants GME to move to a community centric structure where big stores operate with VR centres, Internet cafe, table games like Dungeons and dragons and  40k (rapidly growing somehow will boom post covid) and as we now might know due to this post:\\n\\n[https://www.reddit.com/r/wallstreetbets/comments/kypuyb/gme\\\\_dd\\\\_buildapc\\\\_kiosks\\\\_coming/](https://www.reddit.com/r/wallstreetbets/comments/kypuyb/gme_dd_buildapc_kiosks_coming/)\\n\\nBUILD YOUR OWN PC KIOSKS.',\n",
              " 'This is the literal smell of money.',\n",
              " 'Go to your Gamestop to build your PC with your kid?',\n",
              " \"Gamestop is already the goto place wher your parents go to get you your latest digital fix so now they can go build PC's and it cant go tits up?\",\n",
              " '**Now for some pussy boomer talk (aka fundametals or something).',\n",
              " '**\\n\\nThe expected Q3 EPS was -0.84$ or something close to that.',\n",
              " 'The actual loss was -0.53$ but boomzoids only talked about the revenue drop.',\n",
              " 'No shit sherlock its closing all its dead weight stores.',\n",
              " 'In the holiday report I will talk about a bit more below, 11% of stores were closed and revenue dropped only 3%.',\n",
              " 'Comparitive store sales increased nearly 5%.',\n",
              " 'They cant get enough consoles to sell so expect the momentum to carry on for the whole year I expect.',\n",
              " 'Eccommerce is up 300% over holidays.',\n",
              " 'In Q3 they reported 800% to date.',\n",
              " 'In 2020 Gamestops eccomerce went up 24x.',\n",
              " 'YES YOU READ THAT RIGHT.',\n",
              " 'Online sales now account for \\\\~33% of Gamestops sales now.',\n",
              " 'This is literally gold dust for ryan cohen.',\n",
              " 'We are still trading at 0.38 P/S at this price.',\n",
              " 'The average P/S for the SP500 is 2.753.',\n",
              " 'Massive upside on these two numbers alone.',\n",
              " 'Burry got in this for the MOASS and the intrinsic value.',\n",
              " 'At the time intrinsic value was like $22 and this will pump up as RC takes it to new heights.',\n",
              " 'GME in Q3 somehow halved the expected loss.',\n",
              " 'Big Bad Boomer sherman somehow didnt fuck it up that bad by saying \"omnichannel\" at the speed of light.',\n",
              " 'Yes the revenue dropped 30% but thats covid for you.',\n",
              " 'As the PC kiosk post above shows GME now sells small items basically so fast they have to have fake stock lmao.',\n",
              " 'The new console cycle always spikes the share price sky high too, as youll see in a crayon drawing later.',\n",
              " 'The potential revenue that this console cycle brings in could be huge.',\n",
              " 'Biggest ever is potentially a true statement and Gamestop sells every fucker they get.',\n",
              " 'Combine the fact that they share game pass ( a massive hit) revenue from the xboxes they sell, something no other retailer has, revenue could be sky high.',\n",
              " 'Now I know you autists are starting to develop short term dyslexia or something but keep reading.',\n",
              " 'This could be the most important piece of shit you read in your life.',\n",
              " 'How do you think I feel?',\n",
              " 'My brains overheating just trying to write coherent sentences.',\n",
              " 'Holdiay report was a bear trap imo, saw people saying the decrease in revenue was bearish blah blah blah.',\n",
              " 'Lies.',\n",
              " 'Comparitve store sales rose 5% and thats with some towns having like 4 gamestops.',\n",
              " 'When the leases dont get renewed and these stores get liquidated (Also in Ryan cohens letter) they can just get this influx of cash and pay down debt and invest in logistics and marketing and new growth.',\n",
              " 'Gamestop realistically needs like 1/2 the stores they have now and just need to improve efficiency.',\n",
              " '[https://www.entrepreneur.com/article/349890](https://www.entrepreneur.com/article/349890) this article the messiah himself wrote.',\n",
              " 'In it he states:\\n\\n>At Chewy, we had maniacal discipline when it came to how we spent money.',\n",
              " 'The company-wide culture of frugality came from his example.',\n",
              " 'Free cash flow was our unwavering governor of growth.',\n",
              " 'We grew Chewy from $200 million in sales in 2013 to $3.5 billion in 2018 while spending only $130 million in capital, all of which went into opening distribution centers across the country and acquiring new customers.',\n",
              " 'Maniacal.',\n",
              " 'Thats all I need to say.',\n",
              " 'The guy is going to get to mars before papa musk and he wont even break a sweat.',\n",
              " 'When FCF starts to catch up to WS expectations every analyst who donwgraded them is gonna get ditched and upgrades will start to happen.',\n",
              " 'So in the heading i said its a steal.',\n",
              " 'That implies some future higher price target right?',\n",
              " 'Well here is my guess for a conservative price target based on the information above and also some more I probably forgot cos im a retard.',\n",
              " '&#x200B;\\n\\n[The difference is where share price looks to be and where market cap places us is due to difference in outstanding shares \\\\(another reason shorts are fuk\\\\)](https://preview.redd.it/dehiug393wb61.png?width=1552&format=png&auto=webp&s=f198773c36d5109382eb2beba6fade3c059121df)\\n\\n>The difference is where share price looks to be and where market cap places us is due to difference in outstanding shares (another reason shorts are fuk)\\n\\nThis alone means if for not inflation adjusted terms we reached 9.8Bn or whatever the crayon chart says we should reach:\\n\\n9.8/2.48 = \\\\~3.95   3.95 \\\\* $35.5 = \\\\~$140.',\n",
              " 'The share price now to reach old mkt cap is $140 fucking dollars.',\n",
              " 'Thats a 4 bagger from now.',\n",
              " 'It gets better.',\n",
              " 'from [statista](https://statista.com) :\\n\\n>Considering the **annual inflation rate in the United States** in recent years, a 2.24 percent **inflation rate** is a very moderate projection.',\n",
              " 'If we take 2.24% inflation, the this share price target in todays money means we should reach $182 because of $140 \\\\* 1.0224\\\\^12, = $182 in adjusted.',\n",
              " 'Thats more than a 5 bagger.',\n",
              " 'basically we could see $10 GME price from short manipulation and buying more is basically a lottery ticket!',\n",
              " 'I really dont understand the bear thesis.',\n",
              " 'The only bear thesis ( short term this one) was that margin would affect longs more but I looked at it on ortex and its basically bullshit.',\n",
              " 'Buy shares with cash though dont use margin.',\n",
              " 'Own your piece of GME dont borrow it.',\n",
              " 'Bears just spout \"DigITaL\" or \"BlOCKbuSTER\" so much Ryan tweeted a shit emoji at them.',\n",
              " 'All the bears think theyre clever.',\n",
              " 'What the fuck makes those cucks special?',\n",
              " 'How are they different now than the ones from $2, or $4, or $10.',\n",
              " '**Bears are betting against:**\\n\\nRyan fucking cohen, buisness legend CHEWY from 100k investment, now 40 billion\\n\\nMichael burry, Investing legend, predicted the housing crisis and is in GME since april\\n\\nu/DeepFuckingValue , the new WSB god chad, now basically a whale\\n\\nReggie Fils-Aimé, gaming and buisness legend, former COO of nintendo\\n\\nSenvest, a mega fund thats actively managed\\n\\nNorweigan sovereign wealth fund\\n\\nFidelity, Vanguard and blackrock own this shit and are never selling they literally dont give a shit\\n\\nAll of WSB has now formed a shield wall against the bears\\n\\nMicrosoft gave GME highly discounted azure deals and free office use for all employees and a revenue sharing agreement.',\n",
              " 'Bears are stupid if they think MSFT didnt vet GME.',\n",
              " '&#x200B;\\n\\nSome valid bear thesis left now (the only ones left) ----> Ryan Cohen dies.',\n",
              " '# 2.',\n",
              " 'Now some analysis on the short squeeze and some technical data on puts and calls and ortex data.',\n",
              " 'Ok everyone on here and their cat, dog, bedbugs and wifes boyfriend  knows about the squeeze.',\n",
              " 'Jimmy chill aka cramer even talking about it.',\n",
              " 'Gamestop is literally the most shorted stock of all time and space.',\n",
              " 'The squeeze makes every autist salivate because its basically free money while cucking big money out of like what 1% of their fund.',\n",
              " 'Although I know all you cucks hate shares, and hate holding, if the squeeze doesnt happen selling is probably the most retarded thing anyone could do.',\n",
              " 'Its literally buy high sell low and you fucking disgust me.',\n",
              " 'STONK ONLY GOES UP.',\n",
              " 'This squeeze is so monumental that its been sucking sharks in like fresh blood.',\n",
              " 'Most of the funds where shorting this from 30-15 dollars before this year so they didnt really care.',\n",
              " 'It all changed with 2 people.',\n",
              " 'u/DeepFuckingValue and Dr. Michael Burry.',\n",
              " 'These guys are as OG as it gets with GME.',\n",
              " 'I think u/DeepFuckingValue may have even sniffed this trade out before the legend himself.',\n",
              " 'Since then funds will have churned this through their rules and started jumping on this train.',\n",
              " 'Ive been in since $13 with 125 shares.',\n",
              " 'If I had more money Id be buying but im just some stupid student ok. Im merely a medium for this money made information.',\n",
              " '**The stats for this stock now short wise are, from ortex:**\\n\\n*Concrete* short interest as of 31 December 2020: **71 Million**.',\n",
              " '*Estimated* short interest, *January 11th data:* (This isnt predicted, this is from data in flow, has margin of error) : **77 Million**\\n\\nShort shares on loan 7 days ago: **50 Million**\\n\\nShort shares on loan *now* (This breaks the bearish margin calls affect longs more thesis): 54.2 Million\\n\\n% of known float short: **147%** as of 31 December 2020\\n\\n% of know free float on loaned shorts: **108%** as of January 11th.',\n",
              " \"Some [guy](https://www.reddit.com/r/wallstreetbets/comments/kyocql/updated_potential_holdings_of_gme/) on here took into account extra buying on wednesday, Institutions, Burry, RC's extra 7% and WSB ownership (something so stupendously  retarded no serious firm will do it) that float on short could be in the 100s of %.\",\n",
              " 'Total short float now I would say could be **200-400%** if the numbers are correct.',\n",
              " 'This pisses on all other short squeezes.',\n",
              " 'Some countries ban shorting above 100% cos of how autistic it is.',\n",
              " 'The recent hike in interactive brokers available shares is probably a mix of sell off on friday (remember  some guys are now buying lambos with GME money.',\n",
              " 'If they held they could buy 10), calls exercising and puts being covered and brokers ditching the shares.',\n",
              " 'Nakedshort even reported 5 million naked GME shorts on friday.',\n",
              " 'This is bullish as fuck because the best the shorts could do on a red market day was **-10%**.',\n",
              " 'Gamestop is still on the SECs threshold list for 27 days now.',\n",
              " '[This shows naked short selling and downwards pressure hasnt capitulated](https://preview.redd.it/xsetax08pwb61.jpg?width=1083&format=pjpg&auto=webp&s=172439b81f509ba01ed3e6489671d6f009298e84)\\n\\nNeed rockets 🚀 🚀🚀🚀🚀🚀🚀🚀🚀🚀🚀🚀🚀🚀🚀🚀🚀🚀🚀🚀🚀🚀🚀🚀🚀🚀🚀🚀🚀🚀:\\n\\nOk so now if WSB owns an estimated 6-8% of the stock and we all know to move over to cash accounts now to avoid margin calls, we should be minimizing longs getting margin called.',\n",
              " 'Every bear on stockwits is a clueless cuck who spouts \"blockbuster\" and these guys dont even know what margin even is so my bet is the colossal **54 Million** shares short on loan are gonna be affected by the margin calls more.',\n",
              " 'Why?',\n",
              " 'Because every long on margin is in the green, and now a true zealot/extremist/autist for ryan cohen so will supply their account with collateral to avoid margin call.',\n",
              " 'Shorts are in the massive red zone.',\n",
              " 'How do I know you ask?',\n",
              " 'Ortex data from Jan 4th 2021:\\n\\n[This is the data from ortex for short interest for Gamestop for Jan 4th](https://preview.redd.it/urqb3c3zbwb61.png?width=1152&format=png&auto=webp&s=d874cd908bad7fe3e8aa4486b5a294f5c1d5724e)\\n\\nSo this shows for jan 4th the estimated short interest is 66.98 Million shares.',\n",
              " 'From the exchange reported 71 Million on december 31st this makes a lot of sense because the share price fell from \\\\~21 to \\\\~17 so shorts took profits.',\n",
              " 'The shares on loan arent for longs too.',\n",
              " 'This is all purely short data, and 47M  shorted at $17 this shows.',\n",
              " 'These shorts are in a circle of hell we cant comprehend and makes satan scared.',\n",
              " '🚀 🚀 🚀 🚀 🚀 🚀 🚀🚀🚀🚀🚀🚀🚀🚀🚀🚀🚀🚀🚀🚀🚀🚀🚀🚀🚀🚀🚀🚀🚀🚀🚀🚀🚀🚀🚀🚀🚀🚀🚀🚀🚀🚀🚀🚀🚀🚀🚀🚀🚀🚀🚀🚀🚀🚀🚀🚀🚀🚀🚀🚀🚀🚀🚀🚀🚀\\n\\nNow for the data for this week:\\n\\n&#x200B;\\n\\n[Ortex short data for Jan 14th for Gamestop](https://preview.redd.it/5ryumpl1dwb61.png?width=1152&format=png&auto=webp&s=fb80c09e1be7b2f36f6d3745983cef4ce2b2df9b)\\n\\nSHARES ON LOAN HAVE GONE UP.',\n",
              " 'BUT 87% OF LOANED SHORTS WHERE SHORTING AT SUB $20.',\n",
              " 'Cost to borrow is also up, estimated short interest is up to a cataclysmic amount.',\n",
              " 'Longs on margin need to supply collateral, but we are in the massive green zone, shorts are underwater.',\n",
              " 'Margin calls will ravage the shorts and sting the longs.',\n",
              " 'We also have the uptick rule in place until the end of the day, so shorts can only short on the way up.',\n",
              " 'Im not saying itll happen but this shit is skewed in our favour big time.',\n",
              " 'we need to 💎[🙌](https://emojipedia.org/raising-hands/)💎[🙌](https://emojipedia.org/raising-hands/)💎[🙌](https://emojipedia.org/raising-hands/)💎[🙌](https://emojipedia.org/raising-hands/)💎[🙌](https://emojipedia.org/raising-hands/)💎[🙌](https://emojipedia.org/raising-hands/)💎[🙌](https://emojipedia.org/raising-hands/)💎[🙌](https://emojipedia.org/raising-hands/).',\n",
              " '🚀 🚀 🚀 🚀 🚀 🚀 🚀🚀🚀🚀🚀🚀🚀🚀🚀🚀🚀🚀🚀🚀🚀🚀🚀🚀🚀🚀🚀🚀🚀🚀🚀🚀🚀🚀🚀🚀🚀🚀🚀🚀🚀🚀🚀🚀🚀🚀🚀🚀🚀🚀🚀🚀🚀🚀🚀🚀🚀🚀🚀🚀🚀🚀🚀🚀🚀\\n\\n**Seen a lot of talk about Gamma hedging and delta.',\n",
              " '**\\n\\nYou realize that the fucking bankers and brokers dont understand gamma hedging right?',\n",
              " 'That shits up their with the black-scholes equation and feynman-kac solution.',\n",
              " 'Forget about it.',\n",
              " 'The retards claiming to understand it are either payed by hedge funds or lose money.',\n",
              " 'The guy who took out outs thinking options exercising and gamma hedging would lead to a collossal sell off on friday lost money on his puts because **no one** except some quants in a goldman sachs server room know this shit.',\n",
              " 'The idea is simple about neutral delta on options that people take out, but the simple system interacts with every other thing in the stock market, and wow who couldve guessed it, like nearly any other element of the stock market predicting something by the day is nigh impossible.',\n",
              " 'That guy talking about Gamma , Delta and margin calls is on weeklies.',\n",
              " 'Hes no more autistic and equally retarded as all of us.',\n",
              " 'Hes a chill guy though so dont berate a fellow brother.',\n",
              " '**Now weve established the likelihood of longs getting margin called is far smaller than shorts, on to the options distributions**\\n\\n**Two images now: Top one is before the end of the 15th, the other one is after market close:**\\n\\n&#x200B;\\n\\n[This shows the suspected melvin puts \\\\(51000 contracts, 5 Million shares, rolled up from july, strike price $24\\\\) and lots of big ITM calls.',\n",
              " '](https://preview.redd.it/t8odq9btgwb61.jpg?width=821&format=pjpg&auto=webp&s=61bb8a66e0ed83f0315921c295d1851a3c20c6c0)\\n\\n🚀 🚀 🚀 🚀 🚀 🚀 🚀🚀🚀🚀🚀🚀🚀🚀🚀🚀🚀🚀🚀🚀🚀🚀🚀🚀🚀🚀🚀🚀🚀🚀🚀🚀🚀🚀🚀🚀🚀🚀🚀🚀🚀🚀🚀🚀🚀🚀🚀🚀🚀🚀🚀🚀🚀🚀🚀🚀🚀🚀🚀🚀🚀🚀🚀🚀🚀\\n\\n[This shows the big put contract didnt get rolled over and the big ITM calls got exercised on friday.',\n",
              " 'Large puts are underwater big timem while calls are in the big tendy zone.',\n",
              " '](https://preview.redd.it/3nqb33f0hwb61.jpg?width=675&format=pjpg&auto=webp&s=9dc83f542dcc3565ae0424121146101b73cf0083)\\n\\nThese two graphs, show before market close and after.',\n",
              " 'As we can see the massiver 51000 put contracts didnt get rolled over and the chances that those were melvins july puts rolled up is very high.',\n",
              " 'They expired worthless.',\n",
              " 'Lots of calls are printing big time while huge amounts of puts are worthless and bleeding money.',\n",
              " 'Something else we can extrapolate from the charts is that massive options trades are not present on the scale we saw before (tens of thousands).',\n",
              " '🚀 🚀 🚀 🚀 🚀 🚀 🚀🚀🚀🚀🚀🚀🚀🚀🚀🚀🚀🚀🚀🚀🚀🚀🚀🚀🚀🚀🚀🚀🚀🚀🚀🚀🚀🚀🚀🚀🚀🚀🚀🚀🚀🚀🚀🚀🚀🚀🚀🚀🚀🚀🚀🚀🚀🚀🚀🚀🚀🚀🚀🚀🚀🚀🚀🚀🚀\\n\\nWe are seeing a discrepancy in the number of puts/calls opening up at the higher prices with calls gaining fast.',\n",
              " 'This could show that some funds are now becoming optimistic on the long or short term prospects of gamestop.',\n",
              " 'There are also more puts than options and if we assume this for shorts vs longs on margin (without even taking into account that all shorts are borrowed shares and pay interest further bleeding cash) then shorts are likely on more margin than longs.',\n",
              " 'Regardless fellow autists my main point is two show that the bears are underwater and the bulls are flying high with regards to options.',\n",
              " '**Now lets compare this possible squeeze with others.',\n",
              " '**\\n\\nBear in mind this is the most shorted stock of all time, but differences in free float change the share price differently.',\n",
              " 'Kodak went from **$2.16 to $33.2**\\n\\nVolkswagen went from **\\\\~200 euro to nearly 1000.',\n",
              " '**\\n\\nOverstock went from **\\\\~$21 to $123**\\n\\nBlue apron went from **$2.31 to $18**\\n\\nIve been seeing some estimated that 1 million shares is roughly a dollars move in share price.',\n",
              " 'This maths is about to be pretty autistic so bear with me degnerates.',\n",
              " '$1 now is 2.81% of the share price.',\n",
              " 'Everything in the markets is exponential and based on percentages.',\n",
              " 'So if we assume a full squeeze of ortexs estimated short interest (This assumes no sell off and no new shorts, new shorts can be positive or negative depedning on when in the squeeze they happen) **$35.5 \\\\* 1.0281\\\\^77 = $299.',\n",
              " '** GME to moon.',\n",
              " '🌑 .',\n",
              " 'This shit can happen.',\n",
              " 'Hold on.',\n",
              " '**GME has squeezed and been manipulated before and it always happens around the console cycles.',\n",
              " 'Shorts never win and they wont win now.',\n",
              " '**\\n\\n&#x200B;\\n\\n[This post right here I found months ago and got me in the squeeze from the honourable and valiant u\\\\/Uberkikz aka Rod Alzman](https://preview.redd.it/4ysv7bzclwb61.png?width=1199&format=png&auto=webp&s=27ac6ac58b6366f81b53fa75966733b8a8d61d3c)\\n\\nBasically the crayon chart shows green (outstanding shares) orange ( short shares) purple (Market cap) and cyan (Share price).',\n",
              " 'In 2006-2008 the share price rose in tandem with short interest ( Like now ) Until console releases when you can see an abrupt squeeze happend mooning the share price.',\n",
              " 'This happend to a degree in 2013 with the xbox one but worse conditions for the company and a worse console launch lead to slow short covering but the share price still mooned.',\n",
              " 'Now we get to the best part.',\n",
              " 'History is repeating itself for the third time and the shares sold short are literally higher than the outstanding shares, which have been decreasing since 2010.',\n",
              " 'Short shares are also at the highest point ever and GME hasnt had a brighter future, well ever.',\n",
              " 'Ps5 and Xbox Series X. are the two most hyped consoles since the Ps2.',\n",
              " 'This is setting up the foundations for massive price movements weve never seen before.',\n",
              " 'This shit has literally never happend, ever.',\n",
              " 'Uncharted waters and we are the captain.',\n",
              " '**For the insurmountably retarded autists who think that the squeeze has happend look upon this and despair:**\\n\\n[**https://www.reddit.com/r/wallstreetbets/comments/kwpf6k/gme\\\\_gang\\\\_there\\\\_hasnt\\\\_been\\\\_a\\\\_short\\\\_squeeze\\\\_yet/**](https://www.reddit.com/r/wallstreetbets/comments/kwpf6k/gme_gang_there_hasnt_been_a_short_squeeze_yet/)\\n\\nIHOR IS A MEGA WIZARD\\n\\nIhor I quote:\\n\\n>**A long-buying tsunami ... is the primary factor for the price move**\\n\\nIhor Dusaniwsky is managing director of predictive analytics at S3 a firm similar to ortex.',\n",
              " 'He told bloomberg that the squeeze hasnt happend yet and that this was long buying.',\n",
              " 'If someone knows this shit its him.',\n",
              " 'He was talking about the tesla squeeze in january 2020.',\n",
              " 'He has access to resources we can only imagine.',\n",
              " 'Barrons cut his comment that the squeeze hasnt happend yet out it was that fucking bullish.',\n",
              " 'All the media ramming down \"Short squeeze has happend\" down peoples throats because bears are fucking scared.',\n",
              " 'The bots on stocktwits spamming bearish sentiment should show how rattled they are.',\n",
              " 'Edit: **You fucking degens just enlightened me that cramer pump is real, funds are ruminating over the long weekend, and stmmy bills pumps stonks and that stimmy bill buys many an xbox.',\n",
              " 'See you at andromeda!',\n",
              " 'Also more rockets.',\n",
              " '**\\n\\nEdit\\\\*\\\\*: Some autists thought lottery ticket was misleading so instead, gauranteed lottery numbers!\\\\*\\\\*\\n\\nEdit 3:  [RYAN FUCKING COHEN TWEETED](https://twitter.com/ryancohen/status/1350877969816956934?s=20)  THE HOMIE JUST TWEETED.',\n",
              " 'PEANUT EMOJI.',\n",
              " 'HES 1) NUTTING 2) SAYING 35 IS PEANUTS  3) GIF SAYS THERES A CHANCE, SHORT SQUEEZE IMMENINT HOMIES\\n\\nEdit 4: [Amazing post here](https://www.reddit.com/r/wallstreetbets/comments/kzbzhe/gme_warning_bears_are_among_us_tuesday_is_bullish/) showing that unlucky prize guy was wrong like I said.',\n",
              " 'Ihor also talked about the hypothecation  agreement.',\n",
              " 'Edit 5: This is true and I forgot to add\\n\\n>from u/[luncheonmeat79](https://www.reddit.com/user/luncheonmeat79) via [/r/wallstreetbets](https://www.reddit.com/r/wallstreetbets) sent 2 minutes ago  \\n>  \\n>There’s also the chance of a ratings upgrade.',\n",
              " 'Moody’s and S&P have GME at B3 and B-, which is rated “highly speculative”.',\n",
              " 'Ratings are reviewed every quarter, and a review might be due this month (i.e.',\n",
              " 'this coming week or next).',\n",
              " 'Good chance that the agencies might upgrade GME to a B2/B, or even better to the next higher band (Ba/BB).',\n",
              " 'Edit 6: We are scraping 42 in frankfurt.',\n",
              " 'Granted its low volumes but pre market should open at these prices I think?',\n",
              " '**Conclusion: Buy shares with cash not margin.',\n",
              " 'Hold shares forever unless RC dies (Shame hes a cybernetic demigod), Melvin bad, Shorts fuk, 🐻 🌈  posting bearish shit are doing weeklies for the second time after they expired red on friday, GME to $200 without squeeze, Ryan cohen a god, GME is still a value play, Good luck have fun.',\n",
              " '**, GME shorts get crushed as explained by Cramer ... big WSB shout out, the first of two in the show tonight nan, Today was a coordinated attack by institutions against the longs.',\n",
              " \"Here's how it played out.\",\n",
              " 'I was long at the beginning of the day and held throughout.',\n",
              " 'From the dizzying highs to soul-crushing lows.',\n",
              " 'I even bought a bit more at the midpoint prices of today.',\n",
              " 'From my observations, this is how the institutions conspired to crush the longs in order to give the shorts breathing room to cover.',\n",
              " '1.',\n",
              " 'The beginning of the day was intentional.',\n",
              " 'They let fomo run GME all the way into the sky with almost no resistance whatsoever.',\n",
              " '2.',\n",
              " 'However, at around 10-10:30 AM EST, something odd happened.',\n",
              " 'The brokers suddenly jacked up their margin requirements for GME.',\n",
              " 'My portfolio previously had a lot of buying power, which suddenly disappeared.',\n",
              " '3.',\n",
              " 'We were intentionally allowed to break 150 (which is the highest option strike available) in order to make everyone fomo even harder.',\n",
              " 'Then, the dump came, and it was vicious.',\n",
              " 'At the same time, CNBC started an hour-long segment bashing GME nonstop.',\n",
              " 'Only Cramer provided a bit of token resistance.',\n",
              " 'Every other analyst was calling this move unwarranted and warning that tons of people will be bagholding.',\n",
              " '4.',\n",
              " 'As a result, everyone who chased in on margin got fucked.',\n",
              " 'Even my sizeable portfolio was margin called.',\n",
              " \"Fortunately, while I'm retarded, I'm not the most retarded and was not all in GME and was using only a little margin.\",\n",
              " 'I was able to cover easily.',\n",
              " \"The unfortunate morons who fomo'd in on margin above today's open were not so lucky.\",\n",
              " 'I imagine a lot of retards got liquidated on the way down.',\n",
              " '5.',\n",
              " 'The cascading effect let us fill the gap completely and even a little past.',\n",
              " \"However, the important point is that we closed above Friday's close at +18% for the day.\",\n",
              " 'I see this as very bullish.',\n",
              " \"So keep holding and don't fucking sell into the fear the other side tried to create.\",\n",
              " 'Going forward, stop buying GME on heavy margin.',\n",
              " 'Use cash accounts if possible.',\n",
              " \"Don't let yourself be set up as a domino piece for the shorts to knock over into everyone else.\",\n",
              " '**TLDR: MMers, brokers, and shorts conspired to screw us.',\n",
              " 'They let us run price up, then jacked up margin requirements, and finally dumped.',\n",
              " \"Despite that, we defended Friday's close quite well so DON'T FUCKING SELL.\",\n",
              " '**, $BB At The $GME Refuelling station 🚀🚀🚀 nan, GME Thread: The Wreckoning Post all your GME hopes, prayers, and stupidity here.',\n",
              " \"This is fun but there's a fine line between that and annoying.\",\n",
              " '**NOTE: If you make a post about GME that isn\\'t serious DD, a thought-provoking discussion, or a QUALITY meme, you will be banned for a randomly chosen amount of days**, GME YOLO update — Dec 22 2020 nan, Some GME gain porn (not fucking selling) nan, Goldman Sachs alludes to GME & WSB Goldman Sachs must have lost alot in the GME squeeze because they told CNBC the market is now a \"greed hive\" with \"engineered short squeezes\".',\n",
              " \"They didnt mention WSB or GME directly but it's very easy to read between the lines.\",\n",
              " 'They mentioned \"illiquid stocks, traded on margin\" and \"speculative Options\" as if these are actual concerns and as if they haven\\'t been doing this same shit for the last 50 years.',\n",
              " 'Keep in mind these are the pricks who sold CDOs and helped engineer the 2008 crash.',\n",
              " 'TLDR: Institutions are starting to get scared and the slander is begining.',\n",
              " 'The stock market is at or near the most-expensive levels ever by most measures\\n\\nhttps://www.cnbc.com/2021/01/23/the-stock-market-is-at-or-near-the-most-expensive-levels-ever-by-most-measures-when-will-it-matter.html?__source=androidappshare, Took a break from jacking off to check pre-markets.',\n",
              " 'Already up $336K on GME and up $613K in a week, soon to be a multi-millionaire!',\n",
              " \"nan, The Importance of whats happening with GME It's been many many years that companies have been shorting stocks and basically stealing money from the average investors by manipulating the market for a quick buck.\",\n",
              " 'What is currently happening with GME is finally a time where the little guy can swing right back as a united army.',\n",
              " 'Let this be a lesson to short sellers.',\n",
              " 'We will not be taken advantage of.',\n",
              " 'This is a little quote from when Volkswagen was shorted and it back fired.',\n",
              " '\"VW short quickly saw their collective losses exceed $30 billion.',\n",
              " 'Hedge fund\\xa0managers were “literally in tears on the phone” as they described “a nuclear bomb going off in our faces.”\\n\\nLadies and gentleman, we hold until we see tears.',\n",
              " 'Holding 200 shares and only shares.',\n",
              " 'Calling $85 by end of next week., PSA: Please stop posting here about WSB affairs.',\n",
              " 'We are not a backup WSB subreddit.',\n",
              " 'Your post will be removed.',\n",
              " 'Just a quick PSA, because we are not going to leave personalized comments on the dozens of threads getting nuked here, things that are being taken down: \\n\\n* WSB mods removed a thread on XYZ\\n\\n* I think WSB is manipulating stocks\\n\\n* WSB mods are not allowing discussion of [thing I want to discuss]\\n\\n* WSB mods are children and shut the sub down\\n\\n* anyone thinking /r/investing is the right venue to air out their thoughts on how bad it is that 12 year olds are gambling on Robinhood.',\n",
              " \"We just don't care, and we certainly are not going to be a venue for anyone to complain about the moderation of another subreddit.\",\n",
              " \"If you have a disagreement with the mods of WSB then slide in to their DM and let them know (modmail, don't actually DM a mod, that's weird), or go to one of the subreddits like /r/subredditdrama that are dedicated to this sort of dumb shit, but don't post about it here because that'll be immediately removed.\",\n",
              " 'This subreddit is for discussing investing, not for airing out disagreements with other subreddits.',\n",
              " \"I think I've nuked a dozen threads on this topic, and two people have already been banned for re-posting removed threads.\",\n",
              " '**E: I don\\'t know how but lot\\'s of confused comments here, \"WSB Affairs\" means we don\\'t want to see people here bitching about things that happen on that subreddit.',\n",
              " \"It does not mean we're preventing any discussion of any actual trade, investment, whatever.\",\n",
              " '\"GME up 70000% in premarket\" is a thread that get\\'s to stay because it\\'s an investment topic.',\n",
              " '\"WSB mods did a thing I don\\'t like\" is not, that\\'s reddit drama.',\n",
              " 'Simple enough.',\n",
              " '**, GME Infinite Gamma Squeeze | Gap In Option Market Structure | Once In a Lifetime Opportunity # Context\\n\\nWhat happened last week with GME stock price and option was a combination of a gamma squeeze \\\\[1\\\\] and infinite short squeeze \\\\[2\\\\].',\n",
              " 'For the first time in financial history all GME call options are in the money (ITM) because the highest call strike price set by the CBOE for Januaray 29, 2021 is $60.',\n",
              " '**Note:** A primer on gamma squeeze:\\n\\nh[ttps://www.reddit.com/r/wallstreetbets/comments/l2t9bf/gme\\\\_i\\\\_think\\\\_this\\\\_is\\\\_a\\\\_gamma\\\\_squeeze\\\\_where\\\\_dealers/](https://www.reddit.com/r/wallstreetbets/comments/l2t9bf/gme_i_think_this_is_a_gamma_squeeze_where_dealers/)\\n\\nMarket Maker \\\\[1\\\\] are in a condition never observed in financial history.',\n",
              " \"Hundred of thousands of retail (wsb) are buying the GME 60C across the options calendar and MM can't hedge properly because there are not enough GME shares to buy to properly financially hedge (accounting for the interest rate to borrow)\\n\\n# Market Structure\\n\\nTo summarize the market structure:\\n\\n1.\",\n",
              " 'Few GME shares to hedge.',\n",
              " '2.',\n",
              " 'Hundreds of thousands of (wsb) are buying the GME 60C because of the infinite short squeeze.',\n",
              " '3.',\n",
              " 'January 29, 2021 60C call option are the highest one on the option change for that date.',\n",
              " '4.',\n",
              " \"Conditions for Infinite Gamma Squeeze & Infinite Short Squeeze\\n\\nAs you may now realize --(MM and brokers) hope you don't -- there is a gap in the market structure that leaves them (MM/Citadel) vulnerable to massive losses.\",\n",
              " \"# Infinite Gamma Squeeze\\n\\n***Should*** **million of retails (wsb) buy the Januray 29, 2021 60C weekly on Monday, this will create an infinite gamma squeeze because MM still can't properly hedge, and are forced to buy shares at whatever price to hedge.\",\n",
              " 'MM doing so, forces brokers to margin call the shorts caught in their infinite short squeeze.',\n",
              " 'Both conditions are pro-cyclical and feed on each other in an infinite feedback loop** ***so long as more an more retails buy the GME 60C.',\n",
              " '***\\n\\nThere is a chance that MM can dump the shares they bought to hedged the gamma steepening and call buying \\\\[1\\\\].',\n",
              " 'However, doing so does not make them market neutral.',\n",
              " 'It effectively turns MM into a hedge fund.',\n",
              " 'SEC may allow them to get away from this momentarily.',\n",
              " '**However, after the MM dump shares in an attempt to stop the infinite gamma squeeze they will be net short GME shares and unhedged/not market neutral.',\n",
              " '** If after the MM dump, retails continue to buy GME shares up to the $60 price, MM will be caught in a *exponentially worse gamma squeeze*, which should GME go pass 60C (gamma bump) on the week of January 25, it would turn into the one of biggest tail risk event for the MM/Citidal.',\n",
              " '**tldr;**\\n\\n**There is a gap in the market structure so that if millions of retails buy Januray 29 GME 60C on January 25 2021, there is a high probability of both an infinite gamma and short squeeze.',\n",
              " 'This has never happened in financial history.',\n",
              " 'And should millions of retail buy the January 29 GME60C 2021, the losses for MM but profits for retail will be massive.',\n",
              " 'Retails could see 100000% return on their weekly GME Januray 29 call options at the highest strike price.',\n",
              " '**\\n\\n**Edit1:** Apparently there may be higher call prices for the January 29 2021 option chains.',\n",
              " 'Fundamentally, this analysis is still correct.',\n",
              " 'Should millions of retail all choose a common higher call strike price to buy (higher than 60C), the gamma squeeze will be triggered when that prices is hit.',\n",
              " 'Example:\\n\\nShould millions of retail buy the January 29 70C or January 29 75C, and the infinite short squeeze continues.',\n",
              " 'If the GME 70C or 75C is hit, GME share price enters a gamma squeeze.',\n",
              " 'What the MM are hoping for are twofolds:\\n\\n1.',\n",
              " 'They scare retails to sell below $60.',\n",
              " 'This alleviates the infinite gamma squeeze.',\n",
              " 'Or;\\n2.',\n",
              " \"Retails don't all buy the same call options.\",\n",
              " 'But given that wsb loves high risk, I hypothesize they will all choose the furthest OTM call options.',\n",
              " 'GME at 60 is the Maginot line next week.',\n",
              " 'Should it go to 75, gamma and infinite short squeeze continues.',\n",
              " 'Should it fall below it, MM have won a strategic victory.',\n",
              " '**Edit2:**\\n\\nFor gamma squeeze, you look at the open interest (OI) and strike price.',\n",
              " \"Should the share price get close to the price with a highest open interest, that's when the gamma steepening occurs as probability goes to 1.\",\n",
              " 'MM have to buy shares to remain neutral as the options are now ITM.',\n",
              " '# References\\n\\n\\\\[1\\\\] h[ttps://www.reddit.com/r/wallstreetbets/comments/l2t9bf/gme\\\\_i\\\\_think\\\\_this\\\\_is\\\\_a\\\\_gamma\\\\_squeeze\\\\_where\\\\_dealers/](https://www.reddit.com/r/wallstreetbets/comments/l2t9bf/gme_i_think_this_is_a_gamma_squeeze_where_dealers/)\\n\\n\\\\[2\\\\] [https://www.reddit.com/r/stocks/comments/l21gpz/infinite\\\\_short\\\\_squeeze\\\\_explained\\\\_blue\\\\_appron\\\\_case/](https://www.reddit.com/r/stocks/comments/l21gpz/infinite_short_squeeze_explained_blue_appron_case/)\\n\\n\\\\[3\\\\] [https://ca.finance.yahoo.com/quote/GME/options?p=GME](https://ca.finance.yahoo.com/quote/GME/options?p=GME), Spreadsheet to calculate GME Exit Strategy, ROI Calculations & Breakeven Analysis **PLEASE LEAVE AN UPVOTE AND/OR COMMENT IF YOU USE.',\n",
              " 'IT TOOK ME A FEW HOURS TO MAKE THIS SPREADSHEET AND I WOULD LIKE TO HELP AS MANY PEOPLE AS POSSIBLE.',\n",
              " 'I SEE A LOT OF PEOPLE OPENING AND DUPLICATING THE SHEET, PLEASE HELP PAY IT FORWARD.',\n",
              " '**\\n\\nDisclaimer: I originally created this tool for WSB, but it looks like I am muted there for some reason, so I figured I would share on some other subs where people are also talking about GME.',\n",
              " \"This whole experience has been (and will be) a crazy trip, but you don't want to be the one caught holding the bag when it eventually comes crashing down to earth.\",\n",
              " '**HAVE AN EXIT STRATEGY.',\n",
              " '** Everyone has different levels of expendable capital and risk tolerance.',\n",
              " 'Some of us can afford to YOLO away six-figure investments, while others would be more than happy to simply turn a few hundred dollars into a grand.',\n",
              " 'Your exit strategy should depend on how much money you are comfortable losing, and how much profits you would be happy taking.',\n",
              " \"I'm not here to tell you what your strategy should be, but I did make a tool so you can figure it out for yourself: [Exit Strategy Calculator (Google Sheet)](https://docs.google.com/spreadsheets/d/13twJC8Ldy3p7iS7fp5htOjfhTYZIE_Fqa5Rn9wgqv8c/edit?usp=sharing)\\n\\n&#x200B;\\n\\n**HOW TO USE THE EXIT STRATEGY PLANNER**\\n\\n\\\\- Note 1: **This is for shares only**.\",\n",
              " \"I'm not smart enough to make this work for options.\",\n",
              " '\\\\- Note 2: The link I provided is READ ONLY, so the first step is to **make a copy** for your own use (File --> make a copy)\\n\\n\\\\- **Now, enter your current position.',\n",
              " '** Provide the number of shares you have in A3, and your average cost basis in B3 (these cells are highlighted in yellow).',\n",
              " 'Your total investment will automatically calculate in C3.',\n",
              " '\\\\- **Columns E-F are the ROI calculator.',\n",
              " '** Column F tells you what the share price will need to reach in order to hit the ROI listed in Column E. Column G tells you what your total value would be at that share price.',\n",
              " '\\\\- **Columns I-K are your break-even analysis**, which basically tells you what the share price would need to be for you to break even by selling X number of your shares, and what your profit would be if you sold all of them at said price.',\n",
              " '*You will probably want to adjust the #s in Column I based on how many shares you currently have in your position*.',\n",
              " 'Columns J & K will automatically update when you do.',\n",
              " '\\\\- **Columns M-N calculate your profits at different share prices.',\n",
              " '** How much money will you make if you sell when GME hits $80?',\n",
              " 'What about $100, or $250, or even $1,000?',\n",
              " 'These columns will tell you.',\n",
              " 'Feel free to adjust the share prices in column M if you want, but I have most of the big milestones covered.',\n",
              " '\\\\- **Columns P-R are your exit strategy planner.',\n",
              " '** *You will need to provide the following information: # of shares (if any) you want to hold long term, post-squeeze \\\\[cell P4\\\\].',\n",
              " 'Maximum dollar amount from your initial investment that you can stomach losing \\\\[Q4\\\\].',\n",
              " 'Profit amount you would be 100% happy cashing out with no FOMO of future gains \\\\[R3\\\\].',\n",
              " '* Cell Q6 will calculate your \"worst case scenario\" sell price.',\n",
              " '**Set a stop loss order at this price to maximize your losses** to the amount you entered in Q4, while still holding your desired # of long-term shares.',\n",
              " 'Cell Q7 will calculate your \"best case scenario\" sell price.',\n",
              " '**Set a limit order at this price to cash out with your \"100% satisfied profit\"** you entered in R4, while still holding your desired # of long-term shares.',\n",
              " '\\\\- **Columns T-V is an incremental sales planner.',\n",
              " '** Some of you may want to sell a portion of your shares when certain benchmarks are hit (ie sell 10 shares when it hits $100, another 10 at $150, etc.).',\n",
              " 'Simply enter in how many shares you want to sell at each price point \\\\[column U\\\\], and the sheet will calculate your cumulative revenues, net profit, and remaining shares.',\n",
              " 'TLDR: Use this spreadsheet to avoid getting caught holding the bag on GME when all of the shorts are officially squeezed.',\n",
              " 'Make a copy for yourself and change the cells highlighted in yellow to account for your personal position and risk/reward preferences.',\n",
              " \"Of course you can use this spreadsheet for your other investments, but let's be honest... half of us seem to be all in on GME right now.\",\n",
              " 'Big week ahead, may all of our profits be plentiful!',\n",
              " '**EDIT:** A few people have mentioned that the file traffic was too high and it was not allowing them to make a copy.',\n",
              " 'Fear not!',\n",
              " 'I have made some alternate sheets you can use instead (they are all the same).',\n",
              " '1.',\n",
              " '[Alt 1](https://docs.google.com/spreadsheets/d/1-6XkMn0c6OkHvyA0fWeTDVumpmU6btFYnsbY1z0GecM/edit?usp=sharing)\\n2.',\n",
              " '[Alt 2](https://docs.google.com/spreadsheets/d/1HrkHCwhpCWtCQbvW2NJ5Zwo_kU65oDgDyRf3sLket6E/edit?usp=sharing)\\n3.',\n",
              " '[Alt 3](https://docs.google.com/spreadsheets/d/1XZpIwY-KIZHXZUcLBTT7yVUq2oBsQg6IE44odsxSLsw/edit?usp=sharing)\\n4.',\n",
              " '[Alt 4](https://docs.google.com/spreadsheets/d/1sCxovPWEHj11IuK2a1U4fyqqqYYxYwcsBNRVcT4gfdI/edit?usp=sharing)\\n5.',\n",
              " '[Alt 5](https://docs.google.com/spreadsheets/d/1m1M3FDN0t62SqSH2U5lOZ602hdOF_x6d5rM33qe5l7Y/edit?usp=sharing), GameStop (GME) halted at $72.80 Looks like the squeeze is really happening.',\n",
              " 'Shout out to all the people in this sub that clowned me for having GME.',\n",
              " 'Citron needs to investigated for possible collusion with firms for market manipulation.',\n",
              " 'They did the same damn thing with PLTR.',\n",
              " 'They find stocks with momentum and then send out a hit piece just so they can get a better price to buy in.',\n",
              " 'Smh, I created an algo that tracks the most hyped stocks on Reddit.',\n",
              " \"Here are the results for this week What's up everyone.\",\n",
              " 'I created an algo that scans the most popular trading sub-reddits and logs the tickers mentioned in due-diligence or discussion-styled posts.',\n",
              " 'Instead of scanning for how many times each ticker was mentioned in a comment, I logged how popular the post was among the sub-reddit.',\n",
              " \"Essentially if it makes it to the 'hot' page then it will most likely be on this list.\",\n",
              " 'There are two parts to this post.',\n",
              " 'The first is for posts that were submitted in the most active trading sub-reddits (such as this one), and the second part has the most mentioned tickers from the WSB sub-reddit.',\n",
              " '**How can I use this list?',\n",
              " '**\\n\\nThe best way to use this data is to learn about new tickers that might be trending.',\n",
              " 'As an example, I probably would have never known about the ARK etfs, or even Palantir, until they started trending on Reddit.',\n",
              " 'This gives many people an opportunity to learn about these stocks and decide if they want to invest in them or not.',\n",
              " 'The data on this list is limited to one post per ticker.',\n",
              " \"I've taken the most 'popular' post for that ticker on whichever sub-reddit it may have been.\",\n",
              " \"What I've found is that normally if tickers begin to trend on one sub-reddit then generally-speaking there will be posts for the same ticker on various other sub-reddits.\",\n",
              " \"Here's the data from the last week.\",\n",
              " '&#x200B;\\n\\n|Title|Tickers|Avg Hype %|\\n|:-|:-|:-|\\n|[(GME DD) One DD to rule them.',\n",
              " 'One DD to find them.',\n",
              " 'One DD to to bring them all and in the darkness bind them.',\n",
              " '](https://www.reddit.com/r/wallstreetbets/comments/kz7ygv/gme_dd_one_dd_to_rule_them_one_dd_to_find_them/)|GME|300+%|\\n|[People on Robinhood who own GME are most likely to also own BB and PLTR in their portfolio.',\n",
              " \"](https://www.reddit.com/r/wallstreetbets/comments/l0xcnz/people_on_robinhood_who_own_gme_are_most_likely/)|PLTR, GME|300+%|\\n|[Bitcoin Plunge Has Newbies Scrambling to Google 'Double-Spend'](https://www.reddit.com/r/investing/comments/l2blth/bitcoin_plunge_has_newbies_scrambling_to_google/)|GOOGL|300+%|\\n|[Jack Ma Emerges for First Time Since Ant, Alibaba Crackdown.\",\n",
              " 'BABA (9988.HK) in Hong Kong is up 5%.',\n",
              " '](https://www.reddit.com/r/investing/comments/l12p5v/jack_ma_emerges_for_first_time_since_ant_alibaba/)|BABA|300+%|\\n|[If you’re young with a high risk tolerance, is there a better ETF than ARKK?',\n",
              " \"](https://www.reddit.com/r/stocks/comments/kyox09/if_youre_young_with_a_high_risk_tolerance_is/)|ARKK|300+%|\\n|[It's time to short $Facebook](https://www.reddit.com/r/investing/comments/l1hxgx/its_time_to_short_facebook/)|FB|300+%|\\n|[Amazon Prime member total reaches 142 million in U.S. with more shoppers opting in for a full year, data shows](https://www.reddit.com/r/stocks/comments/l0npxa/amazon_prime_member_total_reaches_142_million_in/)|AMZN|300+%|\\n|[AMD: Undervalued at $90](https://www.reddit.com/r/investing/comments/l0hxe5/amd_undervalued_at_90/)|AMD|300+%|\\n|[NIO price target raised to $75 by JPMorgan](https://www.reddit.com/r/stocks/comments/kzovov/nio_price_target_raised_to_75_by_jpmorgan/)|NIO|300+%|\\n|[Apple stock is a strong buy before earnings!\",\n",
              " 'What do you think ?',\n",
              " \"](https://www.reddit.com/r/StockMarket/comments/l1l3jk/apple_stock_is_a_strong_buy_before_earnings_what/)|AAPL|300+%|\\n|[PayPal becomes first foreign firm in China with full ownership of payments business](https://www.reddit.com/r/investing/comments/kyb53b/paypal_becomes_first_foreign_firm_in_china_with/)|PYPL|300+%|\\n|[I draw with crayons so you don't have to.\",\n",
              " 'The grind up continues.',\n",
              " 'Tickers on the watchlist this week: CRSR, APPS, PINS, DKNG, SNOW](https://www.reddit.com/r/options/comments/kzg8qb/i_draw_with_crayons_so_you_dont_have_to_the_grind/)|DKNG, APPS, CRSR, PINS, SNOW|300+%|\\n|[Continuing our investing journey from PLTR to DTIL](https://www.reddit.com/r/stocks/comments/kxwq2t/continuing_our_investing_journey_from_pltr_to_dtil/)|DTIL, PLTR|294%|\\n|[Is Blackberry $BB actually undervalued?',\n",
              " '](https://www.reddit.com/r/stocks/comments/l0ujm0/is_blackberry_bb_actually_undervalued/)|BB|275%|\\n|[Disney \\\\[DIS\\\\] Stock Price Target Prediction & Analysis \\\\[Technical, Fundamental & DCF\\\\] Can Disney 2x?!',\n",
              " '](https://www.reddit.com/r/StockMarket/comments/l2nxu3/disney_dis_stock_price_target_prediction_analysis/)|DIS|274%|\\n|[PLUG  will soar way beyond the current price point this year.',\n",
              " \"](https://www.reddit.com/r/stocks/comments/ky5wkh/plug_will_soar_way_beyond_the_current_price_point/)|PLUG|273%|\\n|[Biden didn't talk about clean energy in his 1.9T stimulus plan.\",\n",
              " 'Clean energy stocks down a lot (ICLN -5.39%, TAN -7.24%, QCLN -5.57%).',\n",
              " 'Is th...](https://www.reddit.com/r/stocks/comments/ky6462/biden_didnt_talk_about_clean_energy_in_his_19t/)|ICLN, TAN, QCLN|271%|\\n|[VALE possible play?',\n",
              " \"](https://www.reddit.com/r/options/comments/kzyeam/vale_possible_play/)|VALE|187%|\\n|[On the topic of insider trading, here's stock trading by US Senators alongside $SPY.\",\n",
              " 'The big negative bar is when a couple got caught doing ...](https://www.reddit.com/r/wallstreetbets/comments/l2hx8q/on_the_topic_of_insider_trading_heres_stock/)|SPY|183%|\\n|[What do you guys think of investing in XOM ?',\n",
              " '](https://www.reddit.com/r/StockMarket/comments/l08ig9/what_do_you_guys_think_of_investing_in_xom/)|XOM|181%|\\n|[$PLTR - The Big DDD](https://www.reddit.com/r/wallstreetbets/comments/kyhz9a/pltr_the_big_ddd/)|PLTR|178%|\\n|[Microsoft betting on GM driverless Tech](https://www.reddit.com/r/stocks/comments/l0kkxb/microsoft_betting_on_gm_driverless_tech/)|GM, MSFT|168%|\\n|[Cathie added 497100 share of PLTR to ARKW today, you know what that means.',\n",
              " \"](https://www.reddit.com/r/wallstreetbets/comments/kxiti0/cathie_added_497100_share_of_pltr_to_arkw_today/)|ARKW, PLTR|163%|\\n|[Airbnb's market cap is now bigger than the combined market caps of Marriott, Hilton, MGM, and Wynn Resorts.\",\n",
              " '](https://www.reddit.com/r/stocks/comments/l2bn2b/airbnbs_market_cap_is_now_bigger_than_the/)|MGM, WYNN|161%|\\n|[Biden to cancel Keystone XL pipeline permit on first day in office: CBC](https://www.reddit.com/r/investing/comments/kzjrbb/biden_to_cancel_keystone_xl_pipeline_permit_on/)|XL|159%|\\n|[Urgent: Tesla call advice](https://www.reddit.com/r/options/comments/kycypi/urgent_tesla_call_advice/)|TSLA|154%|\\n|[Remember when Citron Research was bullish on LUCKIN ($LK) and it turned out to be one of the biggest accounting/security frauds in recent hi...](https://www.reddit.com/r/wallstreetbets/comments/l0vbba/remember_when_citron_research_was_bullish_on/)|LK|152%|\\n|[Buying Calls with High IV (CCIV)](https://www.reddit.com/r/options/comments/kyh9ab/buying_calls_with_high_iv_cciv/)|CCIV|148%|\\n|[Is Nokia a good long term buy?',\n",
              " 'Current market price is $4.07.',\n",
              " '](https://www.reddit.com/r/stocks/comments/kyltua/is_nokia_a_good_long_term_buy_current_market/)|NOK|147%|\\n|[AMC Entertainment CEO is shockingly close to staving off bankruptcy](https://www.reddit.com/r/stocks/comments/l024kg/amc_entertainment_ceo_is_shockingly_close_to/)|AMC|145%|\\n|[We remain long $GME.',\n",
              " 'I reupped at 39.60 after ????',\n",
              " 'called in sick.',\n",
              " \"Charts: my whale friend’s position (he bought more in the 40s), me, and $...](https://www.reddit.com/r/wallstreetbets/comments/l1nxu1/we_remain_long_gme_i_reupped_at_3960_after_called/)|GME|98%|\\n|[After dropping 51%, $SRPT shares show consistent increase following Cathie's ARKG interest](https://www.reddit.com/r/stocks/comments/l1oapf/after_dropping_51_srpt_shares_show_consistent/)|SRPT, ARKG|87%|\\n|[ARKG selling puts](https://www.reddit.com/r/thetagang/comments/l1zbnt/arkg_selling_puts/)|ARKG|87%|\\n|[Why did square inc (SQ) increase so dramatically?\",\n",
              " '](https://www.reddit.com/r/investing/comments/kxyhxa/why_did_square_inc_sq_increase_so_dramatically/)|SQ|80%|\\n|[$MSFT catching up](https://www.reddit.com/r/options/comments/l1b4f3/msft_catching_up/)|MSFT|69%|\\n|[CRSR $35 2/19 Put sellers, what is your plan?',\n",
              " '](https://www.reddit.com/r/thetagang/comments/l1q1vw/crsr_35_219_put_sellers_what_is_your_plan/)|CRSR|67%|\\n|[TikTok finally beat $FB in monthly time spent on the platform per user](https://www.reddit.com/r/stocks/comments/l1hn36/tiktok_finally_beat_fb_in_monthly_time_spent_on/)|FB|64%|\\n|[previous fvrr post made me try Fiverr - it was a clown show.',\n",
              " '](https://www.reddit.com/r/stocks/comments/l08czz/previous_fvrr_post_made_me_try_fiverr_it_was_a/)|FVRR|62%|\\n|[Long term investing, why not go with UPRO instead of SPY?',\n",
              " 'Since it 3x the returns...](https://www.reddit.com/r/investing/comments/l0bbgg/long_term_investing_why_not_go_with_upro_instead/)|UPRO, SPY|56%|\\n\\n&#x200B;\\n\\n# WSB - Most Mentioned Tickers This Week\\n\\nTotal Comments Parsed Last 7 Day(s): 102,587\\n\\n\\\\*Comment volume on GME was lower than usual because they had a separate thread specifically for GME\\n\\n|Ticker|Comments|Bullish %|\\n|:-|:-|:-|\\n|GME - Gamestop Corpor...|11,327|86%|\\n|BB - BlackBerry Ltd|4,165|91%|\\n|TSLA - Tesla Inc|3,461|79%|\\n|PLTR - Palantir Techno...|2,672|86%|\\n|AAPL - Apple Inc|2,547|90%|\\n|ICLN - BlackRock Insti...|1,705|91%|\\n|AMD - Advanced Micro ...|1,590|86%|\\n|BABA - Alibaba Group H...|1,228|80%|\\n|AMZN - Amazon.com Inc....|1,062|84%|\\n|PLUG - Plug Power Inc|952|91%|\\n|F - Ford Motor Co.|866|85%|\\n|NFLX - NetFlix Inc|841|86%|\\n|NIO - NIO Inc - ADR|752|92%|\\n|FB - Facebook Inc - ...|740|87%|\\n|INTC - Intel Corp.|740|61%|\\n|TLRY - Tilray Inc - Cl...|707|68%|\\n|WISH - ContextLogic In...|581|71%|\\n|APHA - Aphria Inc|512|93%|\\n|NOK - Nokia Corp - AD...|509|97%|\\n|CRSR - Corsair Gaming ...|442|91%|\\n|AMC - AMC Entertainme...|394|92%|\\n|MSFT - Microsoft Corpo...|348|88%|\\n|GLD - SSgA Active Tru...|342|72%|\\n|ARKG - ARK Investment ...|325|93%|\\n|ARKK - ARK Investment ...|309|94%|, I created an algo that tracks the most hyped stocks on Reddit.',\n",
              " 'Here are the results for this week I created an algo that scans the most popular trading sub-reddits and logs the tickers mentioned in due-diligence or discussion-styled posts.',\n",
              " 'Instead of scanning for how many times each ticker was mentioned in a comment, I logged how popular the post was among the sub-reddit.',\n",
              " \"Essentially if it makes it to the 'hot' page, regardless of the subreddit, then it will most likely be on this list.\",\n",
              " 'There are two parts to this post.',\n",
              " 'The first is for posts that were submitted in the most active trading sub-reddits (such as this one), and the second part has the most mentioned tickers from the WSB sub-reddit.',\n",
              " '**How is \"Hype\" calculated?',\n",
              " \"**\\n\\nWell, this is a little tricky but it's based on the engagement that the post received in that sub-reddit relative to other posts in the same sub-reddit\\n\\n**How can I use this list?\",\n",
              " '**\\n\\nThe best way to use this data is to learn about new tickers that might be trending.',\n",
              " 'As an example, I probably would have never known about the ARK etfs, or even Palantir, until they started trending on Reddit.',\n",
              " 'This gives many people an opportunity to learn about these stocks and decide if they want to invest in them or not.',\n",
              " 'The data on this list is limited to one post per ticker.',\n",
              " \"I've taken the most 'popular' post for that ticker on whichever sub-reddit it may have been.\",\n",
              " \"What I've found is that normally if tickers begin to trend on one sub-reddit then generally-speaking there will be posts for the same ticker on various other sub-reddits.\",\n",
              " \"Here's the data from the last week.\",\n",
              " '# Most Hyped Stock Threads\\n\\n&#x200B;\\n\\n|Title|Tickers|Avg Hype %|\\n|:-|:-|:-|\\n|[GME shorts get crushed as explained by Cramer ... big WSB shout out, the first of two in the show tonight](https://www.reddit.com/r/wallstreetbets/comments/kxhitu/gme_shorts_get_crushed_as_explained_by_cramer_big/)|GME|300+%|\\n|[Tesla passes Facebook to become fifth most valuable U.S. company](https://www.reddit.com/r/stocks/comments/kt4dsy/tesla_passes_facebook_to_become_fifth_most/)|FB, TSLA|300+%|\\n|[Citi wants a war?',\n",
              " 'Let’s give them a war!',\n",
              " 'PLTR ](https://www.reddit.com/r/wallstreetbets/comments/kwhxx3/citi_wants_a_war_lets_give_them_a_war_pltr/)|PLTR|300+%|\\n|[ARKX.',\n",
              " 'ARK invest Space Exploration ETF.',\n",
              " 'SEC Filiing below](https://www.reddit.com/r/stocks/comments/kwr7ef/arkx_ark_invest_space_exploration_etf_sec_filiing/)|ARKW, ARKF, ARKK, ARKG|300+%|\\n|[Nio Is the Next Tesla, Jim Cramer Says](https://www.reddit.com/r/stocks/comments/kvetxt/nio_is_the_next_tesla_jim_cramer_says/)|TSLA, NIO|300+%|\\n|[NIO Partners with NVIDIA to Develop a New Generation of Automated Driving Electric Vehicles](https://www.reddit.com/r/stocks/comments/ktrnpo/nio_partners_with_nvidia_to_develop_a_new/)|NVDA, NIO|300+%|\\n|[Looks like Hyundai IS doing a joint partnership with Apple for the Apple car.',\n",
              " 'Time to buy GOEV.',\n",
              " '](https://www.reddit.com/r/stocks/comments/kv3xli/looks_like_hyundai_is_doing_a_joint_partnership/)|AAPL|300+%|\\n|[Intel Gains 9% as CEO Bob Swan to step down Feb. 15, CNBC says](https://www.reddit.com/r/investing/comments/kwh7hg/intel_gains_9_as_ceo_bob_swan_to_step_down_feb_15/)|INTC|300+%|\\n|[NIO DAY HIGHLIGHTS](https://www.reddit.com/r/stocks/comments/ktq03r/nio_day_highlights/)|NIO|300+%|\\n|[Lemonade Insurance: A Full Blown Bubble?',\n",
              " \"](https://www.reddit.com/r/investing/comments/kw1ssd/lemonade_insurance_a_full_blown_bubble/)|LMND|300+%|\\n|[Sold a covered call on $PLUG earlier in the week and now it's deep ITM](https://www.reddit.com/r/thetagang/comments/kt3026/sold_a_covered_call_on_plug_earlier_in_the_week/)|PLUG|300+%|\\n|[Amazon Stock Price Target Prediction & Analysis \\\\[DCF, Fundamental & Tehnical\\\\]](https://www.reddit.com/r/StockMarket/comments/kxwje8/amazon_stock_price_target_prediction_analysis_dcf/)|AMZN|300+%|\\n|[Boeing 737 missing after take off in Indonesia](https://www.reddit.com/r/stocks/comments/ktp3wm/boeing_737_missing_after_take_off_in_indonesia/)|BA|297%|\\n|[$TWTR down afterhours following donald trump ban](https://www.reddit.com/r/options/comments/ktiysz/twtr_down_afterhours_following_donald_trump_ban/)|TWTR|290%|\\n|[Walmart to create fintech start-up with investment firm behind RH](https://www.reddit.com/r/investing/comments/kvcihl/walmart_to_create_fintech_startup_with_investment/)|WMT|187%|\\n|[Took GM 50 years to come up with this?\",\n",
              " \"So bad its bullish](https://www.reddit.com/r/wallstreetbets/comments/ktm80t/took_gm_50_years_to_come_up_with_this_so_bad_its/)|GM|183%|\\n|[Tesla's Model Y wins 5-star safety rating from NHTSA](https://www.reddit.com/r/stocks/comments/kx6mkw/teslas_model_y_wins_5star_safety_rating_from_nhtsa/)|TSLA|171%|\\n|[I am the GME Oracle](https://www.reddit.com/r/wallstreetbets/comments/kxdout/i_am_the_gme_oracle/)|ORCL, GME|165%|\\n|[ARKG or ARKK for long term gains?\",\n",
              " '](https://www.reddit.com/r/investing/comments/ktmnxn/arkg_or_arkk_for_long_term_gains/)|ARKK, ARKG|161%|\\n|[\\\\[Report\\\\] Goldman Sachs is trying to dump 38M shares of Uber.',\n",
              " \"The sellers are unknown, but Bloomberg points to 9 large holders led by SoftBan...](https://www.reddit.com/r/investing/comments/ktu0we/report_goldman_sachs_is_trying_to_dump_38m_shares/)|UBER|159%|\\n|[Silver, way more than just a precious metal and an incredible investment opportunity](https://www.reddit.com/r/investing/comments/kvs2ow/silver_way_more_than_just_a_precious_metal_and_an/)|SLV|145%|\\n|[Shorted spy for Monday](https://www.reddit.com/r/options/comments/ktfxa3/shorted_spy_for_monday/)|SPY|98%|\\n|[“A CBS interview with Tim Cook will reportedly bring a huge announcement from Apple on Wednesday.”](https://www.reddit.com/r/wallstreetbets/comments/kvz7t0/a_cbs_interview_with_tim_cook_will_reportedly/)|AAPL|82%|\\n|[PTON value is out of control](https://www.reddit.com/r/investing/comments/kvx234/pton_value_is_out_of_control/)|PTON|73%|\\n|[PSA: BlackBerry (BB), GME's forgotten... cousin?\",\n",
              " 'IV off the roof!!!',\n",
              " '](https://www.reddit.com/r/thetagang/comments/kxivci/psa_blackberry_bb_gmes_forgotten_cousin_iv_off/)|BB, GME|72%|\\n|[Visa abandons takeover of Plaid after DOJ raises antitrust concerns](https://www.reddit.com/r/investing/comments/kwae77/visa_abandons_takeover_of_plaid_after_doj_raises/)|V|69%|\\n|[Continuing our investing journey from PLTR to DTIL](https://www.reddit.com/r/stocks/comments/kxwq2t/continuing_our_investing_journey_from_pltr_to_dtil/)|DTIL, PLTR|61%|\\n|[Call Options on Ford](https://www.reddit.com/r/options/comments/ksqqxo/call_options_on_ford/)|F|59%|\\n|[Alibaba (BABA) is  on steroids!',\n",
              " '](https://www.reddit.com/r/stocks/comments/kxepm4/alibaba_baba_is_on_steroids/)|BABA|55%|\\n|[MSFT, APPL, GOOGL - worth holding all of them?',\n",
              " '](https://www.reddit.com/r/stocks/comments/kwf6yh/msft_appl_googl_worth_holding_all_of_them/)|GOOGL|51%|\\n\\n&#x200B;\\n\\n# WallStreetBets - Most Mention Equities This Week\\n\\n&#x200B;\\n\\n|Ticker|Comments|Bullish %|\\n|:-|:-|:-|\\n|GME - Gamestop Corporation - Class A|18,694|89%|\\n|TSLA - Tesla Inc|13,820|80%|\\n|NIO - NIO Inc - ADR|4,956|77%|\\n|PLTR - Palantir Technologies|4,567|89%|\\n|AAPL - Apple Inc|4,278|82%|\\n|PLUG - Plug Power Inc|2,947|85%|\\n|BABA - Alibaba Group|1,485|87%|\\n|AMZN - Amazon.com Inc.|1,307|82%|\\n|AMD - Advanced Micro...|1,286|88%|\\n|FB - Facebook Inc - Class A|930|81%|\\n|WISH - ContextLogic|922|86%|\\n|PSTH - Pershing Square|830|100%|\\n|TLRY - Tilray Inc - Class 2|824|94%|\\n|SPCE - Virgin Galactic|666|94%|\\n|APHA - Aphria Inc|622|96%|\\n|BA - Boeing Co.|616|66%|\\n|ARKG - ARK ETF|603|90%|\\n|BB - BlackBerry Ltd|574|92%|\\n|MT - ArcelorMittal|521|94%|\\n\\n&#x200B;, Deteriorating quality of this sub There seems to be an influx of new \"traders\" that literally spam the same questions about the same 2 tickers on a daily basis, asking us if they should spend their life savings on a single position or how they can buy a certain hype stock as quick as possible because they heard that those might go up indefinitely, never having made a financial decision like that in their life before, most don\\'t even seem to know the very basics but want to make quick money.',\n",
              " 'WSB used to be a funny little subreddit in which you could discuss serious DD and also post your losses on stupid trades (no upvotes for green accounts), now it\\'s some kind of weird echo chamber and it\\'s suddenly \"cool\" to be part of it and also take part in every stupid idea people there come up with, not to mention it\\'s toxic, e.g.',\n",
              " \"harrassing Andrew Left is not okay, you might not agree with him, but he has made some valid points most people don't even want to consider because of mob mentality, just the keep the insults out of this sub please.\",\n",
              " 'It feels like the same kind of people are now slowly taking over this sub, sorting posts by \"new\" is pointless because the same stupid questions that could be answered with a 10 second Google search are asked every 10 minutes, if you don\\'t have the patience for that, or even reading the sidebar you shouldn\\'t be able to post here and spam this sub because it drowns the few actually interesting questions and discussions that don\\'t concern Gamestop, Palantir or Blackberry or gambling away your family\\'s life savings.',\n",
              " 'The worst thing is that people who have no clue get positively reinforced by members of this sub \"yeah totally yolo all your savings into GME\".',\n",
              " 'This is not WSB, people should at least put some thought into their posts.',\n",
              " \"The moderators should be a lot tougher again and curate the sub more, keep out the toxicity, make sure people get useful advice and are not lead into financial ruin (some can't tell the difference between irony and serious advice).\",\n",
              " \"Several uses have suggested to put more of an emphasis on to FAQ and Q&A sections as well, many people already use the daily threads and and post good questions and discussions, let's increase its use.\",\n",
              " \"The quality has deteriorated so much, I almost don't feel like scrolling through the sub anymore.\",\n",
              " \"Excuse the wall of text but it's been bothering me for a while now, anybody else feel the same way or am I just delusional?\",\n",
              " \"Edit: Thank you all for your contributions, seems like we got a real discussion going here, which is great, let's all stay civil though, even if it's a controversial topic, please don't insult the posters you don't agree with., Addicted to investing Title pretty much sums it up.\",\n",
              " 'Never thought I’d get addicted to the stock market... I’m constantly distracted and keep checking my phone for updates, don’t listen to lectures (never really did anyway fuck zoom university smh), and once the market closes, all I do is read the news about certain stocks and companies, then go on reddit, then discord, then twitter, then instagram.',\n",
              " 'I swear I watched every single video about stocks on YouTube already.',\n",
              " 'I literally can’t sleep right now cuz I’m excited for 9:30 am tomorrow.',\n",
              " 'Fuck bro this is unhealthy but I’m making bank.',\n",
              " 'anyone else feel the same way?',\n",
              " '$GME $BB $AMC 🚀🚀🚀🚀🚀🚀🚀🚀🚀, GME $71 as of right now.',\n",
              " 'Are you guys selling it putting a limit order?',\n",
              " 'And if you are, at what price?',\n",
              " 'I got in early at $16, so I was wondering how you guys are playing this.',\n",
              " 'I know that no one can predict the peak, but I’m still interested in hearing what you guys are doing.',\n",
              " 'Personally, I put my limit order at $200, but that’s just a guess in my part., Infinite Short Squeeze Explained | Blue Appron Case Study | GME Infinite Short Squueze This post will describe the behaviour of an infinite short squeeze using Blue Appron as a case study.',\n",
              " 'On March 16, 2020.',\n",
              " 'Blue Appron stock priced moved from 2.30 to 28.00 in ONE DAY.',\n",
              " \"***That's an 1100% gain in one day with the stock price.\",\n",
              " 'Options moved over 100000% that day.',\n",
              " '*** The reason was an infinite short squeeze similar to the one that is happening with GME.',\n",
              " \"&#x200B;\\n\\n# Blue Appron Short Interest (SI)\\n\\nDuring that period Blue Apron's short interest was 50%.\",\n",
              " 'Blue Apron was running out of cash and shorts piled on.',\n",
              " 'Then the pandemic happened an people started ordering meal kits en mass, infusing Blue Apron with large inflows of cash.',\n",
              " 'Fearing, meal kits had become a secular trend like ride sharing, shorts started to cover.',\n",
              " 'But they soon discovered shares were limited.',\n",
              " 'So the infinite squeeze happened.',\n",
              " '*They had to cover at any price to balance their books when Market makers started to sell off their other positions.',\n",
              " '*\\n\\n&#x200B;\\n\\n# GME Short Interest\\n\\nCurrently GME Short Interest is rumored to be above 100% \\\\[1\\\\].',\n",
              " 'Thus the environment is similar to the Blue Appron infinite short squeeze.',\n",
              " 'Namely, there are no shares for GME shorts to cover, once the infinite squeeze occurs and MM forces them to balance their books.',\n",
              " \"Moreover, the squeeze hasn't happened yet, given that the Short Interest hasn't moved lower.\",\n",
              " 'In fact, it has been rumored short interest has increased as shorts make a last ditch effort to scare off the bulls.',\n",
              " 'But the markets is aware how the conditions are there for an infinite short squeeze.',\n",
              " '&#x200B;\\n\\n# Behaviour of an Infinite Short Squeeze\\n\\nThe behaviour of an infinite short squeeze (ISS) are violent.',\n",
              " \"In financial history, the two widely cited cases are the VW infinite squeeze of '08 and the Blue Appron one of '20.\",\n",
              " 'As you can see, infinite short squeezes have been rare because most rational agents would never get themselves into a situation which would lead to an ISS.',\n",
              " \"When shares can't be covered and stock price increases, shorts are forced to cover by Market Makers.\",\n",
              " 'But because of the huge supply/demand imbalance, shorts have to cover at prices that would seem irrational on a cursory glance but are rational based on the supply/demand equilibrium of available shares.',\n",
              " '***Consequently, it is normal to see 1000% increases in one day.',\n",
              " 'And 100000% gains in 0dte options.',\n",
              " '***\\n\\nAs more market player realize the infinite short squeeze is inevitable, the tripping point of the squeeze collapses from months to days to hours.',\n",
              " '*The only way shorts can alleviate the narrative of inevitably is to spread fear, uncertainty and doubt (FUD).',\n",
              " 'So as long as GME stock positions are maintained, and more shares are bought, the short squeeze is inevitable.',\n",
              " '*\\n\\nOwning stock or options are better than a lottery ticket because the odds are in your favor.',\n",
              " '\\\\[1\\\\] [https://www.marketbeat.com/stocks/NYSE/GME/short-interest/](https://www.marketbeat.com/stocks/NYSE/GME/short-interest/), If all you’re looking for growth stocks then here you go \\nPLTR - Data Analysis, AI, Machine Learning for Terrorism/Government Use\\n\\nNIO - Potentially a solid growth company if it drops a little further\\n\\nRKT - Online Mortgage Lending, Basically what Tesla is to Gas Combustion Engines\\n\\nRDFN -  someone mentioned Redfin to compliment RKT and I totally agree\\n\\nSQ - constantly moving forward in anything money, possibly interrupting the visa/mc area/CC’s\\n\\nFNKO - Hear me out, HUGE potential for growth.',\n",
              " 'Potential buy out from Disney.',\n",
              " 'Already in a partnership with them for an animated series on Disney+\\n\\nTesla - Because AI taxis, cars, batteries, you already know\\n\\nTikTok - Can potentially turn into a YT competitor if they allow for longer video uploads and possibly new UI design\\n\\nRoblox - kids fucking love it\\n\\nLULU - Nobody can touch Lulu, not even Nike\\n\\nStarlink - can potentially be the global supplier of WIFI (when/if it IPOs)\\n\\nI don’t care to invest in growth companies of the present, I’m looking for growth companies of the future and I think I’ve found them\\n\\n**Note:**\\n\\n**I’m holding $63,000 in RKT, $40,000 in BIGC, $6000 in TTD and $6000 in GME**\\n\\nThe positions above are not what I’m holding.',\n",
              " 'They’re what I would like to hold.',\n",
              " 'Not sure why you guys are asking but I don’t really follow anyone on social media for stocks.',\n",
              " 'Really only listen to myself.',\n",
              " 'If I *had* to choose I’d go with MEETKEVIN, that chicken Asian guy that likes Tesla, Steven mehr I think his name is on YouTube for macroeconomics, butimnotatrader dude just posts raw info and he’s right a lot, that financial advice 2 guy with the hat and probably game of trades for the TA?',\n",
              " 'Not sure why so many people were upset at my positions, here they are: https://imgur.com/gallery/k9BCep8, Spreadsheet to calculate GME Exit Strategy, ROI Calculations & Breakeven Analysis **PLEASE DROP AN UPVOTE AND/OR COMMENT IF YOU USE.',\n",
              " 'IT TOOK ME A FEW HOURS TO MAKE THIS SPREADSHEET AND I WOULD LIKE TO HELP AS MANY PEOPLE AS POSSIBLE.',\n",
              " 'I SEE A LOT OF PEOPLE OPENING AND DUPLICATING THE SHEET, PLEASE HELP PAY IT FORWARD.',\n",
              " '**\\n\\nDisclaimer: I originally created this tool for WSB, but it looks like I am muted there for some reason, so I figured I would share on some other subs where people are also talking about GME.',\n",
              " \"This whole experience has been (and will be) a crazy trip, but you don't want to be the one caught holding the bag when it eventually comes crashing down to earth.\",\n",
              " '**HAVE AN EXIT STRATEGY.',\n",
              " '** Everyone has different levels of expendable capital and risk tolerance.',\n",
              " 'Some of us can afford to YOLO away six-figure investments, while others would be more than happy to simply turn a few hundred dollars into a grand.',\n",
              " 'Your exit strategy should depend on how much money you are comfortable losing, and how much profits you would be happy taking.',\n",
              " \"I'm not here to tell you what your strategy should be, but I did make a tool so you can figure it out for yourself: [Exit Strategy Calculator (Google Sheet)](https://docs.google.com/spreadsheets/d/13twJC8Ldy3p7iS7fp5htOjfhTYZIE_Fqa5Rn9wgqv8c/edit?usp=sharing)\\n\\n&#x200B;\\n\\n**HOW TO USE THE EXIT STRATEGY PLANNER**\\n\\n\\\\- Note 1: **This is for shares only**.\",\n",
              " \"I'm not smart enough to make this work for options.\",\n",
              " '\\\\- Note 2: The link I provided is READ ONLY, so the first step is to **make a copy** for your own use (File --> make a copy)\\n\\n\\\\- **Now, enter your current position.',\n",
              " '** Provide the number of shares you have in A3, and your average cost basis in B3 (these cells are highlighted in yellow).',\n",
              " 'Your total investment will automatically calculate in C3.',\n",
              " '\\\\- **Columns E-F are the ROI calculator.',\n",
              " '** Column F tells you what the share price will need to reach in order to hit the ROI listed in Column E. Column G tells you what your total value would be at that share price.',\n",
              " '\\\\- **Columns I-K are your break-even analysis**, which basically tells you what the share price would need to be for you to break even by selling X number of your shares, and what your profit would be if you sold all of them at said price.',\n",
              " '*You will probably want to adjust the #s in Column I based on how many shares you currently have in your position*.',\n",
              " 'Columns J & K will automatically update when you do.',\n",
              " '\\\\- **Columns M-N calculate your profits at different share prices.',\n",
              " '** How much money will you make if you sell when GME hits $80?',\n",
              " 'What about $100, or $250, or even $1,000?',\n",
              " 'These columns will tell you.',\n",
              " 'Feel free to adjust the share prices in column M if you want, but I have most of the big milestones covered.',\n",
              " '\\\\- **Columns P-R are your exit strategy planner.',\n",
              " '** *You will need to provide the following information: # of shares (if any) you want to hold long term, post-squeeze \\\\[cell P4\\\\].',\n",
              " 'Maximum dollar amount from your initial investment that you can stomach losing \\\\[Q4\\\\].',\n",
              " 'Profit amount you would be 100% happy cashing out with no FOMO of future gains \\\\[R3\\\\].',\n",
              " '* Cell Q6 will calculate your \"worst case scenario\" sell price.',\n",
              " '**Set a stop loss order at this price to maximize your losses** to the amount you entered in Q4, while still holding your desired # of long-term shares.',\n",
              " 'Cell Q7 will calculate your \"best case scenario\" sell price.',\n",
              " '**Set a limit order at this price to cash out with your \"100% satisfied profit\"** you entered in R4, while still holding your desired # of long-term shares.',\n",
              " '\\\\- **Columns T-V is an incremental sales planner.',\n",
              " '** Some of you may want to sell a portion of your shares when certain benchmarks are hit (ie sell 10 shares when it hits $100, another 10 at $150, etc.).',\n",
              " 'Simply enter in how many shares you want to sell at each price point \\\\[column U\\\\], and the sheet will calculate your cumulative revenues, net profit, and remaining shares.',\n",
              " 'TLDR: Use this spreadsheet to avoid getting caught holding the bag on GME when all of the shorts are officially squeezed.',\n",
              " 'Make a copy for yourself and change the cells highlighted in yellow to account for your personal position and risk/reward preferences.',\n",
              " \"Of course you can use this spreadsheet for your other investments, but let's be honest... half of us seem to be all in on GME right now.\",\n",
              " 'Big week ahead, may all of our profits be plentiful!',\n",
              " '**EDIT:** A few people have mentioned that the file traffic was too high and it was not allowing them to make a copy.',\n",
              " 'Fear not!',\n",
              " 'I have made some alternate sheets you can use instead (they are all the same).',\n",
              " '1.',\n",
              " '[Alt 1](https://docs.google.com/spreadsheets/d/1-6XkMn0c6OkHvyA0fWeTDVumpmU6btFYnsbY1z0GecM/edit?usp=sharing)\\n2.',\n",
              " '[Alt 2](https://docs.google.com/spreadsheets/d/1HrkHCwhpCWtCQbvW2NJ5Zwo_kU65oDgDyRf3sLket6E/edit?usp=sharing)\\n3.',\n",
              " '[Alt 3](https://docs.google.com/spreadsheets/d/1XZpIwY-KIZHXZUcLBTT7yVUq2oBsQg6IE44odsxSLsw/edit?usp=sharing)\\n4.',\n",
              " '[Alt 4](https://docs.google.com/spreadsheets/d/1sCxovPWEHj11IuK2a1U4fyqqqYYxYwcsBNRVcT4gfdI/edit?usp=sharing)\\n5.',\n",
              " \"[Alt 5](https://docs.google.com/spreadsheets/d/1m1M3FDN0t62SqSH2U5lOZ602hdOF_x6d5rM33qe5l7Y/edit?usp=sharing), The end of GameStop GameStop GME reached $3.12 today, the lowest it's ever been in its entire history of being public.\",\n",
              " 'It is around a $200m market cap now.',\n",
              " 'GameStop was betting on a turnaround later this year because of the new console release, but COVID-19 seems to have put those plans on a damper.',\n",
              " \"Moreover, with the virus most people won't want to visit a GameStop let alone go outside.\",\n",
              " 'What left is there to be bullish on this company?',\n",
              " 'Michael Burry was long on it earlier this year - why?',\n",
              " 'Can the company last even another 6 months?',\n",
              " 'Edit: I am disappointed.',\n",
              " \"This post has become a circlejerk for lambasting GameStop instead of giving any actual analysis., All right WTF is going on with GME I hang with you guys, not the YOLO's at r/WSB, but I'm reading tonight and they're all convinced that the crazy run on GME is just starting (they're also high on BB).\",\n",
              " \"Maybe I'm just feeling a little FOMO, but I have some FU money and thinking about throwing some money at GME and BB next week just for the rush.\",\n",
              " \"Anyone else thinking about it?, GME's latest Short Interest after Jan 22 EOD is 70.97M.\",\n",
              " \"Cost of borrowing also increased  After Friday's close, SI reached 70.97M from Jan 21's SI of 70.46M.\",\n",
              " 'Institutional cost of borrowing also increased very slightly to 24.2%.',\n",
              " '[GME SI left to the rightmost column(exported from ORTEX data)](https://imgur.com/a/0gQjYT6)\\n\\nWe know GME absolutely ripped in Friday due to gamma hedging.',\n",
              " 'Some old shorts covering could have been the main reason behind the ignition switch but I am not very confident about that.',\n",
              " \"GME is already ripping in pre-market and I don't know what's triggering that.\",\n",
              " \"Maybe it's retail euphoria.\",\n",
              " 'Looks like we will continue to have gamma squeezes, tweets from Papa Cohen etc until shorts are forced to cover and close most of their shorts.',\n",
              " 'I am changing my thesis.',\n",
              " 'I thought we will see a slow TSLA-esque short-covering in GME.',\n",
              " 'Looks like we are setting up for something much quicker.',\n",
              " \"^(Disclaimer: This is based on ORTEX's best estimates.\",\n",
              " 'I am not a financial advisor.',\n",
              " 'This is not investment advice.',\n",
              " 'Invest in anything at your own risk.',\n",
              " \"), For Those Who Don't Understand the Inevitable Short Squeeze with GME First, what is a short?\",\n",
              " 'The first concept to understand is you **sell** to **open**, and **buy** to **close**.',\n",
              " 'Your brokerage will lend you x amount of shares and sell them on your behalf on the market.',\n",
              " 'That you is **selling** to **open** the short position.',\n",
              " 'When you cover your position you **buy** to **close** the position.',\n",
              " \"Let's say you short GME at $15.80 for 1000 shares and the price drops to $12.\",\n",
              " 'You would borrow 1000 shares from your broker that are sold on the market at $15.80, you decide to close your position at $12 where you would then buy those 1000 shares at $12/share and give them back to the broker.',\n",
              " 'You would profit $3.80/share so $3800.',\n",
              " 'But what if the price goes up?',\n",
              " 'Well, you have **cover** that position.',\n",
              " 'So if you short GME at $15.80 and it goes up to $16.20 you are already in the hole $0.40/share.',\n",
              " '**Key Point:** Shorting happens on a **margin** account.',\n",
              " \"That means, it's not actually your money either.\",\n",
              " \"It's the brokerages.\",\n",
              " 'If you are losing enough money you will go into what is called a **house call** which essentially will force you to cover your position.',\n",
              " 'Moral of the story, if you drive the price up, you will force short positions to either cover or double down.',\n",
              " 'The case of GME is extremely interesting because there is over 100% short interest, meaning there are more shorts than actual volume.',\n",
              " 'THIS is what causes a short squeeze.',\n",
              " \"This is also why you can't expect it to happen over night.\",\n",
              " \"Short Position A might be Bob from Kentucky who has a $350,000 margin account and he shorted at 15.80, once it gets to 16.50 we wants out because he's already losing so much and it's not worth the risk.\",\n",
              " \"Short Position B might be Bank of A lot of Power who has a $4BN margin account and can wait years for it to fail, so they have no need to cover their positions unless it's looking really bad long term.\",\n",
              " '(Like if this Cohen thing happens)\\n\\nAs shorts cover their positions, they are forced to buy at a higher price than they shorted, driving the stock price up.',\n",
              " 'This will lead to more short positions covering driving the price up some more, leading to more short positions doing the same.',\n",
              " 'All the way up to the whales who have massive short positions.',\n",
              " 'GME has over 100% short interest, has formed a cup and handle, and the potential Cohen takeover is right around the corner.',\n",
              " 'A squeeze will happen.',\n",
              " 'Hope this helps!',\n",
              " 'EDIT:\\n\\nRegarding GME specifically.',\n",
              " 'The earnings call on 12/8 has two possible outcomes.',\n",
              " '1.',\n",
              " 'Cohens letters are addressed and either GME begins moving forward and meets his demands or he gets a controlling position in the company.',\n",
              " '2.',\n",
              " 'Cohens letters are ignored.',\n",
              " 'If case 2 happens there are two possible outcomes.',\n",
              " '1.',\n",
              " 'Cohen initiates a hostile takeover\\n2.',\n",
              " 'Cohen gives up the fight and sells his shares (this is the risk of this play, every other circumstance leads to a squeeze, this one leads to the shorts winning and GME heading for the toilet, however this is unlikely, it’s not like GME wants to go out of business, so it’s very unlikely Cohen and his public letters are ignored), Everything you need to know about Shorting: Ratio, Float, Interest, Squeeze Thanks to GME, I graduated yesterday with my Bachelor’s Degree in Short Knowledge from YouTube University.',\n",
              " 'Gather around kids, I am now ready to become a professor.',\n",
              " 'First to understand shorting ratios, you need to know what outstanding shares are.',\n",
              " 'There are two:\\n\\n**Shares Outstanding**\\n\\nThe TOTAL NUMBER of shares a company has.',\n",
              " 'Period.',\n",
              " 'It includes: Owners, Insiders, Institutional, shares that are locked up, Available to general public, etc.',\n",
              " '**Shares Float**\\n\\nThe total amount of shares to TRADE in the general Stock Market.',\n",
              " 'Pretend: Stock XYZ has *400M shares float*, *50M shares shorted*, and *daily volume of 10M shares*.',\n",
              " 'Now, let’s finally get to the shorting.',\n",
              " '**Short Ratio**\\n\\nThe number of *days* it would take ALL the shorts to cover their positions.',\n",
              " '* Formula is: Shorted/Volume, so in this case: 50/10 = 5.',\n",
              " 'It will take 5 days for ALL shorts to cover their positions if they were to do so.',\n",
              " '**Short Float**\\n\\nWhat percentage of AVAILABLE shares (Shares float) are currently being shorted.',\n",
              " '* Formula is: ((Shorted/Available) \\\\* 100) shares.',\n",
              " 'So, (50/400) \\\\* 100 = 12.5%.',\n",
              " '**Short Interest** **(Shares Shorted)**\\n\\nPretty much like Short Float.',\n",
              " 'The quantity of stocks that investors have sold short but not yet covered or closed out.',\n",
              " '**Short Squeeze**\\n\\nWhen stock price rises and the investors who shorted the stock are in RED getting a margin call.',\n",
              " 'They have to immediately buy back the stock to close their position.',\n",
              " 'But… how will they close GME?',\n",
              " 'The diamond hands aren’t selling.',\n",
              " 'They’re riding it to the moon.',\n",
              " \"*Edit*: Thanks but please don't give me awards lol.\",\n",
              " 'Spend it buying stocks and getting rich.',\n",
              " ', Is GME currently in the short-squeeze (up 20% today so far)?',\n",
              " 'Does anyone know a reason for GME up so much, or is this the beginning of the short-squeeze?',\n",
              " 'In a short-squeeze, how high do stocks typically climb?',\n",
              " \"I'm aware that this will depend on how many people have shorted the stock, I'm more interested in how fast it will accelerate and what to look for and general trends from past short-squeezes, GME Either Squeezes or Gets Delisted - Who Will Win Short or Squeeze?\",\n",
              " 'Predictions here Hello Reddit,\\n\\nGME is not a question of a business model in the future, it is a question of right now.',\n",
              " 'I understand the need for numbers and figures, I do.',\n",
              " 'Technical and fundamental research is viable and necessary, but one very over looked method of analysis is philosophical.',\n",
              " 'We have seen DD after DD talking about the numbers and the business model.',\n",
              " 'But I want to share some thoughts with you of my logical thinking and would love to see counter points.',\n",
              " \"**First Let's Recap**\\n\\n**Pre-Earnings (Aug-Dec)**\\n\\nAlready was running up and then r/wallstreetbets massive hype of a short squeeze and Cohen letters leads to a run-up followed by a sell-off due to overbuying.\",\n",
              " '**During Earnings (12/7):**\\n\\n[Earnings Call Transcript](https://www.fool.com/earnings/call-transcripts/2020/12/09/gamestop-gme-q3-2020-earnings-call-transcript/)\\n\\nThe conversation and presentation actually had good content.',\n",
              " \"Their balance sheet looks fantastic; eliminated debt, reduced costs, making changes towards the digital transformation, e-commerce way up, console sales upcoming, new inventory and other positives they didn't even mention like the [Microsoft deal](https://news.microsoft.com/2020/10/08/gamestop-announces-multiyear-strategic-partnership-with-microsoft/).\",\n",
              " 'But the stock plummets...why?',\n",
              " 'There were two pieces of \"bad news\": \"missed revenue\" and \"shelf offering\" which PR blasted in a very negative light taking it completely out of context.',\n",
              " \"Revenue missed was expected, not just because it's GME but because of COVID-19 effects on a retail business.\",\n",
              " \"Revenue: Loss was expected, not just because it's GME but because of COVID-19 effects on a retail business.\",\n",
              " 'Shelf offering: $100M and has two years to be used.',\n",
              " 'First comment was by Jim Bell: \"\"However, as a pragmatic matter initiating this program provides us with the maximum flexibility and optionality to further bolster our balance sheet and liquidity position and increase flexibility gives us the ability to leverage opportunities to accelerate our transformational strategies, such as increasing the speed at which we elevate expand our omni-channel strategy while further ensuring minimal disruption from any potential further pandemic impacts around the world.\"',\n",
              " 'When asked by William Reuter from BoA.',\n",
              " '\"OK. And then, in terms of the new shelf, you know, I saw that you mentioned general corporate purposes.',\n",
              " 'Would you consider issuing stocks to repay debt under that program?\"',\n",
              " 'George Sherman responded: \"No, that\\'s absolutely not the intent.',\n",
              " 'The intent here is to simply optimize flexibility and optionality.',\n",
              " 'Period.',\n",
              " 'There is a lot of unknowns going on in the marketplace with respect to this pandemic, ongoing flex of cases across the world, the impacts on our own businesses.\"',\n",
              " \"My thought: It's a defense mechanism to attempt to do one of three things:\\n\\n1.\",\n",
              " 'Help combat against a Cohen takeover\\n2.',\n",
              " 'Collect profits on their way out because they know a short squeeze is imminent\\n3.',\n",
              " 'They truly want to use it as they said\\n\\nMy issue with 3 and what they said when asked by William Reuter, is that they have significantly improved the balance sheet and COVID-19 vaccinations have begun, not to mention they are intending on shifting focus on e-commerce, so it just struck me as a very odd reasons for a shelf offer.',\n",
              " 'Nonetheless, during this call the share price absolutely plummets, but why?',\n",
              " 'We received a lot of good news and two pieces of \"bad news\".',\n",
              " 'One was expected (revenue loss) and one was addressed during the call (shelf offering).',\n",
              " 'There was no intent on share dilution at least not anytime soon.',\n",
              " 'My thoughts: Only thing I can think is PR putting a negative spin, but more-so it was the bears using the negative PR to their advantage to drive the price down.',\n",
              " '$14 was the floor by the end of AH.',\n",
              " '**Post Earnings (12/9):**\\n\\nA war rages over $14 keeping it nearly level the entire day.',\n",
              " 'My thoughts: Bears expected much lower yet the bulls fought hard.',\n",
              " 'On a bleeding red day where bulls clearly had the disadvantaged portfolios, they were able to support and actually start a small uptrend.',\n",
              " '\\\\#WeWantCohen starts trending and Ryan Cohen puts out a [cryptic Tweet](https://twitter.com/ryancohen/status/1336775515101949963).',\n",
              " 'My thoughts: He is completely dissatisfied with management and their ability to address his concerns outline in the letter.',\n",
              " 'After ER the PR that went out and thoughts on the future of the company could have been beautiful if addressed and pitched correctly.',\n",
              " 'Management did not provide comfort in the eyes of anyone and the stock price reflects that as does the PR.',\n",
              " \"**What's Next?\",\n",
              " \"**\\n\\nThe moment you've all been waiting for.\",\n",
              " \"Let's gather some facts.\",\n",
              " '1.',\n",
              " 'Individuals own 9.87%\\n2.',\n",
              " 'Cohen (RC) owns 9.98%\\n3.',\n",
              " 'Michael Burry ( Scion) owns 2.44%\\n4.',\n",
              " 'GameStop Market Cap $890.11 Million\\n5.',\n",
              " 'Cohen net worth $600 Million\\n\\nCohen could either purchase enough shares to have majority vote or he can outright make an offer to buy the company.',\n",
              " \"So why hasn't he?\",\n",
              " 'There are two current possibilities:\\n\\n1.',\n",
              " 'He conducts a hostile takeover.',\n",
              " '2.',\n",
              " 'He has no plans to conduct a hostile takeover.',\n",
              " \"Reason 1 probable timing and outcome: If you were about to make a large purchase, wouldn't you want to get it at the best price possible?\",\n",
              " \"He's waiting until he feels like we are actually at the floor before making a move.\",\n",
              " 'Truthfully, all he has to do is speak.',\n",
              " 'If he even mentions an intent of acquisition the shorts will run and the bulls will pile in triggering the squeeze.',\n",
              " \"**Bulls win**\\n\\nReason 2 is interesting because why would he own 10% of a company where he clearly doesn't believe in current management?\",\n",
              " \"So, if a hostile takeover isn't the reason, then what is?\",\n",
              " 'I can think of two possibilities:\\n\\n1.',\n",
              " 'There is already something happening behind the scenes to peacefully put Cohen into a position of power.',\n",
              " '**Bulls win**\\n2.',\n",
              " 'He thought being 10% owner would give him a large enough voice to be convincing, when he realized the board does not share his vision, he pulls out.',\n",
              " '**Bears win**\\n\\nNow, this is interesting.',\n",
              " 'Reason 1 seems highly unlikely to me simply due to his tweet today.',\n",
              " \"If there were plans for a peaceful transition of power, I don't think he would add fuel to the fire of bad PR clearly doubting managements skills.\",\n",
              " 'Reason 2 is juicy.',\n",
              " 'Between RC, Scion and Individual investors who all want to see Cohen at the helm, that accounts for 22.29% of the company.',\n",
              " 'If RC pulls out, the rest follow, no bulls left to fight the bears, the institutions pull out and GME becomes a penny stock.',\n",
              " 'My overall prediction is the **bulls win.',\n",
              " '** The reason being, I can chart one path to victory for the bears but many paths to victory for the bulls.',\n",
              " 'Also, I do not think we will need to wait until Q4ER to see the squeeze.',\n",
              " 'From each scenario I could think of, Cohen would act sooner rather than later if he intends on purchasing or accumulating enough shares for proxy in order to get the best price possible.',\n",
              " 'Notice how nothing I said has to do with the future of the business or the business model as a whole?',\n",
              " \"That's because that doesn't matter.\",\n",
              " \"Q4 earnings will boost the price high enough for bulls to profit a little and then get out if they don't believe in the company.\",\n",
              " 'The overall longevity of the company is a completely different debate.',\n",
              " 'Feel free to counter-point in the comments.',\n",
              " '**TLDR:** You should read.',\n",
              " '**EDIT:** The title says delisted but perhaps should say “drops to $0”, GME short squeeze +40% Looks like GME has a lot more room to run being up 40%.',\n",
              " 'The short squeeze everyone has been talking about has commenced.',\n",
              " 'CHWY influence seems to help.',\n",
              " \"Sold my 1/15 $20 calls the other day so I'm sad, but bought some shares.\",\n",
              " 'This could still be huge.',\n",
              " 'Edit: 🚀 🚀 🚀\\n\\nEdit2: +90% at 11:45am, BB vs. GME The market for GME is already up %50 pre-market.',\n",
              " 'There are two possible plays out of this:\\n\\n1.',\n",
              " 'Buy GME calls for next week and hope that last weeks Gamma squeeze reflects to this week as a proper short squeeze.',\n",
              " 'But like VW, it will be very hard to get out of this in time if it happens.',\n",
              " '2.',\n",
              " 'BB is also overly shorted.',\n",
              " 'It might be a safer option of the two.',\n",
              " 'What do you guys think?',\n",
              " '\\\\--------------------------------------------------\\n\\nEDIT: Thank you moderators for making this post the official post for GME and BB.',\n",
              " 'I just want to thank this beautiful community for being the best out there.',\n",
              " 'WSB, stocks, investing - we are a big family - one that will not bend to the establishment.',\n",
              " 'Whichever direction this war swings, it has been an honor to fight along your side.',\n",
              " 'This is the way.']"
            ]
          },
          "metadata": {
            "tags": []
          },
          "execution_count": 14
        }
      ]
    },
    {
      "cell_type": "code",
      "metadata": {
        "id": "ucb5EyTJj6LW"
      },
      "source": [
        "#exporting tonkenized string of sample posts\n",
        "text_file = open(\"GME_post_sample.txt\", \"w\")\n",
        "n = text_file.write(GME_sample)\n",
        "text_file.close()\n",
        "\n",
        "#in excel these sentences will be manual classified by our \n",
        "#team since they contain highly niche language "
      ],
      "execution_count": null,
      "outputs": []
    },
    {
      "cell_type": "markdown",
      "metadata": {
        "id": "Aalt85F9ujQ-"
      },
      "source": [
        "# Polarity Viz"
      ]
    },
    {
      "cell_type": "code",
      "metadata": {
        "colab": {
          "base_uri": "https://localhost:8080/",
          "height": 265
        },
        "id": "COBK9F8ze5fn",
        "outputId": "f732096e-572d-4270-8425-287cf5f9f1c2"
      },
      "source": [
        "#x and X for scatter plot\n",
        "y = df_GME['NBC_polarity']\n",
        "x = df_GME['date']\n",
        "\n",
        "# Scatter plot NaiveBayesClassifier polarity scores over time (with custom terms)\n",
        "#plt.figure(figsize=(12, 8))\n",
        "plt.scatter(x, y)\n",
        "plt.show()"
      ],
      "execution_count": null,
      "outputs": [
        {
          "output_type": "display_data",
          "data": {
            "image/png": "[encoded data removed]",
            "text/plain": [
              "<Figure size 432x288 with 1 Axes>"
            ]
          },
          "metadata": {
            "tags": [],
            "needs_background": "light"
          }
        }
      ]
    },
    {
      "cell_type": "markdown",
      "metadata": {
        "id": "0YNgsmhxWt2U"
      },
      "source": [
        "Better! this scatter plot follow the stcok price pretty well."
      ]
    },
    {
      "cell_type": "code",
      "metadata": {
        "colab": {
          "base_uri": "https://localhost:8080/",
          "height": 296
        },
        "id": "aEJ1_FvSF86z",
        "outputId": "6349a03f-9da5-49a9-e81f-359576596de7"
      },
      "source": [
        "#mean of polarity scores each day \n",
        "fig, axs = plt.subplots(figsize=(12, 4))\n",
        "df_GME.groupby(df_GME['timestamp'].dt.day)['NBC_polarity'].mean().plot(\n",
        "  kind='bar', rot=0, ax=axs),\n",
        "plt.xlabel(\"Day\"),\n",
        "plt.ylabel(\"mean polarity of posts\")\n"
      ],
      "execution_count": null,
      "outputs": [
        {
          "output_type": "execute_result",
          "data": {
            "text/plain": [
              "Text(0, 0.5, 'mean polarity of posts')"
            ]
          },
          "metadata": {
            "tags": []
          },
          "execution_count": 141
        },
        {
          "output_type": "display_data",
          "data": {
            "image/png": "[encoded data removed]",
            "text/plain": [
              "<Figure size 864x288 with 1 Axes>"
            ]
          },
          "metadata": {
            "tags": [],
            "needs_background": "light"
          }
        }
      ]
    },
    {
      "cell_type": "markdown",
      "metadata": {
        "id": "8JvhQ2m_mYgL"
      },
      "source": [
        "### Polarity with custom classifier\n",
        "\n",
        "Importing manually classified sentences and using as polarity classifier"
      ]
    },
    {
      "cell_type": "code",
      "metadata": {
        "id": "G-Gyqj8RVfvj"
      },
      "source": [
        "#url = 'https://raw.githubusercontent.com/joannarashid/early_memestock_detect/b8e361f8612abb6c3075a75e49c995e492c57966/GME_post_train.csv'"
      ],
      "execution_count": null,
      "outputs": []
    },
    {
      "cell_type": "code",
      "metadata": {
        "id": "5lQsHxD5txO-"
      },
      "source": [
        "#import csv of manually rated posts as training set\n",
        "with open('GME_post_train.csv', 'r') as fp:\n",
        "  cl = NaiveBayesClassifier(fp, format=\"csv\")"
      ],
      "execution_count": null,
      "outputs": []
    },
    {
      "cell_type": "code",
      "metadata": {
        "id": "_lo9bYc8O7e3"
      },
      "source": [
        "#gets the polarity scrore\n",
        "def NBC_pol(text):\n",
        "  x = cl.prob_classify(text)\n",
        "  return round(x.prob(\"pos\"), 2)"
      ],
      "execution_count": null,
      "outputs": []
    },
    {
      "cell_type": "code",
      "metadata": {
        "id": "K0CSWqBqUf4b",
        "colab": {
          "base_uri": "https://localhost:8080/"
        },
        "outputId": "0615d7be-f510-451b-e467-a36a9d88b6f3"
      },
      "source": [
        "# new column for NaiveBayesClassifier polarity score of each post\n",
        "df_GME['NBC_polarity'] = df_GME['post'].apply(NBC_pol)"
      ],
      "execution_count": null,
      "outputs": [
        {
          "output_type": "stream",
          "text": [
            "/usr/local/lib/python3.7/dist-packages/ipykernel_launcher.py:2: SettingWithCopyWarning: \n",
            "A value is trying to be set on a copy of a slice from a DataFrame.\n",
            "Try using .loc[row_indexer,col_indexer] = value instead\n",
            "\n",
            "See the caveats in the documentation: https://pandas.pydata.org/pandas-docs/stable/user_guide/indexing.html#returning-a-view-versus-a-copy\n",
            "  \n"
          ],
          "name": "stderr"
        }
      ]
    },
    {
      "cell_type": "code",
      "metadata": {
        "colab": {
          "base_uri": "https://localhost:8080/"
        },
        "id": "7zvJVNMaJw-w",
        "outputId": "3b87ddca-f9ab-403a-cadd-26a1609c8af4"
      },
      "source": [
        "#determine date of earliest post containing mention of GME\n",
        "print(\"Earliest Post:\", df_GME['date'].min())\n",
        "print(\"Latest Post:\", df_GME['date'].max())"
      ],
      "execution_count": null,
      "outputs": [
        {
          "output_type": "error",
          "ename": "KeyError",
          "evalue": "ignored",
          "traceback": [
            "\u001b[0;31m---------------------------------------------------------------------------\u001b[0m",
            "\u001b[0;31mKeyError\u001b[0m                                  Traceback (most recent call last)",
            "\u001b[0;32m/usr/local/lib/python3.7/dist-packages/pandas/core/indexes/base.py\u001b[0m in \u001b[0;36mget_loc\u001b[0;34m(self, key, method, tolerance)\u001b[0m\n\u001b[1;32m   2897\u001b[0m             \u001b[0;32mtry\u001b[0m\u001b[0;34m:\u001b[0m\u001b[0;34m\u001b[0m\u001b[0;34m\u001b[0m\u001b[0m\n\u001b[0;32m-> 2898\u001b[0;31m                 \u001b[0;32mreturn\u001b[0m \u001b[0mself\u001b[0m\u001b[0;34m.\u001b[0m\u001b[0m_engine\u001b[0m\u001b[0;34m.\u001b[0m\u001b[0mget_loc\u001b[0m\u001b[0;34m(\u001b[0m\u001b[0mcasted_key\u001b[0m\u001b[0;34m)\u001b[0m\u001b[0;34m\u001b[0m\u001b[0;34m\u001b[0m\u001b[0m\n\u001b[0m\u001b[1;32m   2899\u001b[0m             \u001b[0;32mexcept\u001b[0m \u001b[0mKeyError\u001b[0m \u001b[0;32mas\u001b[0m \u001b[0merr\u001b[0m\u001b[0;34m:\u001b[0m\u001b[0;34m\u001b[0m\u001b[0;34m\u001b[0m\u001b[0m\n",
            "\u001b[0;32mpandas/_libs/index.pyx\u001b[0m in \u001b[0;36mpandas._libs.index.IndexEngine.get_loc\u001b[0;34m()\u001b[0m\n",
            "\u001b[0;32mpandas/_libs/index.pyx\u001b[0m in \u001b[0;36mpandas._libs.index.IndexEngine.get_loc\u001b[0;34m()\u001b[0m\n",
            "\u001b[0;32mpandas/_libs/hashtable_class_helper.pxi\u001b[0m in \u001b[0;36mpandas._libs.hashtable.PyObjectHashTable.get_item\u001b[0;34m()\u001b[0m\n",
            "\u001b[0;32mpandas/_libs/hashtable_class_helper.pxi\u001b[0m in \u001b[0;36mpandas._libs.hashtable.PyObjectHashTable.get_item\u001b[0;34m()\u001b[0m\n",
            "\u001b[0;31mKeyError\u001b[0m: 'date'",
            "\nThe above exception was the direct cause of the following exception:\n",
            "\u001b[0;31mKeyError\u001b[0m                                  Traceback (most recent call last)",
            "\u001b[0;32m<ipython-input-24-84092f891e8b>\u001b[0m in \u001b[0;36m<module>\u001b[0;34m()\u001b[0m\n\u001b[1;32m      1\u001b[0m \u001b[0;31m#determine date of earliest post containing mention of GME\u001b[0m\u001b[0;34m\u001b[0m\u001b[0;34m\u001b[0m\u001b[0;34m\u001b[0m\u001b[0m\n\u001b[0;32m----> 2\u001b[0;31m \u001b[0mprint\u001b[0m\u001b[0;34m(\u001b[0m\u001b[0;34m\"Earliest Post:\"\u001b[0m\u001b[0;34m,\u001b[0m \u001b[0mdf_GME\u001b[0m\u001b[0;34m[\u001b[0m\u001b[0;34m'date'\u001b[0m\u001b[0;34m]\u001b[0m\u001b[0;34m.\u001b[0m\u001b[0mmin\u001b[0m\u001b[0;34m(\u001b[0m\u001b[0;34m)\u001b[0m\u001b[0;34m)\u001b[0m\u001b[0;34m\u001b[0m\u001b[0;34m\u001b[0m\u001b[0m\n\u001b[0m\u001b[1;32m      3\u001b[0m \u001b[0mprint\u001b[0m\u001b[0;34m(\u001b[0m\u001b[0;34m\"Latest Post:\"\u001b[0m\u001b[0;34m,\u001b[0m \u001b[0mdf_GME\u001b[0m\u001b[0;34m[\u001b[0m\u001b[0;34m'date'\u001b[0m\u001b[0;34m]\u001b[0m\u001b[0;34m.\u001b[0m\u001b[0mmax\u001b[0m\u001b[0;34m(\u001b[0m\u001b[0;34m)\u001b[0m\u001b[0;34m)\u001b[0m\u001b[0;34m\u001b[0m\u001b[0;34m\u001b[0m\u001b[0m\n",
            "\u001b[0;32m/usr/local/lib/python3.7/dist-packages/pandas/core/frame.py\u001b[0m in \u001b[0;36m__getitem__\u001b[0;34m(self, key)\u001b[0m\n\u001b[1;32m   2904\u001b[0m             \u001b[0;32mif\u001b[0m \u001b[0mself\u001b[0m\u001b[0;34m.\u001b[0m\u001b[0mcolumns\u001b[0m\u001b[0;34m.\u001b[0m\u001b[0mnlevels\u001b[0m \u001b[0;34m>\u001b[0m \u001b[0;36m1\u001b[0m\u001b[0;34m:\u001b[0m\u001b[0;34m\u001b[0m\u001b[0;34m\u001b[0m\u001b[0m\n\u001b[1;32m   2905\u001b[0m                 \u001b[0;32mreturn\u001b[0m \u001b[0mself\u001b[0m\u001b[0;34m.\u001b[0m\u001b[0m_getitem_multilevel\u001b[0m\u001b[0;34m(\u001b[0m\u001b[0mkey\u001b[0m\u001b[0;34m)\u001b[0m\u001b[0;34m\u001b[0m\u001b[0;34m\u001b[0m\u001b[0m\n\u001b[0;32m-> 2906\u001b[0;31m             \u001b[0mindexer\u001b[0m \u001b[0;34m=\u001b[0m \u001b[0mself\u001b[0m\u001b[0;34m.\u001b[0m\u001b[0mcolumns\u001b[0m\u001b[0;34m.\u001b[0m\u001b[0mget_loc\u001b[0m\u001b[0;34m(\u001b[0m\u001b[0mkey\u001b[0m\u001b[0;34m)\u001b[0m\u001b[0;34m\u001b[0m\u001b[0;34m\u001b[0m\u001b[0m\n\u001b[0m\u001b[1;32m   2907\u001b[0m             \u001b[0;32mif\u001b[0m \u001b[0mis_integer\u001b[0m\u001b[0;34m(\u001b[0m\u001b[0mindexer\u001b[0m\u001b[0;34m)\u001b[0m\u001b[0;34m:\u001b[0m\u001b[0;34m\u001b[0m\u001b[0;34m\u001b[0m\u001b[0m\n\u001b[1;32m   2908\u001b[0m                 \u001b[0mindexer\u001b[0m \u001b[0;34m=\u001b[0m \u001b[0;34m[\u001b[0m\u001b[0mindexer\u001b[0m\u001b[0;34m]\u001b[0m\u001b[0;34m\u001b[0m\u001b[0;34m\u001b[0m\u001b[0m\n",
            "\u001b[0;32m/usr/local/lib/python3.7/dist-packages/pandas/core/indexes/base.py\u001b[0m in \u001b[0;36mget_loc\u001b[0;34m(self, key, method, tolerance)\u001b[0m\n\u001b[1;32m   2898\u001b[0m                 \u001b[0;32mreturn\u001b[0m \u001b[0mself\u001b[0m\u001b[0;34m.\u001b[0m\u001b[0m_engine\u001b[0m\u001b[0;34m.\u001b[0m\u001b[0mget_loc\u001b[0m\u001b[0;34m(\u001b[0m\u001b[0mcasted_key\u001b[0m\u001b[0;34m)\u001b[0m\u001b[0;34m\u001b[0m\u001b[0;34m\u001b[0m\u001b[0m\n\u001b[1;32m   2899\u001b[0m             \u001b[0;32mexcept\u001b[0m \u001b[0mKeyError\u001b[0m \u001b[0;32mas\u001b[0m \u001b[0merr\u001b[0m\u001b[0;34m:\u001b[0m\u001b[0;34m\u001b[0m\u001b[0;34m\u001b[0m\u001b[0m\n\u001b[0;32m-> 2900\u001b[0;31m                 \u001b[0;32mraise\u001b[0m \u001b[0mKeyError\u001b[0m\u001b[0;34m(\u001b[0m\u001b[0mkey\u001b[0m\u001b[0;34m)\u001b[0m \u001b[0;32mfrom\u001b[0m \u001b[0merr\u001b[0m\u001b[0;34m\u001b[0m\u001b[0;34m\u001b[0m\u001b[0m\n\u001b[0m\u001b[1;32m   2901\u001b[0m \u001b[0;34m\u001b[0m\u001b[0m\n\u001b[1;32m   2902\u001b[0m         \u001b[0;32mif\u001b[0m \u001b[0mtolerance\u001b[0m \u001b[0;32mis\u001b[0m \u001b[0;32mnot\u001b[0m \u001b[0;32mNone\u001b[0m\u001b[0;34m:\u001b[0m\u001b[0;34m\u001b[0m\u001b[0;34m\u001b[0m\u001b[0m\n",
            "\u001b[0;31mKeyError\u001b[0m: 'date'"
          ]
        }
      ]
    },
    {
      "cell_type": "markdown",
      "metadata": {
        "id": "75U2aOabuqv0"
      },
      "source": [
        "# GME Stock Price Data"
      ]
    },
    {
      "cell_type": "code",
      "metadata": {
        "id": "Y-D7cjDt5fnB"
      },
      "source": [
        "#Game stop stock data 2020-04-02 through 2021-01-29\n",
        "#data is hosted on github for ease of use of this notebook by multiple users\n",
        "url = 'https://raw.githubusercontent.com/joannarashid/early_memestock_detect/main/GME.csv'\n",
        "\n",
        "df_gme_price = pd.read_csv(url, sep = ',')"
      ],
      "execution_count": null,
      "outputs": []
    },
    {
      "cell_type": "code",
      "metadata": {
        "id": "TggR47CAVVq4",
        "colab": {
          "base_uri": "https://localhost:8080/"
        },
        "outputId": "1f4812d2-d29c-4338-dd21-32428d0d4f19"
      },
      "source": [
        "df_gme_price.head()"
      ],
      "execution_count": null,
      "outputs": [
        {
          "output_type": "execute_result",
          "data": {
            "text/html": [
              "<div>\n",
              "<style scoped>\n",
              "    .dataframe tbody tr th:only-of-type {\n",
              "        vertical-align: middle;\n",
              "    }\n",
              "\n",
              "    .dataframe tbody tr th {\n",
              "        vertical-align: top;\n",
              "    }\n",
              "\n",
              "    .dataframe thead th {\n",
              "        text-align: right;\n",
              "    }\n",
              "</style>\n",
              "<table border=\"1\" class=\"dataframe\">\n",
              "  <thead>\n",
              "    <tr style=\"text-align: right;\">\n",
              "      <th></th>\n",
              "      <th>Date</th>\n",
              "      <th>Open</th>\n",
              "      <th>High</th>\n",
              "      <th>Low</th>\n",
              "      <th>Close</th>\n",
              "      <th>Adj Close</th>\n",
              "      <th>Volume</th>\n",
              "    </tr>\n",
              "  </thead>\n",
              "  <tbody>\n",
              "    <tr>\n",
              "      <th>0</th>\n",
              "      <td>2020-04-02</td>\n",
              "      <td>3.26</td>\n",
              "      <td>3.35</td>\n",
              "      <td>2.85</td>\n",
              "      <td>2.85</td>\n",
              "      <td>2.85</td>\n",
              "      <td>4064300</td>\n",
              "    </tr>\n",
              "    <tr>\n",
              "      <th>1</th>\n",
              "      <td>2020-04-03</td>\n",
              "      <td>2.85</td>\n",
              "      <td>2.94</td>\n",
              "      <td>2.57</td>\n",
              "      <td>2.80</td>\n",
              "      <td>2.80</td>\n",
              "      <td>3830400</td>\n",
              "    </tr>\n",
              "    <tr>\n",
              "      <th>2</th>\n",
              "      <td>2020-04-06</td>\n",
              "      <td>2.86</td>\n",
              "      <td>3.20</td>\n",
              "      <td>2.83</td>\n",
              "      <td>3.09</td>\n",
              "      <td>3.09</td>\n",
              "      <td>3340500</td>\n",
              "    </tr>\n",
              "    <tr>\n",
              "      <th>3</th>\n",
              "      <td>2020-04-07</td>\n",
              "      <td>3.39</td>\n",
              "      <td>3.44</td>\n",
              "      <td>3.10</td>\n",
              "      <td>3.27</td>\n",
              "      <td>3.27</td>\n",
              "      <td>2836900</td>\n",
              "    </tr>\n",
              "    <tr>\n",
              "      <th>4</th>\n",
              "      <td>2020-04-08</td>\n",
              "      <td>3.23</td>\n",
              "      <td>3.67</td>\n",
              "      <td>3.20</td>\n",
              "      <td>3.41</td>\n",
              "      <td>3.41</td>\n",
              "      <td>2884500</td>\n",
              "    </tr>\n",
              "  </tbody>\n",
              "</table>\n",
              "</div>"
            ],
            "text/plain": [
              "         Date  Open  High   Low  Close  Adj Close   Volume\n",
              "0  2020-04-02  3.26  3.35  2.85   2.85       2.85  4064300\n",
              "1  2020-04-03  2.85  2.94  2.57   2.80       2.80  3830400\n",
              "2  2020-04-06  2.86  3.20  2.83   3.09       3.09  3340500\n",
              "3  2020-04-07  3.39  3.44  3.10   3.27       3.27  2836900\n",
              "4  2020-04-08  3.23  3.67  3.20   3.41       3.41  2884500"
            ]
          },
          "metadata": {
            "tags": []
          },
          "execution_count": 26
        }
      ]
    },
    {
      "cell_type": "code",
      "metadata": {
        "colab": {
          "base_uri": "https://localhost:8080/"
        },
        "id": "2CWs5ShQ7dg4",
        "outputId": "5bec2939-ce8a-4f37-d16d-340aea2b331a"
      },
      "source": [
        "df_gme_price.info()"
      ],
      "execution_count": null,
      "outputs": [
        {
          "output_type": "stream",
          "text": [
            "<class 'pandas.core.frame.DataFrame'>\n",
            "RangeIndex: 208 entries, 0 to 207\n",
            "Data columns (total 7 columns):\n",
            " #   Column     Non-Null Count  Dtype  \n",
            "---  ------     --------------  -----  \n",
            " 0   Date       208 non-null    object \n",
            " 1   Open       208 non-null    float64\n",
            " 2   High       208 non-null    float64\n",
            " 3   Low        208 non-null    float64\n",
            " 4   Close      208 non-null    float64\n",
            " 5   Adj Close  208 non-null    float64\n",
            " 6   Volume     208 non-null    int64  \n",
            "dtypes: float64(5), int64(1), object(1)\n",
            "memory usage: 11.5+ KB\n"
          ],
          "name": "stdout"
        }
      ]
    },
    {
      "cell_type": "code",
      "metadata": {
        "id": "ACfvULqsLK-x",
        "colab": {
          "base_uri": "https://localhost:8080/",
          "height": 483
        },
        "outputId": "71dde24c-bdfe-465c-e586-f814e819df84"
      },
      "source": [
        "#x and X for scatter plot\n",
        "y = df_gme_price['High']\n",
        "x = df_gme_price['Date']\n",
        "\n",
        "# Scatter plot stock close price over time\n",
        "plt.figure(figsize=(12, 8))\n",
        "plt.plot(x, y)\n",
        "plt.show()"
      ],
      "execution_count": null,
      "outputs": [
        {
          "output_type": "display_data",
          "data": {
            "image/png": "[encoded data removed]",
            "text/plain": [
              "<Figure size 864x576 with 1 Axes>"
            ]
          },
          "metadata": {
            "tags": [],
            "needs_background": "light"
          }
        }
      ]
    },
    {
      "cell_type": "code",
      "metadata": {
        "id": "ClmBEL52b3Bl"
      },
      "source": [
        ""
      ],
      "execution_count": null,
      "outputs": []
    },
    {
      "cell_type": "markdown",
      "metadata": {
        "id": "Egdlc4NJO0OA"
      },
      "source": [
        "# Predictive Modeling\n",
        "\n",
        "Neural Network recomended by Professor:\n",
        "https://scikit-learn.org/stable/modules/neural_networks_supervised.html \n",
        "(see 1.17.2. Classification and 1.17.3. Regression)"
      ]
    },
    {
      "cell_type": "markdown",
      "metadata": {
        "id": "In8RZUK-Eabs"
      },
      "source": [
        "### Data cleaning for modeling"
      ]
    },
    {
      "cell_type": "code",
      "metadata": {
        "id": "l306F9kwUVRo"
      },
      "source": [
        "import datetime"
      ],
      "execution_count": null,
      "outputs": []
    },
    {
      "cell_type": "code",
      "metadata": {
        "colab": {
          "base_uri": "https://localhost:8080/",
          "height": 375
        },
        "id": "eXItW_FaUikz",
        "outputId": "e90dd1d9-ce10-49c5-92db-870074fccc36"
      },
      "source": [
        "# checking shape of both df's\n",
        "df_pol_score = df_GME[['date', 'TB_polarity','score', 'num_comments', 'subjectivity', 'NBC_polarity']].copy()\n",
        "df_gme_price = df_gme_price[['Date', 'Close']].copy()\n",
        "print(df_pol_score.shape)\n",
        "print(df_gme_price.shape)"
      ],
      "execution_count": null,
      "outputs": [
        {
          "output_type": "error",
          "ename": "KeyError",
          "evalue": "ignored",
          "traceback": [
            "\u001b[0;31m---------------------------------------------------------------------------\u001b[0m",
            "\u001b[0;31mKeyError\u001b[0m                                  Traceback (most recent call last)",
            "\u001b[0;32m<ipython-input-29-a83cd7122d4b>\u001b[0m in \u001b[0;36m<module>\u001b[0;34m()\u001b[0m\n\u001b[1;32m      1\u001b[0m \u001b[0;31m# checking shape of both df's\u001b[0m\u001b[0;34m\u001b[0m\u001b[0;34m\u001b[0m\u001b[0;34m\u001b[0m\u001b[0m\n\u001b[0;32m----> 2\u001b[0;31m \u001b[0mdf_pol_score\u001b[0m \u001b[0;34m=\u001b[0m \u001b[0mdf_GME\u001b[0m\u001b[0;34m[\u001b[0m\u001b[0;34m[\u001b[0m\u001b[0;34m'date'\u001b[0m\u001b[0;34m,\u001b[0m \u001b[0;34m'TB_polarity'\u001b[0m\u001b[0;34m,\u001b[0m\u001b[0;34m'score'\u001b[0m\u001b[0;34m,\u001b[0m \u001b[0;34m'num_comments'\u001b[0m\u001b[0;34m,\u001b[0m \u001b[0;34m'subjectivity'\u001b[0m\u001b[0;34m,\u001b[0m \u001b[0;34m'NBC_polarity'\u001b[0m\u001b[0;34m]\u001b[0m\u001b[0;34m]\u001b[0m\u001b[0;34m.\u001b[0m\u001b[0mcopy\u001b[0m\u001b[0;34m(\u001b[0m\u001b[0;34m)\u001b[0m\u001b[0;34m\u001b[0m\u001b[0;34m\u001b[0m\u001b[0m\n\u001b[0m\u001b[1;32m      3\u001b[0m \u001b[0mdf_gme_price\u001b[0m \u001b[0;34m=\u001b[0m \u001b[0mdf_gme_price\u001b[0m\u001b[0;34m[\u001b[0m\u001b[0;34m[\u001b[0m\u001b[0;34m'Date'\u001b[0m\u001b[0;34m,\u001b[0m \u001b[0;34m'Close'\u001b[0m\u001b[0;34m]\u001b[0m\u001b[0;34m]\u001b[0m\u001b[0;34m.\u001b[0m\u001b[0mcopy\u001b[0m\u001b[0;34m(\u001b[0m\u001b[0;34m)\u001b[0m\u001b[0;34m\u001b[0m\u001b[0;34m\u001b[0m\u001b[0m\n\u001b[1;32m      4\u001b[0m \u001b[0mprint\u001b[0m\u001b[0;34m(\u001b[0m\u001b[0mdf_pol_score\u001b[0m\u001b[0;34m.\u001b[0m\u001b[0mshape\u001b[0m\u001b[0;34m)\u001b[0m\u001b[0;34m\u001b[0m\u001b[0;34m\u001b[0m\u001b[0m\n\u001b[1;32m      5\u001b[0m \u001b[0mprint\u001b[0m\u001b[0;34m(\u001b[0m\u001b[0mdf_gme_price\u001b[0m\u001b[0;34m.\u001b[0m\u001b[0mshape\u001b[0m\u001b[0;34m)\u001b[0m\u001b[0;34m\u001b[0m\u001b[0;34m\u001b[0m\u001b[0m\n",
            "\u001b[0;32m/usr/local/lib/python3.7/dist-packages/pandas/core/frame.py\u001b[0m in \u001b[0;36m__getitem__\u001b[0;34m(self, key)\u001b[0m\n\u001b[1;32m   2910\u001b[0m             \u001b[0;32mif\u001b[0m \u001b[0mis_iterator\u001b[0m\u001b[0;34m(\u001b[0m\u001b[0mkey\u001b[0m\u001b[0;34m)\u001b[0m\u001b[0;34m:\u001b[0m\u001b[0;34m\u001b[0m\u001b[0;34m\u001b[0m\u001b[0m\n\u001b[1;32m   2911\u001b[0m                 \u001b[0mkey\u001b[0m \u001b[0;34m=\u001b[0m \u001b[0mlist\u001b[0m\u001b[0;34m(\u001b[0m\u001b[0mkey\u001b[0m\u001b[0;34m)\u001b[0m\u001b[0;34m\u001b[0m\u001b[0;34m\u001b[0m\u001b[0m\n\u001b[0;32m-> 2912\u001b[0;31m             \u001b[0mindexer\u001b[0m \u001b[0;34m=\u001b[0m \u001b[0mself\u001b[0m\u001b[0;34m.\u001b[0m\u001b[0mloc\u001b[0m\u001b[0;34m.\u001b[0m\u001b[0m_get_listlike_indexer\u001b[0m\u001b[0;34m(\u001b[0m\u001b[0mkey\u001b[0m\u001b[0;34m,\u001b[0m \u001b[0maxis\u001b[0m\u001b[0;34m=\u001b[0m\u001b[0;36m1\u001b[0m\u001b[0;34m,\u001b[0m \u001b[0mraise_missing\u001b[0m\u001b[0;34m=\u001b[0m\u001b[0;32mTrue\u001b[0m\u001b[0;34m)\u001b[0m\u001b[0;34m[\u001b[0m\u001b[0;36m1\u001b[0m\u001b[0;34m]\u001b[0m\u001b[0;34m\u001b[0m\u001b[0;34m\u001b[0m\u001b[0m\n\u001b[0m\u001b[1;32m   2913\u001b[0m \u001b[0;34m\u001b[0m\u001b[0m\n\u001b[1;32m   2914\u001b[0m         \u001b[0;31m# take() does not accept boolean indexers\u001b[0m\u001b[0;34m\u001b[0m\u001b[0;34m\u001b[0m\u001b[0;34m\u001b[0m\u001b[0m\n",
            "\u001b[0;32m/usr/local/lib/python3.7/dist-packages/pandas/core/indexing.py\u001b[0m in \u001b[0;36m_get_listlike_indexer\u001b[0;34m(self, key, axis, raise_missing)\u001b[0m\n\u001b[1;32m   1252\u001b[0m             \u001b[0mkeyarr\u001b[0m\u001b[0;34m,\u001b[0m \u001b[0mindexer\u001b[0m\u001b[0;34m,\u001b[0m \u001b[0mnew_indexer\u001b[0m \u001b[0;34m=\u001b[0m \u001b[0max\u001b[0m\u001b[0;34m.\u001b[0m\u001b[0m_reindex_non_unique\u001b[0m\u001b[0;34m(\u001b[0m\u001b[0mkeyarr\u001b[0m\u001b[0;34m)\u001b[0m\u001b[0;34m\u001b[0m\u001b[0;34m\u001b[0m\u001b[0m\n\u001b[1;32m   1253\u001b[0m \u001b[0;34m\u001b[0m\u001b[0m\n\u001b[0;32m-> 1254\u001b[0;31m         \u001b[0mself\u001b[0m\u001b[0;34m.\u001b[0m\u001b[0m_validate_read_indexer\u001b[0m\u001b[0;34m(\u001b[0m\u001b[0mkeyarr\u001b[0m\u001b[0;34m,\u001b[0m \u001b[0mindexer\u001b[0m\u001b[0;34m,\u001b[0m \u001b[0maxis\u001b[0m\u001b[0;34m,\u001b[0m \u001b[0mraise_missing\u001b[0m\u001b[0;34m=\u001b[0m\u001b[0mraise_missing\u001b[0m\u001b[0;34m)\u001b[0m\u001b[0;34m\u001b[0m\u001b[0;34m\u001b[0m\u001b[0m\n\u001b[0m\u001b[1;32m   1255\u001b[0m         \u001b[0;32mreturn\u001b[0m \u001b[0mkeyarr\u001b[0m\u001b[0;34m,\u001b[0m \u001b[0mindexer\u001b[0m\u001b[0;34m\u001b[0m\u001b[0;34m\u001b[0m\u001b[0m\n\u001b[1;32m   1256\u001b[0m \u001b[0;34m\u001b[0m\u001b[0m\n",
            "\u001b[0;32m/usr/local/lib/python3.7/dist-packages/pandas/core/indexing.py\u001b[0m in \u001b[0;36m_validate_read_indexer\u001b[0;34m(self, key, indexer, axis, raise_missing)\u001b[0m\n\u001b[1;32m   1302\u001b[0m             \u001b[0;32mif\u001b[0m \u001b[0mraise_missing\u001b[0m\u001b[0;34m:\u001b[0m\u001b[0;34m\u001b[0m\u001b[0;34m\u001b[0m\u001b[0m\n\u001b[1;32m   1303\u001b[0m                 \u001b[0mnot_found\u001b[0m \u001b[0;34m=\u001b[0m \u001b[0mlist\u001b[0m\u001b[0;34m(\u001b[0m\u001b[0mset\u001b[0m\u001b[0;34m(\u001b[0m\u001b[0mkey\u001b[0m\u001b[0;34m)\u001b[0m \u001b[0;34m-\u001b[0m \u001b[0mset\u001b[0m\u001b[0;34m(\u001b[0m\u001b[0max\u001b[0m\u001b[0;34m)\u001b[0m\u001b[0;34m)\u001b[0m\u001b[0;34m\u001b[0m\u001b[0;34m\u001b[0m\u001b[0m\n\u001b[0;32m-> 1304\u001b[0;31m                 \u001b[0;32mraise\u001b[0m \u001b[0mKeyError\u001b[0m\u001b[0;34m(\u001b[0m\u001b[0;34mf\"{not_found} not in index\"\u001b[0m\u001b[0;34m)\u001b[0m\u001b[0;34m\u001b[0m\u001b[0;34m\u001b[0m\u001b[0m\n\u001b[0m\u001b[1;32m   1305\u001b[0m \u001b[0;34m\u001b[0m\u001b[0m\n\u001b[1;32m   1306\u001b[0m             \u001b[0;31m# we skip the warning on Categorical\u001b[0m\u001b[0;34m\u001b[0m\u001b[0;34m\u001b[0m\u001b[0;34m\u001b[0m\u001b[0m\n",
            "\u001b[0;31mKeyError\u001b[0m: \"['date'] not in index\""
          ]
        }
      ]
    },
    {
      "cell_type": "code",
      "metadata": {
        "id": "0poHaYmQU16l"
      },
      "source": [
        "# converting date to datetime\n",
        "df_pol_score['date'] = pd.to_datetime(df_pol_score['date'])\n",
        "df_gme_price['Date'] = pd.to_datetime(df_gme_price['Date'])"
      ],
      "execution_count": null,
      "outputs": []
    },
    {
      "cell_type": "code",
      "metadata": {
        "colab": {
          "base_uri": "https://localhost:8080/"
        },
        "id": "4692mZ9UU-pC",
        "outputId": "8cfd303f-eef5-4508-edaa-b8c53705a7e0"
      },
      "source": [
        "# checking the range of both df's\n",
        "print(df_pol_score['date'].min())\n",
        "print(df_pol_score['date'].max())\n",
        "print('')\n",
        "print(df_gme_price['Date'].min())\n",
        "print(df_gme_price['Date'].max())"
      ],
      "execution_count": null,
      "outputs": [
        {
          "output_type": "stream",
          "text": [
            "2020-04-02 00:00:00\n",
            "2021-01-29 00:00:00\n",
            "\n",
            "2020-04-02 00:00:00\n",
            "2021-01-28 00:00:00\n"
          ],
          "name": "stdout"
        }
      ]
    },
    {
      "cell_type": "code",
      "metadata": {
        "colab": {
          "base_uri": "https://localhost:8080/",
          "height": 204
        },
        "id": "0jNQPrdkVGPx",
        "outputId": "468ad761-2bac-4eab-e310-80717f4c73a0"
      },
      "source": [
        "# combining both df's\n",
        "df_clean = df_pol_score.merge(df_gme_price, how = 'left', left_on='date', right_on='Date') # Included \"how ='left'\" for merging on pol_score for each post rather than unique dates\n",
        "df_clean.head()"
      ],
      "execution_count": null,
      "outputs": [
        {
          "output_type": "execute_result",
          "data": {
            "text/html": [
              "<div>\n",
              "<style scoped>\n",
              "    .dataframe tbody tr th:only-of-type {\n",
              "        vertical-align: middle;\n",
              "    }\n",
              "\n",
              "    .dataframe tbody tr th {\n",
              "        vertical-align: top;\n",
              "    }\n",
              "\n",
              "    .dataframe thead th {\n",
              "        text-align: right;\n",
              "    }\n",
              "</style>\n",
              "<table border=\"1\" class=\"dataframe\">\n",
              "  <thead>\n",
              "    <tr style=\"text-align: right;\">\n",
              "      <th></th>\n",
              "      <th>date</th>\n",
              "      <th>TB_polarity</th>\n",
              "      <th>score</th>\n",
              "      <th>num_comments</th>\n",
              "      <th>subjectivity</th>\n",
              "      <th>NBC_polarity</th>\n",
              "      <th>Date</th>\n",
              "      <th>Close</th>\n",
              "    </tr>\n",
              "  </thead>\n",
              "  <tbody>\n",
              "    <tr>\n",
              "      <th>0</th>\n",
              "      <td>2021-01-29</td>\n",
              "      <td>0.000000</td>\n",
              "      <td>230844</td>\n",
              "      <td>23532</td>\n",
              "      <td>0.000000</td>\n",
              "      <td>1.00</td>\n",
              "      <td>NaT</td>\n",
              "      <td>NaN</td>\n",
              "    </tr>\n",
              "    <tr>\n",
              "      <th>1</th>\n",
              "      <td>2021-01-29</td>\n",
              "      <td>0.072596</td>\n",
              "      <td>204920</td>\n",
              "      <td>18318</td>\n",
              "      <td>0.432372</td>\n",
              "      <td>0.97</td>\n",
              "      <td>NaT</td>\n",
              "      <td>NaN</td>\n",
              "    </tr>\n",
              "    <tr>\n",
              "      <th>2</th>\n",
              "      <td>2021-01-28</td>\n",
              "      <td>0.000000</td>\n",
              "      <td>185949</td>\n",
              "      <td>15495</td>\n",
              "      <td>0.000000</td>\n",
              "      <td>1.00</td>\n",
              "      <td>2021-01-28</td>\n",
              "      <td>193.600006</td>\n",
              "    </tr>\n",
              "    <tr>\n",
              "      <th>3</th>\n",
              "      <td>2021-01-29</td>\n",
              "      <td>0.104167</td>\n",
              "      <td>157980</td>\n",
              "      <td>23210</td>\n",
              "      <td>0.300000</td>\n",
              "      <td>1.00</td>\n",
              "      <td>NaT</td>\n",
              "      <td>NaN</td>\n",
              "    </tr>\n",
              "    <tr>\n",
              "      <th>4</th>\n",
              "      <td>2021-01-28</td>\n",
              "      <td>0.055682</td>\n",
              "      <td>138569</td>\n",
              "      <td>7802</td>\n",
              "      <td>0.526964</td>\n",
              "      <td>0.00</td>\n",
              "      <td>2021-01-28</td>\n",
              "      <td>193.600006</td>\n",
              "    </tr>\n",
              "  </tbody>\n",
              "</table>\n",
              "</div>"
            ],
            "text/plain": [
              "        date  TB_polarity   score  ...  NBC_polarity       Date       Close\n",
              "0 2021-01-29     0.000000  230844  ...          1.00        NaT         NaN\n",
              "1 2021-01-29     0.072596  204920  ...          0.97        NaT         NaN\n",
              "2 2021-01-28     0.000000  185949  ...          1.00 2021-01-28  193.600006\n",
              "3 2021-01-29     0.104167  157980  ...          1.00        NaT         NaN\n",
              "4 2021-01-28     0.055682  138569  ...          0.00 2021-01-28  193.600006\n",
              "\n",
              "[5 rows x 8 columns]"
            ]
          },
          "metadata": {
            "tags": []
          },
          "execution_count": 33
        }
      ]
    },
    {
      "cell_type": "code",
      "metadata": {
        "id": "Sxl9i1OAHqwe"
      },
      "source": [
        "df_clean.drop('Date', axis=1, inplace=True)"
      ],
      "execution_count": null,
      "outputs": []
    },
    {
      "cell_type": "code",
      "metadata": {
        "colab": {
          "base_uri": "https://localhost:8080/"
        },
        "id": "FUJzR4KQIBXO",
        "outputId": "da003843-6eee-43ff-d679-f2cdce213251"
      },
      "source": [
        "print(df_clean.shape) # 160 now!"
      ],
      "execution_count": null,
      "outputs": [
        {
          "output_type": "stream",
          "text": [
            "(160, 7)\n"
          ],
          "name": "stdout"
        }
      ]
    },
    {
      "cell_type": "code",
      "metadata": {
        "colab": {
          "base_uri": "https://localhost:8080/",
          "height": 419
        },
        "id": "_M8XFbDGBdpO",
        "outputId": "7c96cc44-e23e-4a7f-e487-b63946e2a714"
      },
      "source": [
        "# Organizing clean_df dataframe\n",
        "df_clean = df_clean.sort_values(by='date', ascending= False, ignore_index=True) # Recent dates up top\n",
        "\n",
        "# Missing values were all found on date 1/29/21. No data was collected in GME.csv. Replaced NaN with 325.00 found on YFinance for 1/29/21\n",
        "df_clean['Close'].fillna(325.00, inplace=True) \n",
        "df_clean"
      ],
      "execution_count": null,
      "outputs": [
        {
          "output_type": "execute_result",
          "data": {
            "text/html": [
              "<div>\n",
              "<style scoped>\n",
              "    .dataframe tbody tr th:only-of-type {\n",
              "        vertical-align: middle;\n",
              "    }\n",
              "\n",
              "    .dataframe tbody tr th {\n",
              "        vertical-align: top;\n",
              "    }\n",
              "\n",
              "    .dataframe thead th {\n",
              "        text-align: right;\n",
              "    }\n",
              "</style>\n",
              "<table border=\"1\" class=\"dataframe\">\n",
              "  <thead>\n",
              "    <tr style=\"text-align: right;\">\n",
              "      <th></th>\n",
              "      <th>date</th>\n",
              "      <th>TB_polarity</th>\n",
              "      <th>score</th>\n",
              "      <th>num_comments</th>\n",
              "      <th>subjectivity</th>\n",
              "      <th>NBC_polarity</th>\n",
              "      <th>Close</th>\n",
              "    </tr>\n",
              "  </thead>\n",
              "  <tbody>\n",
              "    <tr>\n",
              "      <th>0</th>\n",
              "      <td>2021-01-29</td>\n",
              "      <td>0.000000</td>\n",
              "      <td>230844</td>\n",
              "      <td>23532</td>\n",
              "      <td>0.000000</td>\n",
              "      <td>1.00</td>\n",
              "      <td>325.00</td>\n",
              "    </tr>\n",
              "    <tr>\n",
              "      <th>1</th>\n",
              "      <td>2021-01-29</td>\n",
              "      <td>-0.087877</td>\n",
              "      <td>18578</td>\n",
              "      <td>2159</td>\n",
              "      <td>0.506453</td>\n",
              "      <td>0.00</td>\n",
              "      <td>325.00</td>\n",
              "    </tr>\n",
              "    <tr>\n",
              "      <th>2</th>\n",
              "      <td>2021-01-29</td>\n",
              "      <td>0.033642</td>\n",
              "      <td>26702</td>\n",
              "      <td>1775</td>\n",
              "      <td>0.436728</td>\n",
              "      <td>0.07</td>\n",
              "      <td>325.00</td>\n",
              "    </tr>\n",
              "    <tr>\n",
              "      <th>3</th>\n",
              "      <td>2021-01-29</td>\n",
              "      <td>0.088393</td>\n",
              "      <td>41211</td>\n",
              "      <td>2311</td>\n",
              "      <td>0.438757</td>\n",
              "      <td>0.00</td>\n",
              "      <td>325.00</td>\n",
              "    </tr>\n",
              "    <tr>\n",
              "      <th>4</th>\n",
              "      <td>2021-01-29</td>\n",
              "      <td>0.247959</td>\n",
              "      <td>16512</td>\n",
              "      <td>971</td>\n",
              "      <td>0.597959</td>\n",
              "      <td>1.00</td>\n",
              "      <td>325.00</td>\n",
              "    </tr>\n",
              "    <tr>\n",
              "      <th>...</th>\n",
              "      <td>...</td>\n",
              "      <td>...</td>\n",
              "      <td>...</td>\n",
              "      <td>...</td>\n",
              "      <td>...</td>\n",
              "      <td>...</td>\n",
              "      <td>...</td>\n",
              "    </tr>\n",
              "    <tr>\n",
              "      <th>155</th>\n",
              "      <td>2020-11-16</td>\n",
              "      <td>0.004729</td>\n",
              "      <td>2011</td>\n",
              "      <td>625</td>\n",
              "      <td>0.526020</td>\n",
              "      <td>0.00</td>\n",
              "      <td>12.06</td>\n",
              "    </tr>\n",
              "    <tr>\n",
              "      <th>156</th>\n",
              "      <td>2020-10-13</td>\n",
              "      <td>0.157937</td>\n",
              "      <td>27420</td>\n",
              "      <td>1067</td>\n",
              "      <td>0.552381</td>\n",
              "      <td>0.02</td>\n",
              "      <td>11.88</td>\n",
              "    </tr>\n",
              "    <tr>\n",
              "      <th>157</th>\n",
              "      <td>2020-10-13</td>\n",
              "      <td>-0.061946</td>\n",
              "      <td>25102</td>\n",
              "      <td>513</td>\n",
              "      <td>0.589103</td>\n",
              "      <td>0.52</td>\n",
              "      <td>11.88</td>\n",
              "    </tr>\n",
              "    <tr>\n",
              "      <th>158</th>\n",
              "      <td>2020-10-09</td>\n",
              "      <td>0.000000</td>\n",
              "      <td>14480</td>\n",
              "      <td>1144</td>\n",
              "      <td>0.000000</td>\n",
              "      <td>1.00</td>\n",
              "      <td>12.02</td>\n",
              "    </tr>\n",
              "    <tr>\n",
              "      <th>159</th>\n",
              "      <td>2020-04-02</td>\n",
              "      <td>-0.013636</td>\n",
              "      <td>1887</td>\n",
              "      <td>759</td>\n",
              "      <td>0.292740</td>\n",
              "      <td>0.22</td>\n",
              "      <td>2.85</td>\n",
              "    </tr>\n",
              "  </tbody>\n",
              "</table>\n",
              "<p>160 rows × 7 columns</p>\n",
              "</div>"
            ],
            "text/plain": [
              "          date  TB_polarity   score  ...  subjectivity  NBC_polarity   Close\n",
              "0   2021-01-29     0.000000  230844  ...      0.000000          1.00  325.00\n",
              "1   2021-01-29    -0.087877   18578  ...      0.506453          0.00  325.00\n",
              "2   2021-01-29     0.033642   26702  ...      0.436728          0.07  325.00\n",
              "3   2021-01-29     0.088393   41211  ...      0.438757          0.00  325.00\n",
              "4   2021-01-29     0.247959   16512  ...      0.597959          1.00  325.00\n",
              "..         ...          ...     ...  ...           ...           ...     ...\n",
              "155 2020-11-16     0.004729    2011  ...      0.526020          0.00   12.06\n",
              "156 2020-10-13     0.157937   27420  ...      0.552381          0.02   11.88\n",
              "157 2020-10-13    -0.061946   25102  ...      0.589103          0.52   11.88\n",
              "158 2020-10-09     0.000000   14480  ...      0.000000          1.00   12.02\n",
              "159 2020-04-02    -0.013636    1887  ...      0.292740          0.22    2.85\n",
              "\n",
              "[160 rows x 7 columns]"
            ]
          },
          "metadata": {
            "tags": []
          },
          "execution_count": 36
        }
      ]
    },
    {
      "cell_type": "markdown",
      "metadata": {
        "id": "R1NjUb-hVvaE"
      },
      "source": [
        "IDK if this was what you were stuck on. Polarity and the close now correspond to their respective dates. There's a lot of repeats btw. This was also what I had trouble on during the time series. Hopefully this. is what you were looking for!"
      ]
    },
    {
      "cell_type": "markdown",
      "metadata": {
        "id": "tJTc-piKSqN-"
      },
      "source": [
        "## Neural Network Regression (MPL Regressor)\n",
        "\n",
        "https://scikit-learn.org/stable/modules/generated/sklearn.neural_network.MLPRegressor.html#sklearn.neural_network.MLPRegressor\n",
        "\n",
        "Testing a variety od variables in these model which include:\n",
        "\n",
        "'TB_polarity' - TextBlob polarity. \n",
        "'score' - reddit score.    \n",
        "'num_comments' - number of comments.    \n",
        "'subjectivity' - subjectivity.   \n",
        "'NBC_polarity' - polarity found with custom classifier. "
      ]
    },
    {
      "cell_type": "code",
      "metadata": {
        "id": "_GEOwgJ6O3Gl"
      },
      "source": [
        "from sklearn.neural_network import MLPRegressor\n",
        "from sklearn.datasets import make_regression\n",
        "from sklearn.model_selection import train_test_split"
      ],
      "execution_count": null,
      "outputs": []
    },
    {
      "cell_type": "code",
      "metadata": {
        "id": "Hr3uQmDjQBwa",
        "colab": {
          "base_uri": "https://localhost:8080/",
          "height": 232
        },
        "outputId": "5b4314ff-e1d0-49c0-e22c-d65dbc87af6c"
      },
      "source": [
        "#defining X variable\n",
        "X = df_clean[['Date','TB_polarity','score', 'num_comments']]\n",
        "\n",
        "#defining Y variable\n",
        "y = df_clean['Close']\n",
        "\n",
        "#spliting test and training sets\n",
        "# X, y = make_regression(n_samples=200, random_state=1)\n",
        "X_train, X_test, y_train, y_test = train_test_split(X, y, random_state=1)"
      ],
      "execution_count": null,
      "outputs": [
        {
          "output_type": "error",
          "ename": "NameError",
          "evalue": "ignored",
          "traceback": [
            "\u001b[0;31m---------------------------------------------------------------------------\u001b[0m",
            "\u001b[0;31mNameError\u001b[0m                                 Traceback (most recent call last)",
            "\u001b[0;32m<ipython-input-37-b4a6958b9e5c>\u001b[0m in \u001b[0;36m<module>\u001b[0;34m()\u001b[0m\n\u001b[1;32m      1\u001b[0m \u001b[0;31m#defining X variable\u001b[0m\u001b[0;34m\u001b[0m\u001b[0;34m\u001b[0m\u001b[0;34m\u001b[0m\u001b[0m\n\u001b[0;32m----> 2\u001b[0;31m \u001b[0mX\u001b[0m \u001b[0;34m=\u001b[0m \u001b[0mdf_clean\u001b[0m\u001b[0;34m[\u001b[0m\u001b[0;34m[\u001b[0m\u001b[0;34m'Date'\u001b[0m\u001b[0;34m,\u001b[0m\u001b[0;34m'TB_polarity'\u001b[0m\u001b[0;34m,\u001b[0m\u001b[0;34m'score'\u001b[0m\u001b[0;34m,\u001b[0m \u001b[0;34m'num_comments'\u001b[0m\u001b[0;34m]\u001b[0m\u001b[0;34m]\u001b[0m\u001b[0;34m\u001b[0m\u001b[0;34m\u001b[0m\u001b[0m\n\u001b[0m\u001b[1;32m      3\u001b[0m \u001b[0;34m\u001b[0m\u001b[0m\n\u001b[1;32m      4\u001b[0m \u001b[0;31m#defining Y variable\u001b[0m\u001b[0;34m\u001b[0m\u001b[0;34m\u001b[0m\u001b[0;34m\u001b[0m\u001b[0m\n\u001b[1;32m      5\u001b[0m \u001b[0my\u001b[0m \u001b[0;34m=\u001b[0m \u001b[0mdf_clean\u001b[0m\u001b[0;34m[\u001b[0m\u001b[0;34m'Close'\u001b[0m\u001b[0;34m]\u001b[0m\u001b[0;34m\u001b[0m\u001b[0;34m\u001b[0m\u001b[0m\n",
            "\u001b[0;31mNameError\u001b[0m: name 'df_clean' is not defined"
          ]
        }
      ]
    },
    {
      "cell_type": "code",
      "metadata": {
        "colab": {
          "base_uri": "https://localhost:8080/"
        },
        "id": "twBOLPV8QcUo",
        "outputId": "36b24bad-8fa1-4f31-8ba2-19d007ab62c9"
      },
      "source": [
        "#train the model\n",
        "regr = MLPRegressor(random_state=1, max_iter=500).fit(X_train, y_train)\n",
        "\n",
        "#predict\n",
        "regr.predict(X_test[:4])\n"
      ],
      "execution_count": null,
      "outputs": [
        {
          "output_type": "stream",
          "text": [
            "/usr/local/lib/python3.7/dist-packages/sklearn/neural_network/_multilayer_perceptron.py:571: ConvergenceWarning: Stochastic Optimizer: Maximum iterations (500) reached and the optimization hasn't converged yet.\n",
            "  % self.max_iter, ConvergenceWarning)\n"
          ],
          "name": "stderr"
        },
        {
          "output_type": "execute_result",
          "data": {
            "text/plain": [
              "array([288.24166765,   4.6611645 , 105.57054189,  64.3889317 ])"
            ]
          },
          "metadata": {
            "tags": []
          },
          "execution_count": 38
        }
      ]
    },
    {
      "cell_type": "code",
      "metadata": {
        "colab": {
          "base_uri": "https://localhost:8080/"
        },
        "id": "G8b4EF4VTXK9",
        "outputId": "ea17fc60-68d7-4d25-bc48-a219265fbb26"
      },
      "source": [
        "#score\n",
        "print(\"Neural Network Regression Model Accuracy: \", regr.score(X_test, y_test))"
      ],
      "execution_count": null,
      "outputs": [
        {
          "output_type": "stream",
          "text": [
            "Neural Network Regression Model Accuracy:  -3.7085985862961515\n"
          ],
          "name": "stdout"
        }
      ]
    },
    {
      "cell_type": "markdown",
      "metadata": {
        "id": "C0ujLFnrW12u"
      },
      "source": [
        "Cannot achieve a good accuracy with any combination of variables.\n",
        "\n",
        "Research on why: **Traditional nueral nets and ML algorithims are not well suited for timeseries data**\n",
        "\n",
        "https://towardsdatascience.com/how-not-to-use-machine-learning-for-time-series-forecasting-avoiding-the-pitfalls-19f9d7adf424\n",
        "\n",
        "https://towardsdatascience.com/sktime-a-unified-python-library-for-time-series-machine-learning-3c103c139a55\n",
        "\n"
      ]
    },
    {
      "cell_type": "markdown",
      "metadata": {
        "id": "6AYukrrHTf4L"
      },
      "source": [
        "## Neural Network MLPClassifier (in progress)\n",
        "\n",
        "https://scikit-learn.org/stable/modules/generated/sklearn.neural_network.MLPClassifier.html#sklearn.neural_network.MLPClassifier\n",
        "\n",
        "Reading about this model suggests it is not actually suitable for timeseries."
      ]
    },
    {
      "cell_type": "code",
      "metadata": {
        "id": "3ZgWN_8mTmm-"
      },
      "source": [
        "from sklearn.neural_network import MLPClassifier"
      ],
      "execution_count": null,
      "outputs": []
    },
    {
      "cell_type": "code",
      "metadata": {
        "id": "h0CmY7gan5gL"
      },
      "source": [
        ""
      ],
      "execution_count": null,
      "outputs": []
    },
    {
      "cell_type": "code",
      "metadata": {
        "id": "TaVDul2xUhUq"
      },
      "source": [
        "#defining variables\n",
        "\n",
        "X = df_clean[['TB_polarity','score', 'num_comments', 'subjectivity', 'NBC_polarity']].to_numpy() #converting to array\n",
        "\n",
        "y = df_clean['Close'].to_numpy() # converting to array"
      ],
      "execution_count": null,
      "outputs": []
    },
    {
      "cell_type": "code",
      "metadata": {
        "colab": {
          "base_uri": "https://localhost:8080/",
          "height": 868
        },
        "id": "6FYVb4dUVino",
        "outputId": "5fe7d993-9212-440f-d1d2-bb0ea5399199"
      },
      "source": [
        "clf = MLPClassifier(solver='lbfgs', alpha=1e-5,\n",
        "                  hidden_layer_sizes=(3, 2), random_state=1)\n",
        "\n",
        "clf.fit(X, y)"
      ],
      "execution_count": null,
      "outputs": [
        {
          "output_type": "error",
          "ename": "ValueError",
          "evalue": "ignored",
          "traceback": [
            "\u001b[0;31m---------------------------------------------------------------------------\u001b[0m",
            "\u001b[0;31mValueError\u001b[0m                                Traceback (most recent call last)",
            "\u001b[0;32m<ipython-input-34-a40191b49617>\u001b[0m in \u001b[0;36m<module>\u001b[0;34m()\u001b[0m\n\u001b[1;32m      2\u001b[0m                   hidden_layer_sizes=(3, 2), random_state=1)\n\u001b[1;32m      3\u001b[0m \u001b[0;34m\u001b[0m\u001b[0m\n\u001b[0;32m----> 4\u001b[0;31m \u001b[0mclf\u001b[0m\u001b[0;34m.\u001b[0m\u001b[0mfit\u001b[0m\u001b[0;34m(\u001b[0m\u001b[0mX\u001b[0m\u001b[0;34m,\u001b[0m \u001b[0my\u001b[0m\u001b[0;34m)\u001b[0m\u001b[0;34m\u001b[0m\u001b[0;34m\u001b[0m\u001b[0m\n\u001b[0m",
            "\u001b[0;32m/usr/local/lib/python3.7/dist-packages/sklearn/neural_network/_multilayer_perceptron.py\u001b[0m in \u001b[0;36mfit\u001b[0;34m(self, X, y)\u001b[0m\n\u001b[1;32m    671\u001b[0m         \u001b[0mself\u001b[0m \u001b[0;34m:\u001b[0m \u001b[0mreturns\u001b[0m \u001b[0ma\u001b[0m \u001b[0mtrained\u001b[0m \u001b[0mMLP\u001b[0m \u001b[0mmodel\u001b[0m\u001b[0;34m.\u001b[0m\u001b[0;34m\u001b[0m\u001b[0;34m\u001b[0m\u001b[0m\n\u001b[1;32m    672\u001b[0m         \"\"\"\n\u001b[0;32m--> 673\u001b[0;31m         \u001b[0;32mreturn\u001b[0m \u001b[0mself\u001b[0m\u001b[0;34m.\u001b[0m\u001b[0m_fit\u001b[0m\u001b[0;34m(\u001b[0m\u001b[0mX\u001b[0m\u001b[0;34m,\u001b[0m \u001b[0my\u001b[0m\u001b[0;34m,\u001b[0m \u001b[0mincremental\u001b[0m\u001b[0;34m=\u001b[0m\u001b[0;32mFalse\u001b[0m\u001b[0;34m)\u001b[0m\u001b[0;34m\u001b[0m\u001b[0;34m\u001b[0m\u001b[0m\n\u001b[0m\u001b[1;32m    674\u001b[0m \u001b[0;34m\u001b[0m\u001b[0m\n\u001b[1;32m    675\u001b[0m     \u001b[0;34m@\u001b[0m\u001b[0mproperty\u001b[0m\u001b[0;34m\u001b[0m\u001b[0;34m\u001b[0m\u001b[0m\n",
            "\u001b[0;32m/usr/local/lib/python3.7/dist-packages/sklearn/neural_network/_multilayer_perceptron.py\u001b[0m in \u001b[0;36m_fit\u001b[0;34m(self, X, y, incremental)\u001b[0m\n\u001b[1;32m    362\u001b[0m                       (not self.warm_start and not incremental))\n\u001b[1;32m    363\u001b[0m \u001b[0;34m\u001b[0m\u001b[0m\n\u001b[0;32m--> 364\u001b[0;31m         \u001b[0mX\u001b[0m\u001b[0;34m,\u001b[0m \u001b[0my\u001b[0m \u001b[0;34m=\u001b[0m \u001b[0mself\u001b[0m\u001b[0;34m.\u001b[0m\u001b[0m_validate_input\u001b[0m\u001b[0;34m(\u001b[0m\u001b[0mX\u001b[0m\u001b[0;34m,\u001b[0m \u001b[0my\u001b[0m\u001b[0;34m,\u001b[0m \u001b[0mincremental\u001b[0m\u001b[0;34m,\u001b[0m \u001b[0mreset\u001b[0m\u001b[0;34m=\u001b[0m\u001b[0mfirst_pass\u001b[0m\u001b[0;34m)\u001b[0m\u001b[0;34m\u001b[0m\u001b[0;34m\u001b[0m\u001b[0m\n\u001b[0m\u001b[1;32m    365\u001b[0m \u001b[0;34m\u001b[0m\u001b[0m\n\u001b[1;32m    366\u001b[0m         \u001b[0mn_samples\u001b[0m\u001b[0;34m,\u001b[0m \u001b[0mn_features\u001b[0m \u001b[0;34m=\u001b[0m \u001b[0mX\u001b[0m\u001b[0;34m.\u001b[0m\u001b[0mshape\u001b[0m\u001b[0;34m\u001b[0m\u001b[0;34m\u001b[0m\u001b[0m\n",
            "\u001b[0;32m/usr/local/lib/python3.7/dist-packages/sklearn/neural_network/_multilayer_perceptron.py\u001b[0m in \u001b[0;36m_validate_input\u001b[0;34m(self, X, y, incremental, reset)\u001b[0m\n\u001b[1;32m    996\u001b[0m         ):\n\u001b[1;32m    997\u001b[0m             \u001b[0mself\u001b[0m\u001b[0;34m.\u001b[0m\u001b[0m_label_binarizer\u001b[0m \u001b[0;34m=\u001b[0m \u001b[0mLabelBinarizer\u001b[0m\u001b[0;34m(\u001b[0m\u001b[0;34m)\u001b[0m\u001b[0;34m\u001b[0m\u001b[0;34m\u001b[0m\u001b[0m\n\u001b[0;32m--> 998\u001b[0;31m             \u001b[0mself\u001b[0m\u001b[0;34m.\u001b[0m\u001b[0m_label_binarizer\u001b[0m\u001b[0;34m.\u001b[0m\u001b[0mfit\u001b[0m\u001b[0;34m(\u001b[0m\u001b[0my\u001b[0m\u001b[0;34m)\u001b[0m\u001b[0;34m\u001b[0m\u001b[0;34m\u001b[0m\u001b[0m\n\u001b[0m\u001b[1;32m    999\u001b[0m             \u001b[0mself\u001b[0m\u001b[0;34m.\u001b[0m\u001b[0mclasses_\u001b[0m \u001b[0;34m=\u001b[0m \u001b[0mself\u001b[0m\u001b[0;34m.\u001b[0m\u001b[0m_label_binarizer\u001b[0m\u001b[0;34m.\u001b[0m\u001b[0mclasses_\u001b[0m\u001b[0;34m\u001b[0m\u001b[0;34m\u001b[0m\u001b[0m\n\u001b[1;32m   1000\u001b[0m         \u001b[0;32melse\u001b[0m\u001b[0;34m:\u001b[0m\u001b[0;34m\u001b[0m\u001b[0;34m\u001b[0m\u001b[0m\n",
            "\u001b[0;32m/usr/local/lib/python3.7/dist-packages/sklearn/preprocessing/_label.py\u001b[0m in \u001b[0;36mfit\u001b[0;34m(self, y)\u001b[0m\n\u001b[1;32m    295\u001b[0m \u001b[0;34m\u001b[0m\u001b[0m\n\u001b[1;32m    296\u001b[0m         \u001b[0mself\u001b[0m\u001b[0;34m.\u001b[0m\u001b[0msparse_input_\u001b[0m \u001b[0;34m=\u001b[0m \u001b[0msp\u001b[0m\u001b[0;34m.\u001b[0m\u001b[0missparse\u001b[0m\u001b[0;34m(\u001b[0m\u001b[0my\u001b[0m\u001b[0;34m)\u001b[0m\u001b[0;34m\u001b[0m\u001b[0;34m\u001b[0m\u001b[0m\n\u001b[0;32m--> 297\u001b[0;31m         \u001b[0mself\u001b[0m\u001b[0;34m.\u001b[0m\u001b[0mclasses_\u001b[0m \u001b[0;34m=\u001b[0m \u001b[0munique_labels\u001b[0m\u001b[0;34m(\u001b[0m\u001b[0my\u001b[0m\u001b[0;34m)\u001b[0m\u001b[0;34m\u001b[0m\u001b[0;34m\u001b[0m\u001b[0m\n\u001b[0m\u001b[1;32m    298\u001b[0m         \u001b[0;32mreturn\u001b[0m \u001b[0mself\u001b[0m\u001b[0;34m\u001b[0m\u001b[0;34m\u001b[0m\u001b[0m\n\u001b[1;32m    299\u001b[0m \u001b[0;34m\u001b[0m\u001b[0m\n",
            "\u001b[0;32m/usr/local/lib/python3.7/dist-packages/sklearn/utils/multiclass.py\u001b[0m in \u001b[0;36munique_labels\u001b[0;34m(*ys)\u001b[0m\n\u001b[1;32m     96\u001b[0m     \u001b[0m_unique_labels\u001b[0m \u001b[0;34m=\u001b[0m \u001b[0m_FN_UNIQUE_LABELS\u001b[0m\u001b[0;34m.\u001b[0m\u001b[0mget\u001b[0m\u001b[0;34m(\u001b[0m\u001b[0mlabel_type\u001b[0m\u001b[0;34m,\u001b[0m \u001b[0;32mNone\u001b[0m\u001b[0;34m)\u001b[0m\u001b[0;34m\u001b[0m\u001b[0;34m\u001b[0m\u001b[0m\n\u001b[1;32m     97\u001b[0m     \u001b[0;32mif\u001b[0m \u001b[0;32mnot\u001b[0m \u001b[0m_unique_labels\u001b[0m\u001b[0;34m:\u001b[0m\u001b[0;34m\u001b[0m\u001b[0;34m\u001b[0m\u001b[0m\n\u001b[0;32m---> 98\u001b[0;31m         \u001b[0;32mraise\u001b[0m \u001b[0mValueError\u001b[0m\u001b[0;34m(\u001b[0m\u001b[0;34m\"Unknown label type: %s\"\u001b[0m \u001b[0;34m%\u001b[0m \u001b[0mrepr\u001b[0m\u001b[0;34m(\u001b[0m\u001b[0mys\u001b[0m\u001b[0;34m)\u001b[0m\u001b[0;34m)\u001b[0m\u001b[0;34m\u001b[0m\u001b[0;34m\u001b[0m\u001b[0m\n\u001b[0m\u001b[1;32m     99\u001b[0m \u001b[0;34m\u001b[0m\u001b[0m\n\u001b[1;32m    100\u001b[0m     \u001b[0mys_labels\u001b[0m \u001b[0;34m=\u001b[0m \u001b[0mset\u001b[0m\u001b[0;34m(\u001b[0m\u001b[0mchain\u001b[0m\u001b[0;34m.\u001b[0m\u001b[0mfrom_iterable\u001b[0m\u001b[0;34m(\u001b[0m\u001b[0m_unique_labels\u001b[0m\u001b[0;34m(\u001b[0m\u001b[0my\u001b[0m\u001b[0;34m)\u001b[0m \u001b[0;32mfor\u001b[0m \u001b[0my\u001b[0m \u001b[0;32min\u001b[0m \u001b[0mys\u001b[0m\u001b[0;34m)\u001b[0m\u001b[0;34m)\u001b[0m\u001b[0;34m\u001b[0m\u001b[0;34m\u001b[0m\u001b[0m\n",
            "\u001b[0;31mValueError\u001b[0m: Unknown label type: (array([325.      , 325.      , 325.      , 325.      , 325.      ,\n       325.      , 325.      , 325.      , 325.      , 325.      ,\n       325.      , 325.      , 325.      , 325.      , 325.      ,\n       325.      , 325.      , 325.      , 325.      , 325.      ,\n       325.      , 325.      , 325.      , 325.      , 325.      ,\n       325.      , 325.      , 325.      , 325.      , 325.      ,\n       325.      , 325.      , 325.      , 325.      , 325.      ,\n       325.      , 325.      , 325.      , 325.      , 325.      ,\n       325.      , 325.      , 325.      , 193.600006, 193.600006,\n       193.600006, 193.600006, 193.600006, 193.600006, 193.600006,\n       193.600006, 193.600006, 193.600006, 193.600006, 193.600006,\n       193.600006, 193.600006, 193.600006, 193.600006, 193.600006,\n       193.600006, 193.600006, 193.600006, 193.600006, 193.600006,\n       193.600006, 193.600006, 193.600006, 193.600006, 193.600006,\n       193.600006, 193.600006, 193.600006, 193.600006, 193.600006,\n       193.600006, 193.600006, 193.600006, 193.600006, 193.600006,\n       347.51001 , 347.51001 , 347.51001 , 347.51001 , 347.51001 ,\n       347.51001 , 347.51001 , 347.51001 , 347.51001 , 347.51001 ,\n       347.51001 , 347.51001 , 347.51001 , 347.51001 , 347.51001 ,\n       347.51001 , 347.51001 , 347.51001 , 347.51001 , 347.51001 ,\n       347.51001 , 347.51001 , 147.979996, 147.979996, 147.979996,\n       147.979996, 147.979996, 147.979996, 147.979996, 147.979996,\n       147.979996, 147.979996, 147.979996, 147.979996, 147.979996,\n        76.790001,  76.790001,  76.790001,  76.790001,  76.790001,\n        76.790001,  76.790001,  76.790001,  76.790001, 325.      ,\n       325.      , 325.      , 325.      , 325.      , 325.      ,\n       325.      , 325.      , 325.      ,  65.010002,  65.010002,\n        43.029999,  43.029999,  39.119999,  39.360001, 325.      ,\n       325.      , 325.      ,  35.5     ,  35.5     ,  35.5     ,\n        39.91    ,  39.91    ,  39.91    ,  19.940001,  18.84    ,\n        20.57    ,  20.57    ,  14.12    ,  16.9     ,  16.559999,\n        12.06    ,  11.88    ,  11.88    ,  12.02    ,   2.85    ]),)"
          ]
        }
      ]
    },
    {
      "cell_type": "code",
      "metadata": {
        "id": "c7FoI4aFFgaj"
      },
      "source": [
        ""
      ],
      "execution_count": null,
      "outputs": []
    },
    {
      "cell_type": "code",
      "metadata": {
        "id": "C37PWejYRP4u"
      },
      "source": [
        ""
      ],
      "execution_count": null,
      "outputs": []
    },
    {
      "cell_type": "markdown",
      "metadata": {
        "id": "38n1xH2qSEqI"
      },
      "source": [
        "## skTime Timeseries Clasifier (in progress)\n",
        "\n",
        "https://www.sktime.org/en/latest/\n",
        "\n",
        "This library uses the skLearn library but optimizes for timseries"
      ]
    },
    {
      "cell_type": "code",
      "metadata": {
        "colab": {
          "base_uri": "https://localhost:8080/",
          "height": 650
        },
        "id": "-1oKw44q6Z_L",
        "outputId": "d5c6198d-564a-4e62-d0c7-6213cf306756"
      },
      "source": [
        "pip install sktime"
      ],
      "execution_count": null,
      "outputs": [
        {
          "output_type": "stream",
          "text": [
            "Collecting sktime\n",
            "\u001b[?25l  Downloading https://files.pythonhosted.org/packages/ed/0b/ee4c2a9f2ef22eea4e202c4740142f3dfb8a3e5f9f1b36731b39b58ca432/sktime-0.6.0-cp37-cp37m-manylinux2014_x86_64.whl (5.7MB)\n",
            "\u001b[K     |████████████████████████████████| 5.7MB 4.5MB/s \n",
            "\u001b[?25hCollecting statsmodels>=0.12.1\n",
            "\u001b[?25l  Downloading https://files.pythonhosted.org/packages/da/69/8eef30a6237c54f3c0b524140e2975f4b1eea3489b45eb3339574fc8acee/statsmodels-0.12.2-cp37-cp37m-manylinux1_x86_64.whl (9.5MB)\n",
            "\u001b[K     |████████████████████████████████| 9.5MB 37.7MB/s \n",
            "\u001b[?25hRequirement already satisfied: numba>=0.50 in /usr/local/lib/python3.7/dist-packages (from sktime) (0.51.2)\n",
            "Requirement already satisfied: pandas>=1.1.0 in /usr/local/lib/python3.7/dist-packages (from sktime) (1.1.5)\n",
            "Collecting scikit-learn>=0.24.0\n",
            "\u001b[?25l  Downloading https://files.pythonhosted.org/packages/f3/74/eb899f41d55f957e2591cde5528e75871f817d9fb46d4732423ecaca736d/scikit_learn-0.24.1-cp37-cp37m-manylinux2010_x86_64.whl (22.3MB)\n",
            "\u001b[K     |████████████████████████████████| 22.3MB 1.7MB/s \n",
            "\u001b[?25hRequirement already satisfied: wheel in /usr/local/lib/python3.7/dist-packages (from sktime) (0.36.2)\n",
            "Requirement already satisfied: numpy>=1.19.0 in /usr/local/lib/python3.7/dist-packages (from sktime) (1.19.5)\n",
            "Requirement already satisfied: patsy>=0.5 in /usr/local/lib/python3.7/dist-packages (from statsmodels>=0.12.1->sktime) (0.5.1)\n",
            "Requirement already satisfied: scipy>=1.1 in /usr/local/lib/python3.7/dist-packages (from statsmodels>=0.12.1->sktime) (1.4.1)\n",
            "Requirement already satisfied: setuptools in /usr/local/lib/python3.7/dist-packages (from numba>=0.50->sktime) (56.0.0)\n",
            "Requirement already satisfied: llvmlite<0.35,>=0.34.0.dev0 in /usr/local/lib/python3.7/dist-packages (from numba>=0.50->sktime) (0.34.0)\n",
            "Requirement already satisfied: pytz>=2017.2 in /usr/local/lib/python3.7/dist-packages (from pandas>=1.1.0->sktime) (2018.9)\n",
            "Requirement already satisfied: python-dateutil>=2.7.3 in /usr/local/lib/python3.7/dist-packages (from pandas>=1.1.0->sktime) (2.8.1)\n",
            "Requirement already satisfied: joblib>=0.11 in /usr/local/lib/python3.7/dist-packages (from scikit-learn>=0.24.0->sktime) (1.0.1)\n",
            "Collecting threadpoolctl>=2.0.0\n",
            "  Downloading https://files.pythonhosted.org/packages/f7/12/ec3f2e203afa394a149911729357aa48affc59c20e2c1c8297a60f33f133/threadpoolctl-2.1.0-py3-none-any.whl\n",
            "Requirement already satisfied: six in /usr/local/lib/python3.7/dist-packages (from patsy>=0.5->statsmodels>=0.12.1->sktime) (1.15.0)\n",
            "Installing collected packages: statsmodels, threadpoolctl, scikit-learn, sktime\n",
            "  Found existing installation: statsmodels 0.10.2\n",
            "    Uninstalling statsmodels-0.10.2:\n",
            "      Successfully uninstalled statsmodels-0.10.2\n",
            "  Found existing installation: scikit-learn 0.22.2.post1\n",
            "    Uninstalling scikit-learn-0.22.2.post1:\n",
            "      Successfully uninstalled scikit-learn-0.22.2.post1\n",
            "Successfully installed scikit-learn-0.24.1 sktime-0.6.0 statsmodels-0.12.2 threadpoolctl-2.1.0\n"
          ],
          "name": "stdout"
        },
        {
          "output_type": "display_data",
          "data": {
            "application/vnd.colab-display-data+json": {
              "pip_warning": {
                "packages": [
                  "sklearn",
                  "statsmodels"
                ]
              }
            }
          },
          "metadata": {
            "tags": []
          }
        }
      ]
    },
    {
      "cell_type": "code",
      "metadata": {
        "colab": {
          "base_uri": "https://localhost:8080/"
        },
        "id": "pPrzOq6ASRL-",
        "outputId": "979a27d5-4ce8-4d59-af72-536f1e15a907"
      },
      "source": [
        "from sklearn.model_selection import train_test_split\n",
        "from sklearn.pipeline import Pipeline\n",
        "\n",
        "from sktime.classification.compose import ColumnEnsembleClassifier\n",
        "from sktime.classification.dictionary_based import BOSSEnsemble\n",
        "from sktime.classification.interval_based import TimeSeriesForestClassifier\n",
        "from sktime.classification.shapelet_based import MrSEQLClassifier\n",
        "from sktime.datasets import load_basic_motions\n",
        "from sktime.transformations.panel.compose import ColumnConcatenator"
      ],
      "execution_count": null,
      "outputs": [
        {
          "output_type": "stream",
          "text": [
            "/usr/local/lib/python3.7/dist-packages/numba/np/ufunc/parallel.py:363: NumbaWarning: The TBB threading layer requires TBB version 2019.5 or later i.e., TBB_INTERFACE_VERSION >= 11005. Found TBB_INTERFACE_VERSION = 9107. The TBB threading layer is disabled.\n",
            "  warnings.warn(problem)\n"
          ],
          "name": "stderr"
        }
      ]
    },
    {
      "cell_type": "code",
      "metadata": {
        "colab": {
          "base_uri": "https://localhost:8080/",
          "height": 450
        },
        "id": "ffT54cInh4L4",
        "outputId": "9f54e8c1-b56d-47dd-dd99-aa0dfc144c34"
      },
      "source": [
        "df_clean.set_index('Date')"
      ],
      "execution_count": null,
      "outputs": [
        {
          "output_type": "execute_result",
          "data": {
            "text/html": [
              "<div>\n",
              "<style scoped>\n",
              "    .dataframe tbody tr th:only-of-type {\n",
              "        vertical-align: middle;\n",
              "    }\n",
              "\n",
              "    .dataframe tbody tr th {\n",
              "        vertical-align: top;\n",
              "    }\n",
              "\n",
              "    .dataframe thead th {\n",
              "        text-align: right;\n",
              "    }\n",
              "</style>\n",
              "<table border=\"1\" class=\"dataframe\">\n",
              "  <thead>\n",
              "    <tr style=\"text-align: right;\">\n",
              "      <th></th>\n",
              "      <th>date</th>\n",
              "      <th>TB_polarity</th>\n",
              "      <th>score</th>\n",
              "      <th>num_comments</th>\n",
              "      <th>subjectivity</th>\n",
              "      <th>NBC_polarity</th>\n",
              "      <th>Close</th>\n",
              "    </tr>\n",
              "    <tr>\n",
              "      <th>Date</th>\n",
              "      <th></th>\n",
              "      <th></th>\n",
              "      <th></th>\n",
              "      <th></th>\n",
              "      <th></th>\n",
              "      <th></th>\n",
              "      <th></th>\n",
              "    </tr>\n",
              "  </thead>\n",
              "  <tbody>\n",
              "    <tr>\n",
              "      <th>2021-01-28</th>\n",
              "      <td>2021-01-28</td>\n",
              "      <td>0.000000</td>\n",
              "      <td>185949</td>\n",
              "      <td>15495</td>\n",
              "      <td>0.000000</td>\n",
              "      <td>1.00</td>\n",
              "      <td>193.600006</td>\n",
              "    </tr>\n",
              "    <tr>\n",
              "      <th>2021-01-28</th>\n",
              "      <td>2021-01-28</td>\n",
              "      <td>0.055682</td>\n",
              "      <td>138569</td>\n",
              "      <td>7802</td>\n",
              "      <td>0.526964</td>\n",
              "      <td>0.00</td>\n",
              "      <td>193.600006</td>\n",
              "    </tr>\n",
              "    <tr>\n",
              "      <th>2021-01-28</th>\n",
              "      <td>2021-01-28</td>\n",
              "      <td>0.000000</td>\n",
              "      <td>85278</td>\n",
              "      <td>4558</td>\n",
              "      <td>0.000000</td>\n",
              "      <td>0.98</td>\n",
              "      <td>193.600006</td>\n",
              "    </tr>\n",
              "    <tr>\n",
              "      <th>2021-01-28</th>\n",
              "      <td>2021-01-28</td>\n",
              "      <td>0.000000</td>\n",
              "      <td>81991</td>\n",
              "      <td>2773</td>\n",
              "      <td>0.000000</td>\n",
              "      <td>1.00</td>\n",
              "      <td>193.600006</td>\n",
              "    </tr>\n",
              "    <tr>\n",
              "      <th>2021-01-28</th>\n",
              "      <td>2021-01-28</td>\n",
              "      <td>-0.053501</td>\n",
              "      <td>44073</td>\n",
              "      <td>1956</td>\n",
              "      <td>0.681731</td>\n",
              "      <td>0.00</td>\n",
              "      <td>193.600006</td>\n",
              "    </tr>\n",
              "    <tr>\n",
              "      <th>...</th>\n",
              "      <td>...</td>\n",
              "      <td>...</td>\n",
              "      <td>...</td>\n",
              "      <td>...</td>\n",
              "      <td>...</td>\n",
              "      <td>...</td>\n",
              "      <td>...</td>\n",
              "    </tr>\n",
              "    <tr>\n",
              "      <th>2020-11-30</th>\n",
              "      <td>2020-11-30</td>\n",
              "      <td>0.000000</td>\n",
              "      <td>11099</td>\n",
              "      <td>796</td>\n",
              "      <td>0.000000</td>\n",
              "      <td>1.00</td>\n",
              "      <td>16.559999</td>\n",
              "    </tr>\n",
              "    <tr>\n",
              "      <th>2020-04-02</th>\n",
              "      <td>2020-04-02</td>\n",
              "      <td>-0.013636</td>\n",
              "      <td>1887</td>\n",
              "      <td>759</td>\n",
              "      <td>0.292740</td>\n",
              "      <td>0.22</td>\n",
              "      <td>2.850000</td>\n",
              "    </tr>\n",
              "    <tr>\n",
              "      <th>2020-11-16</th>\n",
              "      <td>2020-11-16</td>\n",
              "      <td>0.004729</td>\n",
              "      <td>2011</td>\n",
              "      <td>625</td>\n",
              "      <td>0.526020</td>\n",
              "      <td>0.00</td>\n",
              "      <td>12.060000</td>\n",
              "    </tr>\n",
              "    <tr>\n",
              "      <th>2020-12-04</th>\n",
              "      <td>2020-12-04</td>\n",
              "      <td>0.028579</td>\n",
              "      <td>1021</td>\n",
              "      <td>475</td>\n",
              "      <td>0.397678</td>\n",
              "      <td>0.00</td>\n",
              "      <td>16.900000</td>\n",
              "    </tr>\n",
              "    <tr>\n",
              "      <th>2020-12-10</th>\n",
              "      <td>2020-12-10</td>\n",
              "      <td>0.114336</td>\n",
              "      <td>441</td>\n",
              "      <td>254</td>\n",
              "      <td>0.463092</td>\n",
              "      <td>0.00</td>\n",
              "      <td>14.120000</td>\n",
              "    </tr>\n",
              "  </tbody>\n",
              "</table>\n",
              "<p>105 rows × 7 columns</p>\n",
              "</div>"
            ],
            "text/plain": [
              "                 date  TB_polarity  ...  NBC_polarity       Close\n",
              "Date                                ...                          \n",
              "2021-01-28 2021-01-28     0.000000  ...          1.00  193.600006\n",
              "2021-01-28 2021-01-28     0.055682  ...          0.00  193.600006\n",
              "2021-01-28 2021-01-28     0.000000  ...          0.98  193.600006\n",
              "2021-01-28 2021-01-28     0.000000  ...          1.00  193.600006\n",
              "2021-01-28 2021-01-28    -0.053501  ...          0.00  193.600006\n",
              "...               ...          ...  ...           ...         ...\n",
              "2020-11-30 2020-11-30     0.000000  ...          1.00   16.559999\n",
              "2020-04-02 2020-04-02    -0.013636  ...          0.22    2.850000\n",
              "2020-11-16 2020-11-16     0.004729  ...          0.00   12.060000\n",
              "2020-12-04 2020-12-04     0.028579  ...          0.00   16.900000\n",
              "2020-12-10 2020-12-10     0.114336  ...          0.00   14.120000\n",
              "\n",
              "[105 rows x 7 columns]"
            ]
          },
          "metadata": {
            "tags": []
          },
          "execution_count": 57
        }
      ]
    },
    {
      "cell_type": "code",
      "metadata": {
        "colab": {
          "base_uri": "https://localhost:8080/"
        },
        "id": "xvFluu5mSRVl",
        "outputId": "68d1128e-cb2f-414c-f687-b802691d452d"
      },
      "source": [
        "#defining X variables\n",
        "X = df_clean[['TB_polarity','score', 'num_comments', 'subjectivity', 'NBC_polarity']]\n",
        "\n",
        "#defining Y variable stock closing price\n",
        "y = df_clean['Close']\n",
        "\n",
        "X_train, X_test, y_train, y_test = train_test_split(X, y, random_state=42)\n",
        "print(X_train.shape, y_train.shape, X_test.shape, y_test.shape)"
      ],
      "execution_count": null,
      "outputs": [
        {
          "output_type": "stream",
          "text": [
            "(120, 5) (120,) (40, 5) (40,)\n"
          ],
          "name": "stdout"
        }
      ]
    },
    {
      "cell_type": "code",
      "metadata": {
        "colab": {
          "base_uri": "https://localhost:8080/"
        },
        "id": "lVu9BDrgSRd6",
        "outputId": "db996fd7-d778-4f72-c201-23a56af0ea62"
      },
      "source": [
        "np.unique(y_train)"
      ],
      "execution_count": null,
      "outputs": [
        {
          "output_type": "execute_result",
          "data": {
            "text/plain": [
              "array([  2.85    ,  11.88    ,  12.02    ,  12.06    ,  14.12    ,\n",
              "        16.559999,  16.9     ,  18.84    ,  19.940001,  20.57    ,\n",
              "        35.5     ,  39.119999,  39.360001,  39.91    ,  43.029999,\n",
              "        65.010002,  76.790001, 147.979996, 193.600006, 325.      ,\n",
              "       347.51001 ])"
            ]
          },
          "metadata": {
            "tags": []
          },
          "execution_count": 37
        }
      ]
    },
    {
      "cell_type": "code",
      "metadata": {
        "colab": {
          "base_uri": "https://localhost:8080/",
          "height": 375
        },
        "id": "j6ZZmKZ5XiH4",
        "outputId": "3fb3ac35-cca7-4251-dcba-004721b303aa"
      },
      "source": [
        "#Column-wise ensembling via ColumnEnsembleClassifier \n",
        "#one classifier is fitted for each time series column and their predictions aggregated\n",
        "\n",
        "clf = ColumnEnsembleClassifier(\n",
        "    estimators=[\n",
        "        (\"TSF0\", TimeSeriesForestClassifier(n_estimators=100), [0]),\n",
        "        (\"BOSSEnsemble3\", BOSSEnsemble(max_ensemble_size=7), [3]),\n",
        "    ]\n",
        ")\n",
        "clf.fit(X_train, y_train)\n",
        "clf.score(X_test, y_test)"
      ],
      "execution_count": null,
      "outputs": [
        {
          "output_type": "error",
          "ename": "ValueError",
          "evalue": "ignored",
          "traceback": [
            "\u001b[0;31m---------------------------------------------------------------------------\u001b[0m",
            "\u001b[0;31mValueError\u001b[0m                                Traceback (most recent call last)",
            "\u001b[0;32m<ipython-input-38-42c7ca26e87a>\u001b[0m in \u001b[0;36m<module>\u001b[0;34m()\u001b[0m\n\u001b[1;32m      8\u001b[0m     ]\n\u001b[1;32m      9\u001b[0m )\n\u001b[0;32m---> 10\u001b[0;31m \u001b[0mclf\u001b[0m\u001b[0;34m.\u001b[0m\u001b[0mfit\u001b[0m\u001b[0;34m(\u001b[0m\u001b[0mX_train\u001b[0m\u001b[0;34m,\u001b[0m \u001b[0my_train\u001b[0m\u001b[0;34m)\u001b[0m\u001b[0;34m\u001b[0m\u001b[0;34m\u001b[0m\u001b[0m\n\u001b[0m\u001b[1;32m     11\u001b[0m \u001b[0mclf\u001b[0m\u001b[0;34m.\u001b[0m\u001b[0mscore\u001b[0m\u001b[0;34m(\u001b[0m\u001b[0mX_test\u001b[0m\u001b[0;34m,\u001b[0m \u001b[0my_test\u001b[0m\u001b[0;34m)\u001b[0m\u001b[0;34m\u001b[0m\u001b[0;34m\u001b[0m\u001b[0m\n",
            "\u001b[0;32m/usr/local/lib/python3.7/dist-packages/sktime/classification/compose/_column_ensemble.py\u001b[0m in \u001b[0;36mfit\u001b[0;34m(self, X, y)\u001b[0m\n\u001b[1;32m    157\u001b[0m         \u001b[0;32mfor\u001b[0m \u001b[0mname\u001b[0m\u001b[0;34m,\u001b[0m \u001b[0mestimator\u001b[0m\u001b[0;34m,\u001b[0m \u001b[0mcolumn\u001b[0m \u001b[0;32min\u001b[0m \u001b[0mself\u001b[0m\u001b[0;34m.\u001b[0m\u001b[0m_iter\u001b[0m\u001b[0;34m(\u001b[0m\u001b[0mreplace_strings\u001b[0m\u001b[0;34m=\u001b[0m\u001b[0;32mTrue\u001b[0m\u001b[0;34m)\u001b[0m\u001b[0;34m:\u001b[0m\u001b[0;34m\u001b[0m\u001b[0;34m\u001b[0m\u001b[0m\n\u001b[1;32m    158\u001b[0m             \u001b[0mestimator\u001b[0m \u001b[0;34m=\u001b[0m \u001b[0mclone\u001b[0m\u001b[0;34m(\u001b[0m\u001b[0mestimator\u001b[0m\u001b[0;34m)\u001b[0m\u001b[0;34m\u001b[0m\u001b[0;34m\u001b[0m\u001b[0m\n\u001b[0;32m--> 159\u001b[0;31m             \u001b[0mestimator\u001b[0m\u001b[0;34m.\u001b[0m\u001b[0mfit\u001b[0m\u001b[0;34m(\u001b[0m\u001b[0m_get_column\u001b[0m\u001b[0;34m(\u001b[0m\u001b[0mX\u001b[0m\u001b[0;34m,\u001b[0m \u001b[0mcolumn\u001b[0m\u001b[0;34m)\u001b[0m\u001b[0;34m,\u001b[0m \u001b[0mtransformed_y\u001b[0m\u001b[0;34m)\u001b[0m\u001b[0;34m\u001b[0m\u001b[0;34m\u001b[0m\u001b[0m\n\u001b[0m\u001b[1;32m    160\u001b[0m             \u001b[0mestimators_\u001b[0m\u001b[0;34m.\u001b[0m\u001b[0mappend\u001b[0m\u001b[0;34m(\u001b[0m\u001b[0;34m(\u001b[0m\u001b[0mname\u001b[0m\u001b[0;34m,\u001b[0m \u001b[0mestimator\u001b[0m\u001b[0;34m,\u001b[0m \u001b[0mcolumn\u001b[0m\u001b[0;34m)\u001b[0m\u001b[0;34m)\u001b[0m\u001b[0;34m\u001b[0m\u001b[0;34m\u001b[0m\u001b[0m\n\u001b[1;32m    161\u001b[0m \u001b[0;34m\u001b[0m\u001b[0m\n",
            "\u001b[0;32m/usr/local/lib/python3.7/dist-packages/sktime/series_as_features/base/estimators/interval_based/_tsf.py\u001b[0m in \u001b[0;36mfit\u001b[0;34m(self, X, y)\u001b[0m\n\u001b[1;32m     84\u001b[0m             \u001b[0my\u001b[0m\u001b[0;34m,\u001b[0m\u001b[0;34m\u001b[0m\u001b[0;34m\u001b[0m\u001b[0m\n\u001b[1;32m     85\u001b[0m             \u001b[0menforce_univariate\u001b[0m\u001b[0;34m=\u001b[0m\u001b[0;32mnot\u001b[0m \u001b[0mself\u001b[0m\u001b[0;34m.\u001b[0m\u001b[0mcapabilities\u001b[0m\u001b[0;34m[\u001b[0m\u001b[0;34m\"multivariate\"\u001b[0m\u001b[0;34m]\u001b[0m\u001b[0;34m,\u001b[0m\u001b[0;34m\u001b[0m\u001b[0;34m\u001b[0m\u001b[0m\n\u001b[0;32m---> 86\u001b[0;31m             \u001b[0mcoerce_to_numpy\u001b[0m\u001b[0;34m=\u001b[0m\u001b[0;32mTrue\u001b[0m\u001b[0;34m,\u001b[0m\u001b[0;34m\u001b[0m\u001b[0;34m\u001b[0m\u001b[0m\n\u001b[0m\u001b[1;32m     87\u001b[0m         )\n\u001b[1;32m     88\u001b[0m         \u001b[0mX\u001b[0m \u001b[0;34m=\u001b[0m \u001b[0mX\u001b[0m\u001b[0;34m.\u001b[0m\u001b[0msqueeze\u001b[0m\u001b[0;34m(\u001b[0m\u001b[0;36m1\u001b[0m\u001b[0;34m)\u001b[0m\u001b[0;34m\u001b[0m\u001b[0;34m\u001b[0m\u001b[0m\n",
            "\u001b[0;32m/usr/local/lib/python3.7/dist-packages/sktime/utils/validation/panel.py\u001b[0m in \u001b[0;36mcheck_X_y\u001b[0;34m(X, y, enforce_univariate, enforce_min_instances, enforce_min_columns, coerce_to_numpy, coerce_to_pandas)\u001b[0m\n\u001b[1;32m    185\u001b[0m         \u001b[0menforce_min_instances\u001b[0m\u001b[0;34m=\u001b[0m\u001b[0menforce_min_instances\u001b[0m\u001b[0;34m,\u001b[0m\u001b[0;34m\u001b[0m\u001b[0;34m\u001b[0m\u001b[0m\n\u001b[1;32m    186\u001b[0m         \u001b[0mcoerce_to_numpy\u001b[0m\u001b[0;34m=\u001b[0m\u001b[0mcoerce_to_numpy\u001b[0m\u001b[0;34m,\u001b[0m\u001b[0;34m\u001b[0m\u001b[0;34m\u001b[0m\u001b[0m\n\u001b[0;32m--> 187\u001b[0;31m         \u001b[0mcoerce_to_pandas\u001b[0m\u001b[0;34m=\u001b[0m\u001b[0mcoerce_to_pandas\u001b[0m\u001b[0;34m,\u001b[0m\u001b[0;34m\u001b[0m\u001b[0;34m\u001b[0m\u001b[0m\n\u001b[0m\u001b[1;32m    188\u001b[0m     )\n\u001b[1;32m    189\u001b[0m     \u001b[0;32mreturn\u001b[0m \u001b[0mX\u001b[0m\u001b[0;34m,\u001b[0m \u001b[0my\u001b[0m\u001b[0;34m\u001b[0m\u001b[0;34m\u001b[0m\u001b[0m\n",
            "\u001b[0;32m/usr/local/lib/python3.7/dist-packages/sktime/utils/validation/panel.py\u001b[0m in \u001b[0;36mcheck_X\u001b[0;34m(X, enforce_univariate, enforce_min_instances, enforce_min_columns, coerce_to_numpy, coerce_to_pandas)\u001b[0m\n\u001b[1;32m     97\u001b[0m         \u001b[0;32mif\u001b[0m \u001b[0;32mnot\u001b[0m \u001b[0mis_nested_dataframe\u001b[0m\u001b[0;34m(\u001b[0m\u001b[0mX\u001b[0m\u001b[0;34m)\u001b[0m\u001b[0;34m:\u001b[0m\u001b[0;34m\u001b[0m\u001b[0;34m\u001b[0m\u001b[0m\n\u001b[1;32m     98\u001b[0m             raise ValueError(\n\u001b[0;32m---> 99\u001b[0;31m                 \u001b[0;34m\"If passed as a pd.DataFrame, X must be a nested \"\u001b[0m\u001b[0;34m\u001b[0m\u001b[0;34m\u001b[0m\u001b[0m\n\u001b[0m\u001b[1;32m    100\u001b[0m                 \u001b[0;34m\"pd.DataFrame, with pd.Series or np.arrays inside cells.\"\u001b[0m\u001b[0;34m\u001b[0m\u001b[0;34m\u001b[0m\u001b[0m\n\u001b[1;32m    101\u001b[0m             )\n",
            "\u001b[0;31mValueError\u001b[0m: If passed as a pd.DataFrame, X must be a nested pd.DataFrame, with pd.Series or np.arrays inside cells."
          ]
        }
      ]
    },
    {
      "cell_type": "code",
      "metadata": {
        "id": "Ha_nbuTbnpu9"
      },
      "source": [
        "######TO DO#########\n",
        "#need to make new df with nested series or arrays for this model to work"
      ],
      "execution_count": null,
      "outputs": []
    },
    {
      "cell_type": "markdown",
      "metadata": {
        "id": "vSAFxbpx2tcY"
      },
      "source": [
        "## ARIMA model (in progress)"
      ]
    },
    {
      "cell_type": "code",
      "metadata": {
        "id": "CWgvQbdI21eM"
      },
      "source": [
        "from pandas import read_csv\n",
        "from pandas import datetime\n",
        "from matplotlib import pyplot\n",
        "from statsmodels.tsa.arima.model import ARIMA\n",
        "from sklearn.metrics import mean_squared_error\n",
        "from math import sqrt"
      ],
      "execution_count": null,
      "outputs": []
    },
    {
      "cell_type": "markdown",
      "metadata": {
        "id": "_a8gkYG8joVc"
      },
      "source": [
        "# Predictive Modeling with Aggrated Daily Data"
      ]
    },
    {
      "cell_type": "code",
      "metadata": {
        "id": "Z2bQqwyLjuK7"
      },
      "source": [
        "#importing aggregated data\n",
        "df_agg = pd.read_csv(\"https://raw.githubusercontent.com/joannarashid/early_memestock_detect/main/df_agg.csv\", sep = ',')"
      ],
      "execution_count": null,
      "outputs": []
    },
    {
      "cell_type": "code",
      "metadata": {
        "colab": {
          "base_uri": "https://localhost:8080/",
          "height": 669
        },
        "id": "5fuOKWTqk-IV",
        "outputId": "9e6541e6-486c-4949-e28e-c653e34be04e"
      },
      "source": [
        "df_agg['timestamp'] = pd.to_datetime(df['date']) # converts timestamp into date/time format\n",
        "df_agg.dropna()"
      ],
      "execution_count": null,
      "outputs": [
        {
          "output_type": "execute_result",
          "data": {
            "text/html": [
              "<div>\n",
              "<style scoped>\n",
              "    .dataframe tbody tr th:only-of-type {\n",
              "        vertical-align: middle;\n",
              "    }\n",
              "\n",
              "    .dataframe tbody tr th {\n",
              "        vertical-align: top;\n",
              "    }\n",
              "\n",
              "    .dataframe thead th {\n",
              "        text-align: right;\n",
              "    }\n",
              "</style>\n",
              "<table border=\"1\" class=\"dataframe\">\n",
              "  <thead>\n",
              "    <tr style=\"text-align: right;\">\n",
              "      <th></th>\n",
              "      <th>Unnamed: 0</th>\n",
              "      <th>Date</th>\n",
              "      <th>TB_polarity</th>\n",
              "      <th>num_comments</th>\n",
              "      <th>score</th>\n",
              "      <th>subjectivity</th>\n",
              "      <th>Open</th>\n",
              "      <th>High</th>\n",
              "      <th>Low</th>\n",
              "      <th>Close</th>\n",
              "      <th>Adj.Close</th>\n",
              "      <th>Volume</th>\n",
              "      <th>timestamp</th>\n",
              "    </tr>\n",
              "  </thead>\n",
              "  <tbody>\n",
              "    <tr>\n",
              "      <th>0</th>\n",
              "      <td>1</td>\n",
              "      <td>2020-04-02</td>\n",
              "      <td>-0.013636</td>\n",
              "      <td>759</td>\n",
              "      <td>1887</td>\n",
              "      <td>0.292740</td>\n",
              "      <td>3.260000</td>\n",
              "      <td>3.350000</td>\n",
              "      <td>2.850000</td>\n",
              "      <td>2.850000</td>\n",
              "      <td>2.850000</td>\n",
              "      <td>4064300.0</td>\n",
              "      <td>2021-01-29 00:40:34</td>\n",
              "    </tr>\n",
              "    <tr>\n",
              "      <th>1</th>\n",
              "      <td>2</td>\n",
              "      <td>2020-10-09</td>\n",
              "      <td>0.000000</td>\n",
              "      <td>1144</td>\n",
              "      <td>14480</td>\n",
              "      <td>0.000000</td>\n",
              "      <td>12.830000</td>\n",
              "      <td>14.800000</td>\n",
              "      <td>11.900000</td>\n",
              "      <td>12.020000</td>\n",
              "      <td>12.020000</td>\n",
              "      <td>77152800.0</td>\n",
              "      <td>2021-01-29 08:06:23</td>\n",
              "    </tr>\n",
              "    <tr>\n",
              "      <th>2</th>\n",
              "      <td>3</td>\n",
              "      <td>2020-10-13</td>\n",
              "      <td>0.095990</td>\n",
              "      <td>1580</td>\n",
              "      <td>52522</td>\n",
              "      <td>1.141484</td>\n",
              "      <td>11.730000</td>\n",
              "      <td>12.420000</td>\n",
              "      <td>11.650000</td>\n",
              "      <td>11.880000</td>\n",
              "      <td>11.880000</td>\n",
              "      <td>10179700.0</td>\n",
              "      <td>2021-01-29 00:49:11</td>\n",
              "    </tr>\n",
              "    <tr>\n",
              "      <th>3</th>\n",
              "      <td>4</td>\n",
              "      <td>2020-11-16</td>\n",
              "      <td>0.004729</td>\n",
              "      <td>625</td>\n",
              "      <td>2011</td>\n",
              "      <td>0.526020</td>\n",
              "      <td>11.160000</td>\n",
              "      <td>12.660000</td>\n",
              "      <td>10.720000</td>\n",
              "      <td>12.060000</td>\n",
              "      <td>12.060000</td>\n",
              "      <td>9774800.0</td>\n",
              "      <td>2021-01-28 08:15:35</td>\n",
              "    </tr>\n",
              "    <tr>\n",
              "      <th>4</th>\n",
              "      <td>5</td>\n",
              "      <td>2020-11-30</td>\n",
              "      <td>0.000000</td>\n",
              "      <td>796</td>\n",
              "      <td>11099</td>\n",
              "      <td>0.000000</td>\n",
              "      <td>18.170000</td>\n",
              "      <td>19.420000</td>\n",
              "      <td>16.559999</td>\n",
              "      <td>16.559999</td>\n",
              "      <td>16.559999</td>\n",
              "      <td>31983500.0</td>\n",
              "      <td>2021-01-28 11:57:32</td>\n",
              "    </tr>\n",
              "    <tr>\n",
              "      <th>5</th>\n",
              "      <td>6</td>\n",
              "      <td>2020-12-04</td>\n",
              "      <td>0.028579</td>\n",
              "      <td>475</td>\n",
              "      <td>1021</td>\n",
              "      <td>0.397678</td>\n",
              "      <td>16.299999</td>\n",
              "      <td>17.290001</td>\n",
              "      <td>16.260000</td>\n",
              "      <td>16.900000</td>\n",
              "      <td>16.900000</td>\n",
              "      <td>8972700.0</td>\n",
              "      <td>2021-01-29 12:35:58</td>\n",
              "    </tr>\n",
              "    <tr>\n",
              "      <th>6</th>\n",
              "      <td>7</td>\n",
              "      <td>2020-12-10</td>\n",
              "      <td>0.114336</td>\n",
              "      <td>254</td>\n",
              "      <td>441</td>\n",
              "      <td>0.463092</td>\n",
              "      <td>13.120000</td>\n",
              "      <td>14.410000</td>\n",
              "      <td>13.050000</td>\n",
              "      <td>14.120000</td>\n",
              "      <td>14.120000</td>\n",
              "      <td>7558900.0</td>\n",
              "      <td>2021-01-29 05:42:01</td>\n",
              "    </tr>\n",
              "    <tr>\n",
              "      <th>7</th>\n",
              "      <td>8</td>\n",
              "      <td>2020-12-23</td>\n",
              "      <td>0.149444</td>\n",
              "      <td>1247</td>\n",
              "      <td>12378</td>\n",
              "      <td>0.478333</td>\n",
              "      <td>20.170000</td>\n",
              "      <td>22.350000</td>\n",
              "      <td>19.129999</td>\n",
              "      <td>20.570000</td>\n",
              "      <td>20.570000</td>\n",
              "      <td>25830300.0</td>\n",
              "      <td>2021-01-29 08:47:55</td>\n",
              "    </tr>\n",
              "    <tr>\n",
              "      <th>8</th>\n",
              "      <td>9</td>\n",
              "      <td>2020-12-31</td>\n",
              "      <td>-0.246642</td>\n",
              "      <td>4516</td>\n",
              "      <td>21693</td>\n",
              "      <td>0.542336</td>\n",
              "      <td>19.250000</td>\n",
              "      <td>19.799999</td>\n",
              "      <td>18.799999</td>\n",
              "      <td>18.840000</td>\n",
              "      <td>18.840000</td>\n",
              "      <td>6922700.0</td>\n",
              "      <td>2021-01-28 08:55:22</td>\n",
              "    </tr>\n",
              "    <tr>\n",
              "      <th>9</th>\n",
              "      <td>10</td>\n",
              "      <td>2021-01-11</td>\n",
              "      <td>-0.047917</td>\n",
              "      <td>2655</td>\n",
              "      <td>41576</td>\n",
              "      <td>0.491667</td>\n",
              "      <td>19.410000</td>\n",
              "      <td>20.650000</td>\n",
              "      <td>19.010000</td>\n",
              "      <td>19.940001</td>\n",
              "      <td>19.940001</td>\n",
              "      <td>14927600.0</td>\n",
              "      <td>2021-01-29 08:33:21</td>\n",
              "    </tr>\n",
              "    <tr>\n",
              "      <th>10</th>\n",
              "      <td>11</td>\n",
              "      <td>2021-01-14</td>\n",
              "      <td>0.258171</td>\n",
              "      <td>4320</td>\n",
              "      <td>62754</td>\n",
              "      <td>1.002435</td>\n",
              "      <td>38.090000</td>\n",
              "      <td>43.060001</td>\n",
              "      <td>33.049999</td>\n",
              "      <td>39.910000</td>\n",
              "      <td>39.910000</td>\n",
              "      <td>93717400.0</td>\n",
              "      <td>2021-01-29 01:32:00</td>\n",
              "    </tr>\n",
              "    <tr>\n",
              "      <th>11</th>\n",
              "      <td>12</td>\n",
              "      <td>2021-01-15</td>\n",
              "      <td>0.050000</td>\n",
              "      <td>4019</td>\n",
              "      <td>64193</td>\n",
              "      <td>0.177778</td>\n",
              "      <td>38.490002</td>\n",
              "      <td>40.750000</td>\n",
              "      <td>34.009998</td>\n",
              "      <td>35.500000</td>\n",
              "      <td>35.500000</td>\n",
              "      <td>46866400.0</td>\n",
              "      <td>2021-01-29 10:18:35</td>\n",
              "    </tr>\n",
              "    <tr>\n",
              "      <th>14</th>\n",
              "      <td>15</td>\n",
              "      <td>2021-01-19</td>\n",
              "      <td>-0.159524</td>\n",
              "      <td>48192</td>\n",
              "      <td>11987</td>\n",
              "      <td>0.580952</td>\n",
              "      <td>41.549999</td>\n",
              "      <td>45.520000</td>\n",
              "      <td>36.639999</td>\n",
              "      <td>39.360001</td>\n",
              "      <td>39.360001</td>\n",
              "      <td>74721900.0</td>\n",
              "      <td>2021-01-29 08:10:30</td>\n",
              "    </tr>\n",
              "    <tr>\n",
              "      <th>15</th>\n",
              "      <td>16</td>\n",
              "      <td>2021-01-20</td>\n",
              "      <td>0.000000</td>\n",
              "      <td>1666</td>\n",
              "      <td>32354</td>\n",
              "      <td>0.000000</td>\n",
              "      <td>37.369999</td>\n",
              "      <td>41.189999</td>\n",
              "      <td>36.060001</td>\n",
              "      <td>39.119999</td>\n",
              "      <td>39.119999</td>\n",
              "      <td>33471800.0</td>\n",
              "      <td>2021-01-28 16:06:14</td>\n",
              "    </tr>\n",
              "    <tr>\n",
              "      <th>16</th>\n",
              "      <td>17</td>\n",
              "      <td>2021-01-21</td>\n",
              "      <td>-0.060459</td>\n",
              "      <td>1872</td>\n",
              "      <td>18212</td>\n",
              "      <td>0.502126</td>\n",
              "      <td>39.230000</td>\n",
              "      <td>44.750000</td>\n",
              "      <td>37.000000</td>\n",
              "      <td>43.029999</td>\n",
              "      <td>43.029999</td>\n",
              "      <td>57079800.0</td>\n",
              "      <td>2021-01-29 09:12:04</td>\n",
              "    </tr>\n",
              "    <tr>\n",
              "      <th>17</th>\n",
              "      <td>18</td>\n",
              "      <td>2021-01-22</td>\n",
              "      <td>-0.656387</td>\n",
              "      <td>97773</td>\n",
              "      <td>16935</td>\n",
              "      <td>1.039995</td>\n",
              "      <td>42.590000</td>\n",
              "      <td>76.760002</td>\n",
              "      <td>42.320000</td>\n",
              "      <td>65.010002</td>\n",
              "      <td>65.010002</td>\n",
              "      <td>197157900.0</td>\n",
              "      <td>2021-01-29 06:48:39</td>\n",
              "    </tr>\n",
              "    <tr>\n",
              "      <th>20</th>\n",
              "      <td>21</td>\n",
              "      <td>2021-01-25</td>\n",
              "      <td>0.453548</td>\n",
              "      <td>108806</td>\n",
              "      <td>91140</td>\n",
              "      <td>3.037273</td>\n",
              "      <td>96.730003</td>\n",
              "      <td>159.179993</td>\n",
              "      <td>61.130001</td>\n",
              "      <td>76.790001</td>\n",
              "      <td>76.790001</td>\n",
              "      <td>177874000.0</td>\n",
              "      <td>2021-01-29 11:10:53</td>\n",
              "    </tr>\n",
              "    <tr>\n",
              "      <th>21</th>\n",
              "      <td>22</td>\n",
              "      <td>2021-01-26</td>\n",
              "      <td>1.040560</td>\n",
              "      <td>212898</td>\n",
              "      <td>319910</td>\n",
              "      <td>5.712535</td>\n",
              "      <td>88.559998</td>\n",
              "      <td>150.000000</td>\n",
              "      <td>80.199997</td>\n",
              "      <td>147.979996</td>\n",
              "      <td>147.979996</td>\n",
              "      <td>178588000.0</td>\n",
              "      <td>2021-01-29 03:30:30</td>\n",
              "    </tr>\n",
              "    <tr>\n",
              "      <th>22</th>\n",
              "      <td>23</td>\n",
              "      <td>2021-01-27</td>\n",
              "      <td>0.769923</td>\n",
              "      <td>238314</td>\n",
              "      <td>603633</td>\n",
              "      <td>7.303223</td>\n",
              "      <td>354.829987</td>\n",
              "      <td>380.000000</td>\n",
              "      <td>249.000000</td>\n",
              "      <td>347.510010</td>\n",
              "      <td>347.510010</td>\n",
              "      <td>93396700.0</td>\n",
              "      <td>2021-01-28 05:29:26</td>\n",
              "    </tr>\n",
              "    <tr>\n",
              "      <th>23</th>\n",
              "      <td>24</td>\n",
              "      <td>2021-01-28</td>\n",
              "      <td>2.293112</td>\n",
              "      <td>514140</td>\n",
              "      <td>1252767</td>\n",
              "      <td>13.428364</td>\n",
              "      <td>265.000000</td>\n",
              "      <td>483.000000</td>\n",
              "      <td>112.250000</td>\n",
              "      <td>193.600006</td>\n",
              "      <td>193.600006</td>\n",
              "      <td>58815800.0</td>\n",
              "      <td>2021-01-29 04:39:53</td>\n",
              "    </tr>\n",
              "  </tbody>\n",
              "</table>\n",
              "</div>"
            ],
            "text/plain": [
              "    Unnamed: 0        Date  ...       Volume           timestamp\n",
              "0            1  2020-04-02  ...    4064300.0 2021-01-29 00:40:34\n",
              "1            2  2020-10-09  ...   77152800.0 2021-01-29 08:06:23\n",
              "2            3  2020-10-13  ...   10179700.0 2021-01-29 00:49:11\n",
              "3            4  2020-11-16  ...    9774800.0 2021-01-28 08:15:35\n",
              "4            5  2020-11-30  ...   31983500.0 2021-01-28 11:57:32\n",
              "5            6  2020-12-04  ...    8972700.0 2021-01-29 12:35:58\n",
              "6            7  2020-12-10  ...    7558900.0 2021-01-29 05:42:01\n",
              "7            8  2020-12-23  ...   25830300.0 2021-01-29 08:47:55\n",
              "8            9  2020-12-31  ...    6922700.0 2021-01-28 08:55:22\n",
              "9           10  2021-01-11  ...   14927600.0 2021-01-29 08:33:21\n",
              "10          11  2021-01-14  ...   93717400.0 2021-01-29 01:32:00\n",
              "11          12  2021-01-15  ...   46866400.0 2021-01-29 10:18:35\n",
              "14          15  2021-01-19  ...   74721900.0 2021-01-29 08:10:30\n",
              "15          16  2021-01-20  ...   33471800.0 2021-01-28 16:06:14\n",
              "16          17  2021-01-21  ...   57079800.0 2021-01-29 09:12:04\n",
              "17          18  2021-01-22  ...  197157900.0 2021-01-29 06:48:39\n",
              "20          21  2021-01-25  ...  177874000.0 2021-01-29 11:10:53\n",
              "21          22  2021-01-26  ...  178588000.0 2021-01-29 03:30:30\n",
              "22          23  2021-01-27  ...   93396700.0 2021-01-28 05:29:26\n",
              "23          24  2021-01-28  ...   58815800.0 2021-01-29 04:39:53\n",
              "\n",
              "[20 rows x 13 columns]"
            ]
          },
          "metadata": {
            "tags": []
          },
          "execution_count": 16
        }
      ]
    },
    {
      "cell_type": "code",
      "metadata": {
        "id": "-Oonzeenkrfq"
      },
      "source": [
        "from sklearn.neural_network import MLPRegressor\n",
        "from sklearn.datasets import make_regression\n",
        "from sklearn.model_selection import train_test_split"
      ],
      "execution_count": null,
      "outputs": []
    },
    {
      "cell_type": "code",
      "metadata": {
        "id": "XzeMCDzLk2dD"
      },
      "source": [
        "#defining X variable\n",
        "X = df_agg[['TB_polarity','score', 'num_comments']]\n",
        "\n",
        "#defining Y variable\n",
        "y = df_agg['Close']\n",
        "\n",
        "#spliting test and training sets\n",
        "# X, y = make_regression(n_samples=200, random_state=1)\n",
        "X_train, X_test, y_train, y_test = train_test_split(X, y, random_state=1)"
      ],
      "execution_count": null,
      "outputs": []
    },
    {
      "cell_type": "code",
      "metadata": {
        "colab": {
          "base_uri": "https://localhost:8080/",
          "height": 824
        },
        "id": "VFqZw6nDx_Oo",
        "outputId": "abe9db86-7c57-4301-f71f-07dd9ea9b260"
      },
      "source": [
        "X"
      ],
      "execution_count": null,
      "outputs": [
        {
          "output_type": "execute_result",
          "data": {
            "text/html": [
              "<div>\n",
              "<style scoped>\n",
              "    .dataframe tbody tr th:only-of-type {\n",
              "        vertical-align: middle;\n",
              "    }\n",
              "\n",
              "    .dataframe tbody tr th {\n",
              "        vertical-align: top;\n",
              "    }\n",
              "\n",
              "    .dataframe thead th {\n",
              "        text-align: right;\n",
              "    }\n",
              "</style>\n",
              "<table border=\"1\" class=\"dataframe\">\n",
              "  <thead>\n",
              "    <tr style=\"text-align: right;\">\n",
              "      <th></th>\n",
              "      <th>TB_polarity</th>\n",
              "      <th>score</th>\n",
              "      <th>num_comments</th>\n",
              "    </tr>\n",
              "  </thead>\n",
              "  <tbody>\n",
              "    <tr>\n",
              "      <th>0</th>\n",
              "      <td>-0.013636</td>\n",
              "      <td>1887</td>\n",
              "      <td>759</td>\n",
              "    </tr>\n",
              "    <tr>\n",
              "      <th>1</th>\n",
              "      <td>0.000000</td>\n",
              "      <td>14480</td>\n",
              "      <td>1144</td>\n",
              "    </tr>\n",
              "    <tr>\n",
              "      <th>2</th>\n",
              "      <td>0.095990</td>\n",
              "      <td>52522</td>\n",
              "      <td>1580</td>\n",
              "    </tr>\n",
              "    <tr>\n",
              "      <th>3</th>\n",
              "      <td>0.004729</td>\n",
              "      <td>2011</td>\n",
              "      <td>625</td>\n",
              "    </tr>\n",
              "    <tr>\n",
              "      <th>4</th>\n",
              "      <td>0.000000</td>\n",
              "      <td>11099</td>\n",
              "      <td>796</td>\n",
              "    </tr>\n",
              "    <tr>\n",
              "      <th>5</th>\n",
              "      <td>0.028579</td>\n",
              "      <td>1021</td>\n",
              "      <td>475</td>\n",
              "    </tr>\n",
              "    <tr>\n",
              "      <th>6</th>\n",
              "      <td>0.114336</td>\n",
              "      <td>441</td>\n",
              "      <td>254</td>\n",
              "    </tr>\n",
              "    <tr>\n",
              "      <th>7</th>\n",
              "      <td>0.149444</td>\n",
              "      <td>12378</td>\n",
              "      <td>1247</td>\n",
              "    </tr>\n",
              "    <tr>\n",
              "      <th>8</th>\n",
              "      <td>-0.246642</td>\n",
              "      <td>21693</td>\n",
              "      <td>4516</td>\n",
              "    </tr>\n",
              "    <tr>\n",
              "      <th>9</th>\n",
              "      <td>-0.047917</td>\n",
              "      <td>41576</td>\n",
              "      <td>2655</td>\n",
              "    </tr>\n",
              "    <tr>\n",
              "      <th>10</th>\n",
              "      <td>0.258171</td>\n",
              "      <td>62754</td>\n",
              "      <td>4320</td>\n",
              "    </tr>\n",
              "    <tr>\n",
              "      <th>11</th>\n",
              "      <td>0.050000</td>\n",
              "      <td>64193</td>\n",
              "      <td>4019</td>\n",
              "    </tr>\n",
              "    <tr>\n",
              "      <th>12</th>\n",
              "      <td>0.000000</td>\n",
              "      <td>23310</td>\n",
              "      <td>837</td>\n",
              "    </tr>\n",
              "    <tr>\n",
              "      <th>13</th>\n",
              "      <td>0.191694</td>\n",
              "      <td>17809</td>\n",
              "      <td>3146</td>\n",
              "    </tr>\n",
              "    <tr>\n",
              "      <th>14</th>\n",
              "      <td>-0.159524</td>\n",
              "      <td>11987</td>\n",
              "      <td>48192</td>\n",
              "    </tr>\n",
              "    <tr>\n",
              "      <th>15</th>\n",
              "      <td>0.000000</td>\n",
              "      <td>32354</td>\n",
              "      <td>1666</td>\n",
              "    </tr>\n",
              "    <tr>\n",
              "      <th>16</th>\n",
              "      <td>-0.060459</td>\n",
              "      <td>18212</td>\n",
              "      <td>1872</td>\n",
              "    </tr>\n",
              "    <tr>\n",
              "      <th>17</th>\n",
              "      <td>-0.656387</td>\n",
              "      <td>16935</td>\n",
              "      <td>97773</td>\n",
              "    </tr>\n",
              "    <tr>\n",
              "      <th>18</th>\n",
              "      <td>0.735640</td>\n",
              "      <td>125004</td>\n",
              "      <td>12468</td>\n",
              "    </tr>\n",
              "    <tr>\n",
              "      <th>19</th>\n",
              "      <td>0.078626</td>\n",
              "      <td>22174</td>\n",
              "      <td>6390</td>\n",
              "    </tr>\n",
              "    <tr>\n",
              "      <th>20</th>\n",
              "      <td>0.453548</td>\n",
              "      <td>91140</td>\n",
              "      <td>108806</td>\n",
              "    </tr>\n",
              "    <tr>\n",
              "      <th>21</th>\n",
              "      <td>1.040560</td>\n",
              "      <td>319910</td>\n",
              "      <td>212898</td>\n",
              "    </tr>\n",
              "    <tr>\n",
              "      <th>22</th>\n",
              "      <td>0.769923</td>\n",
              "      <td>603633</td>\n",
              "      <td>238314</td>\n",
              "    </tr>\n",
              "    <tr>\n",
              "      <th>23</th>\n",
              "      <td>2.293112</td>\n",
              "      <td>1252767</td>\n",
              "      <td>514140</td>\n",
              "    </tr>\n",
              "    <tr>\n",
              "      <th>24</th>\n",
              "      <td>1.332608</td>\n",
              "      <td>1915313</td>\n",
              "      <td>371014</td>\n",
              "    </tr>\n",
              "  </tbody>\n",
              "</table>\n",
              "</div>"
            ],
            "text/plain": [
              "    TB_polarity    score  num_comments\n",
              "0     -0.013636     1887           759\n",
              "1      0.000000    14480          1144\n",
              "2      0.095990    52522          1580\n",
              "3      0.004729     2011           625\n",
              "4      0.000000    11099           796\n",
              "5      0.028579     1021           475\n",
              "6      0.114336      441           254\n",
              "7      0.149444    12378          1247\n",
              "8     -0.246642    21693          4516\n",
              "9     -0.047917    41576          2655\n",
              "10     0.258171    62754          4320\n",
              "11     0.050000    64193          4019\n",
              "12     0.000000    23310           837\n",
              "13     0.191694    17809          3146\n",
              "14    -0.159524    11987         48192\n",
              "15     0.000000    32354          1666\n",
              "16    -0.060459    18212          1872\n",
              "17    -0.656387    16935         97773\n",
              "18     0.735640   125004         12468\n",
              "19     0.078626    22174          6390\n",
              "20     0.453548    91140        108806\n",
              "21     1.040560   319910        212898\n",
              "22     0.769923   603633        238314\n",
              "23     2.293112  1252767        514140\n",
              "24     1.332608  1915313        371014"
            ]
          },
          "metadata": {
            "tags": []
          },
          "execution_count": 21
        }
      ]
    },
    {
      "cell_type": "code",
      "metadata": {
        "colab": {
          "base_uri": "https://localhost:8080/",
          "height": 375
        },
        "id": "amwM49Iqk41a",
        "outputId": "d17fdd84-3928-4c99-a8ce-66b782cce8c1"
      },
      "source": [
        "#train the model\n",
        "regr = MLPRegressor(random_state=1, max_iter=500).fit(X_train, y_train)\n",
        "\n",
        "#predict\n",
        "regr.predict(X_test[:4])"
      ],
      "execution_count": null,
      "outputs": [
        {
          "output_type": "error",
          "ename": "ValueError",
          "evalue": "ignored",
          "traceback": [
            "\u001b[0;31m---------------------------------------------------------------------------\u001b[0m",
            "\u001b[0;31mValueError\u001b[0m                                Traceback (most recent call last)",
            "\u001b[0;32m<ipython-input-22-c8aff03a0fcb>\u001b[0m in \u001b[0;36m<module>\u001b[0;34m()\u001b[0m\n\u001b[1;32m      1\u001b[0m \u001b[0;31m#train the model\u001b[0m\u001b[0;34m\u001b[0m\u001b[0;34m\u001b[0m\u001b[0;34m\u001b[0m\u001b[0m\n\u001b[0;32m----> 2\u001b[0;31m \u001b[0mregr\u001b[0m \u001b[0;34m=\u001b[0m \u001b[0mMLPRegressor\u001b[0m\u001b[0;34m(\u001b[0m\u001b[0mrandom_state\u001b[0m\u001b[0;34m=\u001b[0m\u001b[0;36m1\u001b[0m\u001b[0;34m,\u001b[0m \u001b[0mmax_iter\u001b[0m\u001b[0;34m=\u001b[0m\u001b[0;36m500\u001b[0m\u001b[0;34m)\u001b[0m\u001b[0;34m.\u001b[0m\u001b[0mfit\u001b[0m\u001b[0;34m(\u001b[0m\u001b[0mX_train\u001b[0m\u001b[0;34m,\u001b[0m \u001b[0my_train\u001b[0m\u001b[0;34m)\u001b[0m\u001b[0;34m\u001b[0m\u001b[0;34m\u001b[0m\u001b[0m\n\u001b[0m\u001b[1;32m      3\u001b[0m \u001b[0;34m\u001b[0m\u001b[0m\n\u001b[1;32m      4\u001b[0m \u001b[0;31m#predict\u001b[0m\u001b[0;34m\u001b[0m\u001b[0;34m\u001b[0m\u001b[0;34m\u001b[0m\u001b[0m\n\u001b[1;32m      5\u001b[0m \u001b[0mregr\u001b[0m\u001b[0;34m.\u001b[0m\u001b[0mpredict\u001b[0m\u001b[0;34m(\u001b[0m\u001b[0mX_test\u001b[0m\u001b[0;34m[\u001b[0m\u001b[0;34m:\u001b[0m\u001b[0;36m4\u001b[0m\u001b[0;34m]\u001b[0m\u001b[0;34m)\u001b[0m\u001b[0;34m\u001b[0m\u001b[0;34m\u001b[0m\u001b[0m\n",
            "\u001b[0;32m/usr/local/lib/python3.7/dist-packages/sklearn/neural_network/_multilayer_perceptron.py\u001b[0m in \u001b[0;36mfit\u001b[0;34m(self, X, y)\u001b[0m\n\u001b[1;32m    625\u001b[0m         \u001b[0mself\u001b[0m \u001b[0;34m:\u001b[0m \u001b[0mreturns\u001b[0m \u001b[0ma\u001b[0m \u001b[0mtrained\u001b[0m \u001b[0mMLP\u001b[0m \u001b[0mmodel\u001b[0m\u001b[0;34m.\u001b[0m\u001b[0;34m\u001b[0m\u001b[0;34m\u001b[0m\u001b[0m\n\u001b[1;32m    626\u001b[0m         \"\"\"\n\u001b[0;32m--> 627\u001b[0;31m         \u001b[0;32mreturn\u001b[0m \u001b[0mself\u001b[0m\u001b[0;34m.\u001b[0m\u001b[0m_fit\u001b[0m\u001b[0;34m(\u001b[0m\u001b[0mX\u001b[0m\u001b[0;34m,\u001b[0m \u001b[0my\u001b[0m\u001b[0;34m,\u001b[0m \u001b[0mincremental\u001b[0m\u001b[0;34m=\u001b[0m\u001b[0;32mFalse\u001b[0m\u001b[0;34m)\u001b[0m\u001b[0;34m\u001b[0m\u001b[0;34m\u001b[0m\u001b[0m\n\u001b[0m\u001b[1;32m    628\u001b[0m \u001b[0;34m\u001b[0m\u001b[0m\n\u001b[1;32m    629\u001b[0m     \u001b[0;34m@\u001b[0m\u001b[0mproperty\u001b[0m\u001b[0;34m\u001b[0m\u001b[0;34m\u001b[0m\u001b[0m\n",
            "\u001b[0;32m/usr/local/lib/python3.7/dist-packages/sklearn/neural_network/_multilayer_perceptron.py\u001b[0m in \u001b[0;36m_fit\u001b[0;34m(self, X, y, incremental)\u001b[0m\n\u001b[1;32m    323\u001b[0m                              hidden_layer_sizes)\n\u001b[1;32m    324\u001b[0m \u001b[0;34m\u001b[0m\u001b[0m\n\u001b[0;32m--> 325\u001b[0;31m         \u001b[0mX\u001b[0m\u001b[0;34m,\u001b[0m \u001b[0my\u001b[0m \u001b[0;34m=\u001b[0m \u001b[0mself\u001b[0m\u001b[0;34m.\u001b[0m\u001b[0m_validate_input\u001b[0m\u001b[0;34m(\u001b[0m\u001b[0mX\u001b[0m\u001b[0;34m,\u001b[0m \u001b[0my\u001b[0m\u001b[0;34m,\u001b[0m \u001b[0mincremental\u001b[0m\u001b[0;34m)\u001b[0m\u001b[0;34m\u001b[0m\u001b[0;34m\u001b[0m\u001b[0m\n\u001b[0m\u001b[1;32m    326\u001b[0m         \u001b[0mn_samples\u001b[0m\u001b[0;34m,\u001b[0m \u001b[0mn_features\u001b[0m \u001b[0;34m=\u001b[0m \u001b[0mX\u001b[0m\u001b[0;34m.\u001b[0m\u001b[0mshape\u001b[0m\u001b[0;34m\u001b[0m\u001b[0;34m\u001b[0m\u001b[0m\n\u001b[1;32m    327\u001b[0m \u001b[0;34m\u001b[0m\u001b[0m\n",
            "\u001b[0;32m/usr/local/lib/python3.7/dist-packages/sklearn/neural_network/_multilayer_perceptron.py\u001b[0m in \u001b[0;36m_validate_input\u001b[0;34m(self, X, y, incremental)\u001b[0m\n\u001b[1;32m   1338\u001b[0m     \u001b[0;32mdef\u001b[0m \u001b[0m_validate_input\u001b[0m\u001b[0;34m(\u001b[0m\u001b[0mself\u001b[0m\u001b[0;34m,\u001b[0m \u001b[0mX\u001b[0m\u001b[0;34m,\u001b[0m \u001b[0my\u001b[0m\u001b[0;34m,\u001b[0m \u001b[0mincremental\u001b[0m\u001b[0;34m)\u001b[0m\u001b[0;34m:\u001b[0m\u001b[0;34m\u001b[0m\u001b[0;34m\u001b[0m\u001b[0m\n\u001b[1;32m   1339\u001b[0m         X, y = check_X_y(X, y, accept_sparse=['csr', 'csc', 'coo'],\n\u001b[0;32m-> 1340\u001b[0;31m                          multi_output=True, y_numeric=True)\n\u001b[0m\u001b[1;32m   1341\u001b[0m         \u001b[0;32mif\u001b[0m \u001b[0my\u001b[0m\u001b[0;34m.\u001b[0m\u001b[0mndim\u001b[0m \u001b[0;34m==\u001b[0m \u001b[0;36m2\u001b[0m \u001b[0;32mand\u001b[0m \u001b[0my\u001b[0m\u001b[0;34m.\u001b[0m\u001b[0mshape\u001b[0m\u001b[0;34m[\u001b[0m\u001b[0;36m1\u001b[0m\u001b[0;34m]\u001b[0m \u001b[0;34m==\u001b[0m \u001b[0;36m1\u001b[0m\u001b[0;34m:\u001b[0m\u001b[0;34m\u001b[0m\u001b[0;34m\u001b[0m\u001b[0m\n\u001b[1;32m   1342\u001b[0m             \u001b[0my\u001b[0m \u001b[0;34m=\u001b[0m \u001b[0mcolumn_or_1d\u001b[0m\u001b[0;34m(\u001b[0m\u001b[0my\u001b[0m\u001b[0;34m,\u001b[0m \u001b[0mwarn\u001b[0m\u001b[0;34m=\u001b[0m\u001b[0;32mTrue\u001b[0m\u001b[0;34m)\u001b[0m\u001b[0;34m\u001b[0m\u001b[0;34m\u001b[0m\u001b[0m\n",
            "\u001b[0;32m/usr/local/lib/python3.7/dist-packages/sklearn/utils/validation.py\u001b[0m in \u001b[0;36mcheck_X_y\u001b[0;34m(X, y, accept_sparse, accept_large_sparse, dtype, order, copy, force_all_finite, ensure_2d, allow_nd, multi_output, ensure_min_samples, ensure_min_features, y_numeric, warn_on_dtype, estimator)\u001b[0m\n\u001b[1;32m    756\u001b[0m     \u001b[0;32mif\u001b[0m \u001b[0mmulti_output\u001b[0m\u001b[0;34m:\u001b[0m\u001b[0;34m\u001b[0m\u001b[0;34m\u001b[0m\u001b[0m\n\u001b[1;32m    757\u001b[0m         y = check_array(y, 'csr', force_all_finite=True, ensure_2d=False,\n\u001b[0;32m--> 758\u001b[0;31m                         dtype=None)\n\u001b[0m\u001b[1;32m    759\u001b[0m     \u001b[0;32melse\u001b[0m\u001b[0;34m:\u001b[0m\u001b[0;34m\u001b[0m\u001b[0;34m\u001b[0m\u001b[0m\n\u001b[1;32m    760\u001b[0m         \u001b[0my\u001b[0m \u001b[0;34m=\u001b[0m \u001b[0mcolumn_or_1d\u001b[0m\u001b[0;34m(\u001b[0m\u001b[0my\u001b[0m\u001b[0;34m,\u001b[0m \u001b[0mwarn\u001b[0m\u001b[0;34m=\u001b[0m\u001b[0;32mTrue\u001b[0m\u001b[0;34m)\u001b[0m\u001b[0;34m\u001b[0m\u001b[0;34m\u001b[0m\u001b[0m\n",
            "\u001b[0;32m/usr/local/lib/python3.7/dist-packages/sklearn/utils/validation.py\u001b[0m in \u001b[0;36mcheck_array\u001b[0;34m(array, accept_sparse, accept_large_sparse, dtype, order, copy, force_all_finite, ensure_2d, allow_nd, ensure_min_samples, ensure_min_features, warn_on_dtype, estimator)\u001b[0m\n\u001b[1;32m    576\u001b[0m         \u001b[0;32mif\u001b[0m \u001b[0mforce_all_finite\u001b[0m\u001b[0;34m:\u001b[0m\u001b[0;34m\u001b[0m\u001b[0;34m\u001b[0m\u001b[0m\n\u001b[1;32m    577\u001b[0m             _assert_all_finite(array,\n\u001b[0;32m--> 578\u001b[0;31m                                allow_nan=force_all_finite == 'allow-nan')\n\u001b[0m\u001b[1;32m    579\u001b[0m \u001b[0;34m\u001b[0m\u001b[0m\n\u001b[1;32m    580\u001b[0m     \u001b[0;32mif\u001b[0m \u001b[0mensure_min_samples\u001b[0m \u001b[0;34m>\u001b[0m \u001b[0;36m0\u001b[0m\u001b[0;34m:\u001b[0m\u001b[0;34m\u001b[0m\u001b[0;34m\u001b[0m\u001b[0m\n",
            "\u001b[0;32m/usr/local/lib/python3.7/dist-packages/sklearn/utils/validation.py\u001b[0m in \u001b[0;36m_assert_all_finite\u001b[0;34m(X, allow_nan, msg_dtype)\u001b[0m\n\u001b[1;32m     58\u001b[0m                     \u001b[0mmsg_err\u001b[0m\u001b[0;34m.\u001b[0m\u001b[0mformat\u001b[0m\u001b[0;34m\u001b[0m\u001b[0;34m\u001b[0m\u001b[0m\n\u001b[1;32m     59\u001b[0m                     (type_err,\n\u001b[0;32m---> 60\u001b[0;31m                      msg_dtype if msg_dtype is not None else X.dtype)\n\u001b[0m\u001b[1;32m     61\u001b[0m             )\n\u001b[1;32m     62\u001b[0m     \u001b[0;31m# for object dtype data, we only check for NaNs (GH-13254)\u001b[0m\u001b[0;34m\u001b[0m\u001b[0;34m\u001b[0m\u001b[0;34m\u001b[0m\u001b[0m\n",
            "\u001b[0;31mValueError\u001b[0m: Input contains NaN, infinity or a value too large for dtype('float64')."
          ]
        }
      ]
    },
    {
      "cell_type": "markdown",
      "metadata": {
        "id": "bIKxObyiL-7c"
      },
      "source": [
        "# Notes and References\n",
        "\n",
        "*   \n",
        "*   \n",
        "\n"
      ]
    },
    {
      "cell_type": "code",
      "metadata": {
        "id": "qL8W-qAtMIIL"
      },
      "source": [
        ""
      ],
      "execution_count": null,
      "outputs": []
    }
  ]
}